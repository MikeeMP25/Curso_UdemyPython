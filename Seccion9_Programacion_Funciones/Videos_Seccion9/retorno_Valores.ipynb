{
 "cells": [
  {
   "cell_type": "code",
   "execution_count": 1,
   "id": "98b7b07c",
   "metadata": {},
   "outputs": [
    {
     "data": {
      "text/plain": [
       "('una cadena',\n",
       " 20,\n",
       " 20.645,\n",
       " [1, 2, 3],\n",
       " {'Carro': 'Mustang', 'Modelo': 2015, 'Precio': 120452.5})"
      ]
     },
     "execution_count": 1,
     "metadata": {},
     "output_type": "execute_result"
    }
   ],
   "source": [
    "#Una metodo puede retornar multiples valores de diferente tipo separado por coma(,)\n",
    "def test():\n",
    "    return \"una cadena\",20,20.645,[1,2,3],{\"Carro\":\"Mustang\",\"Modelo\":2015,\"Precio\":120452.50}\n",
    "test()"
   ]
  },
  {
   "cell_type": "code",
   "execution_count": 2,
   "id": "9509c274",
   "metadata": {},
   "outputs": [],
   "source": [
    "#Es una dupla nos permite una asignacion multiple\n",
    "cadena,intero,flotante,lista,dirc=test()"
   ]
  },
  {
   "cell_type": "code",
   "execution_count": 3,
   "id": "510fe2ac",
   "metadata": {},
   "outputs": [
    {
     "data": {
      "text/plain": [
       "{'Carro': 'Mustang', 'Modelo': 2015, 'Precio': 120452.5}"
      ]
     },
     "execution_count": 3,
     "metadata": {},
     "output_type": "execute_result"
    }
   ],
   "source": [
    "dirc"
   ]
  },
  {
   "cell_type": "code",
   "execution_count": 5,
   "id": "20d9f381",
   "metadata": {},
   "outputs": [
    {
     "name": "stdout",
     "output_type": "stream",
     "text": [
      "Carro Mustang\n",
      "Modelo 2015\n",
      "Precio 120452.5\n"
     ]
    }
   ],
   "source": [
    "for clave,valor in dirc.items():\n",
    "    print(clave,valor)"
   ]
  },
  {
   "cell_type": "code",
   "execution_count": 7,
   "id": "9e642d7f",
   "metadata": {},
   "outputs": [
    {
     "name": "stdout",
     "output_type": "stream",
     "text": [
      "10\n",
      "412.9\n",
      "[1, 2]\n"
     ]
    }
   ],
   "source": [
    "print(len(cadena))\n",
    "print(intero*flotante)\n",
    "print(lista[:2])\n"
   ]
  }
 ],
 "metadata": {
  "kernelspec": {
   "display_name": "Python 3 (ipykernel)",
   "language": "python",
   "name": "python3"
  },
  "language_info": {
   "codemirror_mode": {
    "name": "ipython",
    "version": 3
   },
   "file_extension": ".py",
   "mimetype": "text/x-python",
   "name": "python",
   "nbconvert_exporter": "python",
   "pygments_lexer": "ipython3",
   "version": "3.10.8"
  }
 },
 "nbformat": 4,
 "nbformat_minor": 5
}
