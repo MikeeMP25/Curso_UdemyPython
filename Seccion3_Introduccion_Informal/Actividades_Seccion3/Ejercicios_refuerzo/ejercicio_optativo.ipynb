{
 "cells": [
  {
   "cell_type": "code",
   "execution_count": 2,
   "id": "668ea475",
   "metadata": {},
   "outputs": [
    {
     "name": "stdout",
     "output_type": "stream",
     "text": [
      "La nota media es: 6.0\n"
     ]
    }
   ],
   "source": [
    "numero_1=9\n",
    "numero_2=3\n",
    "numero_3=6\n",
    "\n",
    "media=(numero_1+numero_2+numero_3)/3\n",
    "#nota: para hacer la prioridad en la operaciones usamos los ()\n",
    "print(\"La nota media es:\", media)"
   ]
  },
  {
   "cell_type": "code",
   "execution_count": 4,
   "id": "9c762844",
   "metadata": {},
   "outputs": [
    {
     "name": "stdout",
     "output_type": "stream",
     "text": [
      "La nota final es: 5.949999999999999\n"
     ]
    }
   ],
   "source": [
    "#Desarrolla un programa para calcular perfectamente la nota final\n",
    "nota_1=10 # la primera nota vale un 15% del total\n",
    "nota_2=7 #la segunda nota vale un 35% del total\n",
    "nota_3=4 #la tercera nota vale un 50% del total\n",
    "\n",
    "nota_final=(nota_1*.15)+(nota_2*.35)+(nota_3*.50)\n",
    "\n",
    "print(\"La nota final es:\",nota_final)"
   ]
  },
  {
   "cell_type": "code",
   "execution_count": 5,
   "id": "8f8d615b",
   "metadata": {},
   "outputs": [
    {
     "name": "stdout",
     "output_type": "stream",
     "text": [
      "[[1, 1, 1, 3], [2, 2, 2, 6], [3, 3, 3, 9], [4, 4, 4, 12]]\n"
     ]
    }
   ],
   "source": [
    "#La siguiente matriz (o lista con listas anidades) debe cumplir una condicion ,y es que en cada \n",
    "#el cuatro elemento siempre debe ser resultado de sumar los tres primeros. ¿Eres capaz de \n",
    "#modificar las sumas incorrectas utilizando la tecnica de slicing?\n",
    "matriz =[\n",
    "    [1,1,1,3],\n",
    "    [2,2,2,7],\n",
    "    [3,3,3,9],\n",
    "    [4,4,4,13]\n",
    "]\n",
    "# Completa el ejercicio aqui\n",
    "matriz[1][-1]=sum(matriz[1][:-1])\n",
    "matriz[-1][-1]=sum(matriz[-1][:-1])\n",
    "\n",
    "print(matriz)"
   ]
  },
  {
   "cell_type": "code",
   "execution_count": 8,
   "id": "d220b26d",
   "metadata": {},
   "outputs": [
    {
     "name": "stdout",
     "output_type": "stream",
     "text": [
      "Juan Perez ha sacado un 10\n"
     ]
    }
   ],
   "source": [
    "cadena=\"zereP nauJ,01\"\n",
    "\n",
    "cadena_volteada=cadena[::-1]\n",
    "\n",
    "nombre_apellido=cadena_volteada[3:]\n",
    "print(nombre_apellido,\"ha sacado un\",cadena_volteada[0:2])"
   ]
  }
 ],
 "metadata": {
  "kernelspec": {
   "display_name": "Python 3 (ipykernel)",
   "language": "python",
   "name": "python3"
  },
  "language_info": {
   "codemirror_mode": {
    "name": "ipython",
    "version": 3
   },
   "file_extension": ".py",
   "mimetype": "text/x-python",
   "name": "python",
   "nbconvert_exporter": "python",
   "pygments_lexer": "ipython3",
   "version": "3.10.8"
  }
 },
 "nbformat": 4,
 "nbformat_minor": 5
}
