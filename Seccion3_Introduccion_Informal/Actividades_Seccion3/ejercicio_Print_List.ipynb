{
 "cells": [
  {
   "cell_type": "code",
   "execution_count": 1,
   "id": "f9d58001",
   "metadata": {},
   "outputs": [
    {
     "name": "stdout",
     "output_type": "stream",
     "text": [
      "123\n",
      "-21\n",
      "3.14\n",
      "999.999\n",
      "100\n",
      "777\n"
     ]
    }
   ],
   "source": [
    "#EJERCICIO DE CODIFICACION 1: PRINT\n",
    "#imprime en pantalla el siguiente codigo \n",
    "#123\n",
    "#-21\n",
    "#3.14\n",
    "#999.999\n",
    "#100\n",
    "#777\n",
    "print(123)\n",
    "print(-21)\n",
    "print(3.14)\n",
    "print(999.999)\n",
    "print(100)\n",
    "print(777)"
   ]
  },
  {
   "cell_type": "code",
   "execution_count": null,
   "id": "b30236a4",
   "metadata": {},
   "outputs": [],
   "source": [
    "#EJERCICIO DE CODIFICACION 2: VARIABLES\n",
    "\n",
    "#variables del ejercicio\n",
    "#la primer examen nota_1 vale el 40% de la nota_final\n",
    "#la segundo examen nota_2 vale el 60% de la nota_final \n",
    "nota_1=10\n",
    "nota_2=6\n",
    "\n",
    "#Calcula correctamente la nota_final\n",
    "nota_final=(nota_1*4/10)+(nota_2*6/10)\n",
    "nota_final "
   ]
  },
  {
   "cell_type": "code",
   "execution_count": 2,
   "id": "e31cef5b",
   "metadata": {},
   "outputs": [
    {
     "name": "stdout",
     "output_type": "stream",
     "text": [
      "Python es un lenguaje de programación moderno\n"
     ]
    }
   ],
   "source": [
    "#EJERCICIO DE CODIFICACION 3: TEXTOS \n",
    "\n",
    "# no modifiques el nombre de ninguna variable, pero puedes crear nuevas\n",
    "cadena1=\"moderno\"\n",
    "cadena2=\"Python\"\n",
    "cadena4=\"de programación\"\n",
    "cadena3=\"es un lenguaje\"\n",
    "\n",
    "#completa el ejercio\n",
    "cadena5=cadena2+\" \"+cadena3+\" \"+cadena4+\" \"+cadena1\n",
    "print(cadena5)"
   ]
  },
  {
   "cell_type": "code",
   "execution_count": 3,
   "id": "cd978348",
   "metadata": {},
   "outputs": [
    {
     "name": "stdout",
     "output_type": "stream",
     "text": [
      "Cadena corrupta:  airotsiH,6.7,aícraG nómaR\n",
      "El contenido de la cadena: [Ramón García,7.6,Historia] contiene 25 caracteres\n"
     ]
    }
   ],
   "source": [
    "#EJERCICIO DE CODIFICACION 4:SLICING\n",
    "\n",
    "#Python es un lenguaje de programación moderno\n",
    "#Variables del ejercicio (no las modifiques)\n",
    "cadena_corrupta=\"airotsiH,6.7,aícraG nómaR\"\n",
    "\n",
    "print(\"Cadena corrupta: \",cadena_corrupta)\n",
    "\n",
    "# Completa el ejercicio\n",
    "cadena_volteada=cadena_corrupta[::-1]\n",
    "logitud=len(cadena_volteada)\n",
    "cadena_normal=\"El contenido de la cadena: [\"+cadena_volteada+\"] contiene \"+str(logitud)+\" caracteres\"\n",
    "\n",
    "print(cadena_normal)\n",
    "\n",
    "#[]utilice el Slicing para recorrer la cadena de texto mediante el numero de indice\n",
    "#Luego extraemos cada porcion de la cadena con [] en diferentes varibles\n",
    "nombre=cadena_volteada[0:12]\n",
    "nota=cadena_volteada[13:16]\n",
    "materia=cadena_volteada[-8:]\n",
    "\n",
    "# A partir de las variables extraídas generamos la cadena formateada\n",
    "resultado=nombre+\" ha sacado un \"+nota+\" en \"+materia\n",
    "\n",
    "print(resultado)\n"
   ]
  },
  {
   "cell_type": "code",
   "execution_count": 4,
   "id": "5fe7e7a8",
   "metadata": {},
   "outputs": [
    {
     "name": "stdout",
     "output_type": "stream",
     "text": [
      "['Ciao', 'Agur', 'Adieu', 'Adiós', 1, 12, 1234, 1234]\n"
     ]
    }
   ],
   "source": [
    "#EJERCICIO DE CODIFICACION 5: lISTAS\n",
    "#listas\n",
    "#utilizamos slicing para recorrer una lista especifica []slicing  \n",
    "#no modifiques el nombre de ninguna variable, puedes crear nuevas\n",
    "lista1=[1,12,1234]\n",
    "lista2=[\"bye\",\"Ciao\",\"Agur\",\"Adieu\"]\n",
    "\n",
    "lista1+=[1234,\"Hola\"]\n",
    "\n",
    "# Añadimos los elementos a la segunda lista\n",
    "lista2.append(\"Adiós\")\n",
    "lista2.append(1234)\n",
    "\n",
    "# Generamos la tercera lista con los elementos de la primera excepto el último\n",
    "lista3=lista1[0:-1]\n",
    "\n",
    "# Generamos la cuarta lista con los elementos de la segunda excepto el primero y el último\n",
    "lista4=lista2[1:-1]\n",
    "\n",
    "# Generamos la quinta lista sumando la cuarta y la tercera\n",
    "lista5=lista4+lista3\n",
    "\n",
    "print(lista5)"
   ]
  },
  {
   "cell_type": "code",
   "execution_count": null,
   "id": "239fb6a0",
   "metadata": {},
   "outputs": [],
   "source": []
  }
 ],
 "metadata": {
  "kernelspec": {
   "display_name": "Python 3 (ipykernel)",
   "language": "python",
   "name": "python3"
  },
  "language_info": {
   "codemirror_mode": {
    "name": "ipython",
    "version": 3
   },
   "file_extension": ".py",
   "mimetype": "text/x-python",
   "name": "python",
   "nbconvert_exporter": "python",
   "pygments_lexer": "ipython3",
   "version": "3.10.8"
  }
 },
 "nbformat": 4,
 "nbformat_minor": 5
}
