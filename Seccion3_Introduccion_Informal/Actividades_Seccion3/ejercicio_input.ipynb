{
 "cells": [
  {
   "cell_type": "code",
   "execution_count": 1,
   "id": "6be0053c",
   "metadata": {},
   "outputs": [
    {
     "name": "stdout",
     "output_type": "stream",
     "text": [
      "Ingresa el nombre(s): Jesus\n",
      "Ingresa el primer apellido: Miranda\n",
      "Ingresa la edad: 25\n",
      "Ingresa cualquier numero decimal o entero:15\n",
      "\n",
      "Jesus Miranda: Tu número de la suerte es el 375.0\n"
     ]
    }
   ],
   "source": [
    "#EJERCICIO DE CODIFICACION 6: INPUTS\n",
    "\n",
    "#Varibales\n",
    "nombre = input(\"Ingresa el nombre(s): \")\n",
    "apellido = input(\"Ingresa el primer apellido: \")\n",
    "edad=int(input(\"Ingresa la edad: \"))\n",
    "numero_magico=float(input(\"Ingresa cualquier numero decimal o entero:\"))\n",
    "\n",
    "cadena_final=nombre+\" \"+apellido+\": Tu número de la suerte es el \"+str(edad*numero_magico)\n",
    "print(\"\\n\"+cadena_final)"
   ]
  }
 ],
 "metadata": {
  "kernelspec": {
   "display_name": "Python 3 (ipykernel)",
   "language": "python",
   "name": "python3"
  },
  "language_info": {
   "codemirror_mode": {
    "name": "ipython",
    "version": 3
   },
   "file_extension": ".py",
   "mimetype": "text/x-python",
   "name": "python",
   "nbconvert_exporter": "python",
   "pygments_lexer": "ipython3",
   "version": "3.10.8"
  }
 },
 "nbformat": 4,
 "nbformat_minor": 5
}
