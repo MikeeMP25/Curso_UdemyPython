{
 "cells": [
  {
   "cell_type": "code",
   "execution_count": 7,
   "id": "bcdfa527",
   "metadata": {},
   "outputs": [],
   "source": [
    "#Importa mensajes.hola.saludos import puedes importar lo que ahi en modulo de mensajes \n",
    "#paquete mensajes subpaquete hola y el modulo saludos\n",
    "from mensajes.hola.saludos import *\n",
    "#paquete mensajes subpaquete adios y el modulo despedida\n",
    "from mensajes.adios.despedidas import *"
   ]
  },
  {
   "cell_type": "code",
   "execution_count": 3,
   "id": "5e53569c",
   "metadata": {},
   "outputs": [
    {
     "name": "stdout",
     "output_type": "stream",
     "text": [
      "hola, te saludo desde saludos.saludar()\n"
     ]
    }
   ],
   "source": [
    "saludar()"
   ]
  },
  {
   "cell_type": "code",
   "execution_count": 4,
   "id": "324a5ea6",
   "metadata": {},
   "outputs": [
    {
     "name": "stdout",
     "output_type": "stream",
     "text": [
      "Hola, te saludo desde Saludo.__init__() \n"
     ]
    },
    {
     "data": {
      "text/plain": [
       "<mensajes.hola.saludos.Saludo at 0x10ddabee0>"
      ]
     },
     "execution_count": 4,
     "metadata": {},
     "output_type": "execute_result"
    }
   ],
   "source": [
    "Saludo()"
   ]
  },
  {
   "cell_type": "code",
   "execution_count": 6,
   "id": "0f35b3b5",
   "metadata": {},
   "outputs": [
    {
     "name": "stdout",
     "output_type": "stream",
     "text": [
      "adios , me despido desde despedidas. despddir()\n"
     ]
    }
   ],
   "source": [
    "despedir()"
   ]
  },
  {
   "cell_type": "code",
   "execution_count": 8,
   "id": "bb90d0b4",
   "metadata": {},
   "outputs": [
    {
     "name": "stdout",
     "output_type": "stream",
     "text": [
      "Adios, me despido desde Despedida.__init__() \n"
     ]
    },
    {
     "data": {
      "text/plain": [
       "<mensajes.adios.despedidas.Despedida at 0x10dd91300>"
      ]
     },
     "execution_count": 8,
     "metadata": {},
     "output_type": "execute_result"
    }
   ],
   "source": [
    "Despedida()"
   ]
  },
  {
   "cell_type": "code",
   "execution_count": 9,
   "id": "e94b658f",
   "metadata": {},
   "outputs": [
    {
     "name": "stdout",
     "output_type": "stream",
     "text": [
      "Package              Version\n",
      "-------------------- -----------\n",
      "anyio                3.6.2\n",
      "appnope              0.1.3\n",
      "argon2-cffi          21.3.0\n",
      "argon2-cffi-bindings 21.2.0\n",
      "asttokens            2.1.0\n",
      "attrs                22.1.0\n",
      "backcall             0.2.0\n",
      "beautifulsoup4       4.11.1\n",
      "bleach               5.0.1\n",
      "cffi                 1.15.1\n",
      "debugpy              1.6.3\n",
      "decorator            5.1.1\n",
      "defusedxml           0.7.1\n",
      "entrypoints          0.4\n",
      "executing            1.2.0\n",
      "fastjsonschema       2.16.2\n",
      "idna                 3.4\n",
      "ipykernel            6.17.1\n",
      "ipython              8.6.0\n",
      "ipython-genutils     0.2.0\n",
      "jedi                 0.18.1\n",
      "Jinja2               3.1.2\n",
      "jsonschema           4.17.0\n",
      "jupyter_client       7.4.6\n",
      "jupyter_core         5.0.0\n",
      "jupyter-server       1.23.2\n",
      "jupyterlab-pygments  0.2.2\n",
      "MarkupSafe           2.1.1\n",
      "matplotlib-inline    0.1.6\n",
      "Mensajes             1.0\n",
      "mistune              2.0.4\n",
      "nbclassic            0.4.8\n",
      "nbclient             0.7.0\n",
      "nbconvert            7.2.5\n",
      "nbformat             5.7.0\n",
      "nest-asyncio         1.5.6\n",
      "notebook             6.5.2\n",
      "notebook_shim        0.2.2\n",
      "packaging            21.3\n",
      "pandocfilters        1.5.0\n",
      "parso                0.8.3\n",
      "pexpect              4.8.0\n",
      "pickleshare          0.7.5\n",
      "pip                  22.3.1\n",
      "platformdirs         2.5.4\n",
      "prometheus-client    0.15.0\n",
      "prompt-toolkit       3.0.32\n",
      "psutil               5.9.4\n",
      "ptyprocess           0.7.0\n",
      "pure-eval            0.2.2\n",
      "pycparser            2.21\n",
      "Pygments             2.13.0\n",
      "pyparsing            3.0.9\n",
      "pyrsistent           0.19.2\n",
      "python-dateutil      2.8.2\n",
      "pyzmq                24.0.1\n",
      "Send2Trash           1.8.0\n",
      "setuptools           63.2.0\n",
      "six                  1.16.0\n",
      "sniffio              1.3.0\n",
      "soupsieve            2.3.2.post1\n",
      "stack-data           0.6.1\n",
      "terminado            0.17.0\n",
      "tinycss2             1.2.1\n",
      "tornado              6.2\n",
      "traitlets            5.5.0\n",
      "wcwidth              0.2.5\n",
      "webencodings         0.5.1\n",
      "websocket-client     1.4.2\n"
     ]
    }
   ],
   "source": [
    "!pip3 list # Mensajes 1.0"
   ]
  },
  {
   "cell_type": "code",
   "execution_count": 10,
   "id": "992d9c97",
   "metadata": {},
   "outputs": [
    {
     "name": "stdout",
     "output_type": "stream",
     "text": [
      "Package              Version\r\n",
      "-------------------- -----------\r\n",
      "anyio                3.6.2\r\n",
      "appnope              0.1.3\r\n",
      "argon2-cffi          21.3.0\r\n",
      "argon2-cffi-bindings 21.2.0\r\n",
      "asttokens            2.1.0\r\n",
      "attrs                22.1.0\r\n",
      "backcall             0.2.0\r\n",
      "beautifulsoup4       4.11.1\r\n",
      "bleach               5.0.1\r\n",
      "cffi                 1.15.1\r\n",
      "debugpy              1.6.3\r\n",
      "decorator            5.1.1\r\n",
      "defusedxml           0.7.1\r\n",
      "entrypoints          0.4\r\n",
      "executing            1.2.0\r\n",
      "fastjsonschema       2.16.2\r\n",
      "idna                 3.4\r\n",
      "ipykernel            6.17.1\r\n",
      "ipython              8.6.0\r\n",
      "ipython-genutils     0.2.0\r\n",
      "jedi                 0.18.1\r\n",
      "Jinja2               3.1.2\r\n",
      "jsonschema           4.17.0\r\n",
      "jupyter_client       7.4.6\r\n",
      "jupyter_core         5.0.0\r\n",
      "jupyter-server       1.23.2\r\n",
      "jupyterlab-pygments  0.2.2\r\n",
      "MarkupSafe           2.1.1\r\n",
      "matplotlib-inline    0.1.6\r\n",
      "Mensajes             2.0\r\n",
      "mistune              2.0.4\r\n",
      "nbclassic            0.4.8\r\n",
      "nbclient             0.7.0\r\n",
      "nbconvert            7.2.5\r\n",
      "nbformat             5.7.0\r\n",
      "nest-asyncio         1.5.6\r\n",
      "notebook             6.5.2\r\n",
      "notebook_shim        0.2.2\r\n",
      "packaging            21.3\r\n",
      "pandocfilters        1.5.0\r\n",
      "parso                0.8.3\r\n",
      "pexpect              4.8.0\r\n",
      "pickleshare          0.7.5\r\n",
      "pip                  22.3.1\r\n",
      "platformdirs         2.5.4\r\n",
      "prometheus-client    0.15.0\r\n",
      "prompt-toolkit       3.0.32\r\n",
      "psutil               5.9.4\r\n",
      "ptyprocess           0.7.0\r\n",
      "pure-eval            0.2.2\r\n",
      "pycparser            2.21\r\n",
      "Pygments             2.13.0\r\n",
      "pyparsing            3.0.9\r\n",
      "pyrsistent           0.19.2\r\n",
      "python-dateutil      2.8.2\r\n",
      "pyzmq                24.0.1\r\n",
      "Send2Trash           1.8.0\r\n",
      "setuptools           63.2.0\r\n",
      "six                  1.16.0\r\n",
      "sniffio              1.3.0\r\n",
      "soupsieve            2.3.2.post1\r\n",
      "stack-data           0.6.1\r\n",
      "terminado            0.17.0\r\n",
      "tinycss2             1.2.1\r\n",
      "tornado              6.2\r\n",
      "traitlets            5.5.0\r\n",
      "wcwidth              0.2.5\r\n",
      "webencodings         0.5.1\r\n",
      "websocket-client     1.4.2\r\n"
     ]
    }
   ],
   "source": [
    "!pip3 list #Mensajes 2.0 version actualizada "
   ]
  },
  {
   "cell_type": "code",
   "execution_count": 1,
   "id": "2fa6e5ed",
   "metadata": {},
   "outputs": [
    {
     "name": "stdout",
     "output_type": "stream",
     "text": [
      "cargando el paquete mensajes\n",
      "Cargando el subpaquete mensajes.hola\n"
     ]
    }
   ],
   "source": [
    "from mensajes.hola.saludos import *"
   ]
  },
  {
   "cell_type": "code",
   "execution_count": 2,
   "id": "3a906be3",
   "metadata": {},
   "outputs": [
    {
     "name": "stdout",
     "output_type": "stream",
     "text": [
      "Esto es una prueba de la nueva version\n"
     ]
    }
   ],
   "source": [
    "prueba()"
   ]
  },
  {
   "cell_type": "code",
   "execution_count": null,
   "id": "23ff2078",
   "metadata": {},
   "outputs": [],
   "source": [
    "#Para borrar el paquete de vemos entrar a la terminal y ejecutar este comando \n",
    "#--|° pip3 uninstall mensajes \n",
    "#es el nombre del paquete  "
   ]
  }
 ],
 "metadata": {
  "kernelspec": {
   "display_name": "Python 3 (ipykernel)",
   "language": "python",
   "name": "python3"
  },
  "language_info": {
   "codemirror_mode": {
    "name": "ipython",
    "version": 3
   },
   "file_extension": ".py",
   "mimetype": "text/x-python",
   "name": "python",
   "nbconvert_exporter": "python",
   "pygments_lexer": "ipython3",
   "version": "3.10.8"
  }
 },
 "nbformat": 4,
 "nbformat_minor": 5
}
