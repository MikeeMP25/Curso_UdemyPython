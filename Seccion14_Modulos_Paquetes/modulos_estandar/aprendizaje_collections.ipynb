{
 "cells": [
  {
   "cell_type": "code",
   "execution_count": 1,
   "id": "a4431647",
   "metadata": {},
   "outputs": [],
   "source": [
    "#importamos el modulo collections con la definicion Counter\n",
    "from collections import Counter"
   ]
  },
  {
   "cell_type": "code",
   "execution_count": 2,
   "id": "ceb5687c",
   "metadata": {},
   "outputs": [],
   "source": [
    "l = [1,2,3,4,1,2,3,1,2,1]# creamos una lista de numeros"
   ]
  },
  {
   "cell_type": "code",
   "execution_count": 3,
   "id": "ba4ba07e",
   "metadata": {},
   "outputs": [
    {
     "data": {
      "text/plain": [
       "Counter({1: 4, 2: 3, 3: 2, 4: 1})"
      ]
     },
     "execution_count": 3,
     "metadata": {},
     "output_type": "execute_result"
    }
   ],
   "source": [
    "Counter(l)#nos dice el numero de veces que esta repetida un numero en la lista"
   ]
  },
  {
   "cell_type": "code",
   "execution_count": 4,
   "id": "46db8c59",
   "metadata": {},
   "outputs": [],
   "source": [
    "p=\"palabra\"#creamos una cadena "
   ]
  },
  {
   "cell_type": "code",
   "execution_count": 5,
   "id": "c96f5e1e",
   "metadata": {},
   "outputs": [
    {
     "data": {
      "text/plain": [
       "Counter({'p': 1, 'a': 3, 'l': 1, 'b': 1, 'r': 1})"
      ]
     },
     "execution_count": 5,
     "metadata": {},
     "output_type": "execute_result"
    }
   ],
   "source": [
    "Counter(p)#Nos dice el numeros de letras repetidas en la palabra"
   ]
  },
  {
   "cell_type": "code",
   "execution_count": 6,
   "id": "bae97f13",
   "metadata": {},
   "outputs": [],
   "source": [
    "animales=\"gato perro conejo gato perro gato\""
   ]
  },
  {
   "cell_type": "code",
   "execution_count": 7,
   "id": "ef1b77ee",
   "metadata": {},
   "outputs": [
    {
     "data": {
      "text/plain": [
       "Counter({'g': 3,\n",
       "         'a': 3,\n",
       "         't': 3,\n",
       "         'o': 7,\n",
       "         ' ': 5,\n",
       "         'p': 2,\n",
       "         'e': 3,\n",
       "         'r': 4,\n",
       "         'c': 1,\n",
       "         'n': 1,\n",
       "         'j': 1})"
      ]
     },
     "execution_count": 7,
     "metadata": {},
     "output_type": "execute_result"
    }
   ],
   "source": [
    "Counter(animales)"
   ]
  },
  {
   "cell_type": "code",
   "execution_count": 8,
   "id": "a0b22b38",
   "metadata": {},
   "outputs": [
    {
     "data": {
      "text/plain": [
       "['gato', 'perro', 'conejo', 'gato', 'perro', 'gato']"
      ]
     },
     "execution_count": 8,
     "metadata": {},
     "output_type": "execute_result"
    }
   ],
   "source": [
    "animales.split()"
   ]
  },
  {
   "cell_type": "code",
   "execution_count": 9,
   "id": "a378d7dc",
   "metadata": {},
   "outputs": [
    {
     "data": {
      "text/plain": [
       "Counter({'gato': 3, 'perro': 2, 'conejo': 1})"
      ]
     },
     "execution_count": 9,
     "metadata": {},
     "output_type": "execute_result"
    }
   ],
   "source": [
    "Counter(animales.split())#podemos hacer lista de la cadena y separar los valores por espacios \n",
    "#nos regresa el numero de palabras repetidas en la lista de cadenas "
   ]
  },
  {
   "cell_type": "code",
   "execution_count": 10,
   "id": "12da1eec",
   "metadata": {},
   "outputs": [],
   "source": [
    "c=Counter(animales.split())"
   ]
  },
  {
   "cell_type": "code",
   "execution_count": 13,
   "id": "be7a8d78",
   "metadata": {},
   "outputs": [
    {
     "data": {
      "text/plain": [
       "[('gato', 3), ('perro', 2), ('conejo', 1)]"
      ]
     },
     "execution_count": 13,
     "metadata": {},
     "output_type": "execute_result"
    }
   ],
   "source": [
    "c.most_common()#le pasamos un argumento donde indicamos el de mayor repeticion en la lista animales\n",
    "#nos deduelve una tupla ordenada de mayor a menor"
   ]
  },
  {
   "cell_type": "code",
   "execution_count": 14,
   "id": "e842b50c",
   "metadata": {},
   "outputs": [],
   "source": [
    "l=[10,20,30,40,10,20,30,10,20,10]\n"
   ]
  },
  {
   "cell_type": "code",
   "execution_count": 17,
   "id": "11a8ccea",
   "metadata": {},
   "outputs": [],
   "source": [
    "c=Counter(l)#creamos nuestro objeto collector y le pasamos como argumento la lista con la que estremos trabajando"
   ]
  },
  {
   "cell_type": "code",
   "execution_count": 18,
   "id": "e4bc219a",
   "metadata": {},
   "outputs": [
    {
     "data": {
      "text/plain": [
       "dict_items([(10, 4), (20, 3), (30, 2), (40, 1)])"
      ]
     },
     "execution_count": 18,
     "metadata": {},
     "output_type": "execute_result"
    }
   ],
   "source": [
    "c.items()"
   ]
  },
  {
   "cell_type": "code",
   "execution_count": 19,
   "id": "27bf235e",
   "metadata": {},
   "outputs": [
    {
     "data": {
      "text/plain": [
       "dict_keys([10, 20, 30, 40])"
      ]
     },
     "execution_count": 19,
     "metadata": {},
     "output_type": "execute_result"
    }
   ],
   "source": [
    "c.keys()"
   ]
  },
  {
   "cell_type": "code",
   "execution_count": 20,
   "id": "5763c631",
   "metadata": {},
   "outputs": [
    {
     "data": {
      "text/plain": [
       "dict_values([4, 3, 2, 1])"
      ]
     },
     "execution_count": 20,
     "metadata": {},
     "output_type": "execute_result"
    }
   ],
   "source": [
    "c.values()"
   ]
  },
  {
   "cell_type": "code",
   "execution_count": 21,
   "id": "2bd8ec84",
   "metadata": {},
   "outputs": [
    {
     "data": {
      "text/plain": [
       "10"
      ]
     },
     "execution_count": 21,
     "metadata": {},
     "output_type": "execute_result"
    }
   ],
   "source": [
    "sum(c.values())#el tottal de veces que ahi en la lista"
   ]
  },
  {
   "cell_type": "code",
   "execution_count": 22,
   "id": "16e3e372",
   "metadata": {},
   "outputs": [
    {
     "data": {
      "text/plain": [
       "[10, 20, 30, 40]"
      ]
     },
     "execution_count": 22,
     "metadata": {},
     "output_type": "execute_result"
    }
   ],
   "source": [
    "list(c)#aqui creamos una lista con los datos no repetidos de la collections"
   ]
  },
  {
   "cell_type": "code",
   "execution_count": 23,
   "id": "db924d06",
   "metadata": {},
   "outputs": [
    {
     "data": {
      "text/plain": [
       "{10: 4, 20: 3, 30: 2, 40: 1}"
      ]
     },
     "execution_count": 23,
     "metadata": {},
     "output_type": "execute_result"
    }
   ],
   "source": [
    "dict(c)#creamos un diccionario apartir de mi objeto de Coolections\n",
    "#nos arroga como clave el numero que ahi en la coollections y mientras su valor es el numero que se repite\n",
    "#en la collection"
   ]
  },
  {
   "cell_type": "code",
   "execution_count": 24,
   "id": "377633de",
   "metadata": {},
   "outputs": [],
   "source": [
    "d=dict(c)#creamos un diccionario y lo guardamos como una lista"
   ]
  },
  {
   "cell_type": "code",
   "execution_count": 25,
   "id": "a17c61fd",
   "metadata": {},
   "outputs": [
    {
     "ename": "AttributeError",
     "evalue": "'dict' object has no attribute 'most_common'",
     "output_type": "error",
     "traceback": [
      "\u001b[0;31m---------------------------------------------------------------------------\u001b[0m",
      "\u001b[0;31mAttributeError\u001b[0m                            Traceback (most recent call last)",
      "Cell \u001b[0;32mIn [25], line 1\u001b[0m\n\u001b[0;32m----> 1\u001b[0m \u001b[43md\u001b[49m\u001b[38;5;241;43m.\u001b[39;49m\u001b[43mmost_common\u001b[49m(l)\n",
      "\u001b[0;31mAttributeError\u001b[0m: 'dict' object has no attribute 'most_common'"
     ]
    }
   ],
   "source": [
    "d.most_common(l)#no dice error diccionario "
   ]
  },
  {
   "cell_type": "code",
   "execution_count": 26,
   "id": "db4ed27d",
   "metadata": {},
   "outputs": [
    {
     "data": {
      "text/plain": [
       "{10, 20, 30, 40}"
      ]
     },
     "execution_count": 26,
     "metadata": {},
     "output_type": "execute_result"
    }
   ],
   "source": [
    "set(c)#ceamos un conjunto recuerda que un conjunto no es una lista no acepta valores repetidos "
   ]
  },
  {
   "cell_type": "code",
   "execution_count": 32,
   "id": "9315cea8",
   "metadata": {},
   "outputs": [],
   "source": [
    "#importamos otra definicion de collections\n",
    "from collections import defaultdict"
   ]
  },
  {
   "cell_type": "code",
   "execution_count": 29,
   "id": "305f6eba",
   "metadata": {},
   "outputs": [],
   "source": [
    "d=defaultdict(float)#aqui definimos el objeto y le asignamos el metodo defaultdict"
   ]
  },
  {
   "cell_type": "code",
   "execution_count": 30,
   "id": "bf939c81",
   "metadata": {},
   "outputs": [
    {
     "data": {
      "text/plain": [
       "0.0"
      ]
     },
     "execution_count": 30,
     "metadata": {},
     "output_type": "execute_result"
    }
   ],
   "source": [
    "d['algo']#nos perimte crear un elemnto en diccionario si que la llave este dentro del diccionario"
   ]
  },
  {
   "cell_type": "code",
   "execution_count": 31,
   "id": "4a908704",
   "metadata": {},
   "outputs": [
    {
     "data": {
      "text/plain": [
       "defaultdict(float, {'algo': 0.0})"
      ]
     },
     "execution_count": 31,
     "metadata": {},
     "output_type": "execute_result"
    }
   ],
   "source": [
    "d#nos devuelve un diccionario con la clave \"algo\"=0.0 con el valor float"
   ]
  },
  {
   "cell_type": "code",
   "execution_count": 34,
   "id": "1da387c2",
   "metadata": {},
   "outputs": [
    {
     "data": {
      "text/plain": [
       "''"
      ]
     },
     "execution_count": 34,
     "metadata": {},
     "output_type": "execute_result"
    }
   ],
   "source": [
    "d=defaultdict(str)#decimos que sera un diccionario con referencia de str en el diccionario\n",
    "d['algo']"
   ]
  },
  {
   "cell_type": "code",
   "execution_count": 35,
   "id": "f54b9b02",
   "metadata": {},
   "outputs": [
    {
     "data": {
      "text/plain": [
       "defaultdict(str, {'algo': ''})"
      ]
     },
     "execution_count": 35,
     "metadata": {},
     "output_type": "execute_result"
    }
   ],
   "source": [
    "d"
   ]
  },
  {
   "cell_type": "code",
   "execution_count": 37,
   "id": "c59ede5f",
   "metadata": {},
   "outputs": [
    {
     "data": {
      "text/plain": [
       "<object at 0x10bfdd450>"
      ]
     },
     "execution_count": 37,
     "metadata": {},
     "output_type": "execute_result"
    }
   ],
   "source": [
    "d=defaultdict(object)\n",
    "d['algo']"
   ]
  },
  {
   "cell_type": "code",
   "execution_count": 38,
   "id": "072a9b83",
   "metadata": {},
   "outputs": [
    {
     "data": {
      "text/plain": [
       "defaultdict(object, {'algo': <object at 0x10bfdd450>})"
      ]
     },
     "execution_count": 38,
     "metadata": {},
     "output_type": "execute_result"
    }
   ],
   "source": [
    "d"
   ]
  },
  {
   "cell_type": "code",
   "execution_count": 40,
   "id": "411cc340",
   "metadata": {},
   "outputs": [],
   "source": [
    "n={}\n",
    "n['uno']=\"one\"\n",
    "n['dos']=\"two\"\n",
    "n['tres']=\"teree\""
   ]
  },
  {
   "cell_type": "code",
   "execution_count": 41,
   "id": "ea17a3d8",
   "metadata": {},
   "outputs": [
    {
     "data": {
      "text/plain": [
       "{'uno': 'one', 'dos': 'two', 'tres': 'teree'}"
      ]
     },
     "execution_count": 41,
     "metadata": {},
     "output_type": "execute_result"
    }
   ],
   "source": [
    "n"
   ]
  },
  {
   "cell_type": "code",
   "execution_count": 43,
   "id": "e93e6089",
   "metadata": {},
   "outputs": [],
   "source": [
    "from collections import OrderedDict\n",
    "n=OrderedDict()"
   ]
  },
  {
   "cell_type": "code",
   "execution_count": 44,
   "id": "a29a9fb7",
   "metadata": {},
   "outputs": [],
   "source": [
    "n['uno']=\"one\"\n",
    "n['dos']=\"two\"\n",
    "n['tres']=\"three\""
   ]
  },
  {
   "cell_type": "code",
   "execution_count": 45,
   "id": "7ec44272",
   "metadata": {},
   "outputs": [
    {
     "data": {
      "text/plain": [
       "OrderedDict([('uno', 'one'), ('dos', 'two'), ('tres', 'three')])"
      ]
     },
     "execution_count": 45,
     "metadata": {},
     "output_type": "execute_result"
    }
   ],
   "source": [
    "n #devuelve un diccionario ordenado "
   ]
  },
  {
   "cell_type": "code",
   "execution_count": 46,
   "id": "f6b3d6ec",
   "metadata": {},
   "outputs": [],
   "source": [
    "n1={}\n",
    "n1['uno']=\"one\"\n",
    "n1['dos']=\"two\"\n",
    "n2={}\n",
    "n2['dos']=\"two\"\n",
    "n2['uno']=\"one\"\n"
   ]
  },
  {
   "cell_type": "code",
   "execution_count": 47,
   "id": "1dd283be",
   "metadata": {},
   "outputs": [
    {
     "data": {
      "text/plain": [
       "True"
      ]
     },
     "execution_count": 47,
     "metadata": {},
     "output_type": "execute_result"
    }
   ],
   "source": [
    "n1==n2#aqui decimos que si la lista n1 y n2 es igual a la lista dos nos dice que si \n",
    "#las dos son cadenas de str pero con diferente orden pero lo toma como igual"
   ]
  },
  {
   "cell_type": "code",
   "execution_count": 49,
   "id": "708cf0a5",
   "metadata": {},
   "outputs": [],
   "source": [
    "n1=OrderedDict()#orderedDict() es un metodo de objeto diccionario\n",
    "n1['uno']=\"one\"\n",
    "n1['dos']=\"two\"\n",
    "n2=OrderedDict()\n",
    "n2['dos']=\"two\"\n",
    "n2['uno']=\"one\""
   ]
  },
  {
   "cell_type": "code",
   "execution_count": 50,
   "id": "9e603cb1",
   "metadata": {},
   "outputs": [
    {
     "data": {
      "text/plain": [
       "False"
      ]
     },
     "execution_count": 50,
     "metadata": {},
     "output_type": "execute_result"
    }
   ],
   "source": [
    "n1 == n2 # aqui decimos que las listas son cadenas pero con diferentes valores y diferentes orden \n",
    "#entonces no son iguales"
   ]
  },
  {
   "cell_type": "code",
   "execution_count": 51,
   "id": "906cad59",
   "metadata": {},
   "outputs": [],
   "source": [
    "t=(20,40,60)"
   ]
  },
  {
   "cell_type": "code",
   "execution_count": 52,
   "id": "fa5e06f7",
   "metadata": {},
   "outputs": [
    {
     "data": {
      "text/plain": [
       "(20, 40, 60)"
      ]
     },
     "execution_count": 52,
     "metadata": {},
     "output_type": "execute_result"
    }
   ],
   "source": [
    "t"
   ]
  },
  {
   "cell_type": "code",
   "execution_count": 53,
   "id": "7d07793c",
   "metadata": {},
   "outputs": [],
   "source": [
    "from collections import namedtuple #Tupla doble podemos realizar muchas cosas "
   ]
  },
  {
   "cell_type": "code",
   "execution_count": 55,
   "id": "4aa84de7",
   "metadata": {},
   "outputs": [],
   "source": [
    "Persona=namedtuple('Persona','nombre apellido edad')#creamos una dupla con nombre estructurada e inmutable"
   ]
  },
  {
   "cell_type": "code",
   "execution_count": 56,
   "id": "3b110d9c",
   "metadata": {},
   "outputs": [],
   "source": [
    "p=Persona(nombre=\"hector\",apellido=\"Costa\",edad=27)"
   ]
  },
  {
   "cell_type": "code",
   "execution_count": 57,
   "id": "4349ac81",
   "metadata": {},
   "outputs": [
    {
     "data": {
      "text/plain": [
       "'hector'"
      ]
     },
     "execution_count": 57,
     "metadata": {},
     "output_type": "execute_result"
    }
   ],
   "source": [
    "p.nombre"
   ]
  },
  {
   "cell_type": "code",
   "execution_count": 58,
   "id": "ed4d8cf6",
   "metadata": {},
   "outputs": [
    {
     "data": {
      "text/plain": [
       "Persona(nombre='hector', apellido='Costa', edad=27)"
      ]
     },
     "execution_count": 58,
     "metadata": {},
     "output_type": "execute_result"
    }
   ],
   "source": [
    "p#es lo que contiene mi tupla Persona"
   ]
  },
  {
   "cell_type": "code",
   "execution_count": 59,
   "id": "d0749f4e",
   "metadata": {},
   "outputs": [
    {
     "data": {
      "text/plain": [
       "'hector'"
      ]
     },
     "execution_count": 59,
     "metadata": {},
     "output_type": "execute_result"
    }
   ],
   "source": [
    "p[0]#podemos acceder mediante el slicing []como si fuera una lista"
   ]
  },
  {
   "cell_type": "code",
   "execution_count": null,
   "id": "988134d2",
   "metadata": {},
   "outputs": [],
   "source": []
  }
 ],
 "metadata": {
  "kernelspec": {
   "display_name": "Python 3 (ipykernel)",
   "language": "python",
   "name": "python3"
  },
  "language_info": {
   "codemirror_mode": {
    "name": "ipython",
    "version": 3
   },
   "file_extension": ".py",
   "mimetype": "text/x-python",
   "name": "python",
   "nbconvert_exporter": "python",
   "pygments_lexer": "ipython3",
   "version": "3.10.8"
  }
 },
 "nbformat": 4,
 "nbformat_minor": 5
}
