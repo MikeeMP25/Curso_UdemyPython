{
 "cells": [
  {
   "cell_type": "code",
   "execution_count": 1,
   "id": "729a4d0b",
   "metadata": {},
   "outputs": [],
   "source": [
    "import random"
   ]
  },
  {
   "cell_type": "code",
   "execution_count": 2,
   "id": "9a43a205",
   "metadata": {},
   "outputs": [
    {
     "data": {
      "text/plain": [
       "0.658461056906709"
      ]
     },
     "execution_count": 2,
     "metadata": {},
     "output_type": "execute_result"
    }
   ],
   "source": [
    "random.random()#arroga un numero aletorio  desde el cero a hasta x \n",
    "#Es decir >=0 y < 1.0"
   ]
  },
  {
   "cell_type": "code",
   "execution_count": 3,
   "id": "262c0d47",
   "metadata": {},
   "outputs": [
    {
     "data": {
      "text/plain": [
       "0.4121231658041774"
      ]
     },
     "execution_count": 3,
     "metadata": {},
     "output_type": "execute_result"
    }
   ],
   "source": [
    "random.random()#Si te das cuenta genera un nuevo numero aletrorio cada vez que mandas a llamar el metodo rando "
   ]
  },
  {
   "cell_type": "code",
   "execution_count": 4,
   "id": "dd8566aa",
   "metadata": {},
   "outputs": [
    {
     "data": {
      "text/plain": [
       "0.8213847967652947"
      ]
     },
     "execution_count": 4,
     "metadata": {},
     "output_type": "execute_result"
    }
   ],
   "source": [
    "random.random()"
   ]
  },
  {
   "cell_type": "code",
   "execution_count": 5,
   "id": "f1981a03",
   "metadata": {},
   "outputs": [
    {
     "data": {
      "text/plain": [
       "2.6038465004242095"
      ]
     },
     "execution_count": 5,
     "metadata": {},
     "output_type": "execute_result"
    }
   ],
   "source": [
    "#tambien pordemos indicar un rango del nuemro aletrorio\n",
    "random.uniform(1,10) # >=1 y < 10.0"
   ]
  },
  {
   "cell_type": "code",
   "execution_count": 6,
   "id": "efddb665",
   "metadata": {},
   "outputs": [
    {
     "data": {
      "text/plain": [
       "5.76613233528517"
      ]
     },
     "execution_count": 6,
     "metadata": {},
     "output_type": "execute_result"
    }
   ],
   "source": [
    "random.uniform(1,10)"
   ]
  },
  {
   "cell_type": "code",
   "execution_count": 7,
   "id": "d6d62ade",
   "metadata": {},
   "outputs": [
    {
     "data": {
      "text/plain": [
       "9.167747661474941"
      ]
     },
     "execution_count": 7,
     "metadata": {},
     "output_type": "execute_result"
    }
   ],
   "source": [
    "random.uniform(1,10)"
   ]
  },
  {
   "cell_type": "code",
   "execution_count": 8,
   "id": "a2aa387c",
   "metadata": {},
   "outputs": [
    {
     "data": {
      "text/plain": [
       "9"
      ]
     },
     "execution_count": 8,
     "metadata": {},
     "output_type": "execute_result"
    }
   ],
   "source": [
    "random.randrange(10) # >=0 y <10 como resultado seria = 0,1,2,3,4,5,6,7,8,9 el 10 nop apareceria ya que es el limite"
   ]
  },
  {
   "cell_type": "code",
   "execution_count": 9,
   "id": "e6f38c7c",
   "metadata": {},
   "outputs": [
    {
     "data": {
      "text/plain": [
       "80"
      ]
     },
     "execution_count": 9,
     "metadata": {},
     "output_type": "execute_result"
    }
   ],
   "source": [
    "random.randrange(0,101)#nos arroga un numero entero dentro de ese rango "
   ]
  },
  {
   "cell_type": "code",
   "execution_count": 10,
   "id": "6a27b6d6",
   "metadata": {},
   "outputs": [
    {
     "data": {
      "text/plain": [
       "84"
      ]
     },
     "execution_count": 10,
     "metadata": {},
     "output_type": "execute_result"
    }
   ],
   "source": [
    "random.randrange(0,101,2)#los multiplos de 2 nos arroga un numero par dentro de ese rango "
   ]
  },
  {
   "cell_type": "code",
   "execution_count": 12,
   "id": "69886e2f",
   "metadata": {},
   "outputs": [
    {
     "data": {
      "text/plain": [
       "73"
      ]
     },
     "execution_count": 12,
     "metadata": {},
     "output_type": "execute_result"
    }
   ],
   "source": [
    "random.randrange(0,101,1)#Nos arroga un numero impar dentro de ese rango"
   ]
  },
  {
   "cell_type": "code",
   "execution_count": 13,
   "id": "83d2b636",
   "metadata": {},
   "outputs": [
    {
     "data": {
      "text/plain": [
       "60"
      ]
     },
     "execution_count": 13,
     "metadata": {},
     "output_type": "execute_result"
    }
   ],
   "source": [
    "random.randrange(0,101,5)#numeros multiplos de 5 en ese rango"
   ]
  },
  {
   "cell_type": "code",
   "execution_count": 14,
   "id": "2320d964",
   "metadata": {},
   "outputs": [],
   "source": [
    "c=\"hola mundo\"#cadena de texto\n"
   ]
  },
  {
   "cell_type": "code",
   "execution_count": 15,
   "id": "056bbbad",
   "metadata": {},
   "outputs": [
    {
     "data": {
      "text/plain": [
       "'n'"
      ]
     },
     "execution_count": 15,
     "metadata": {},
     "output_type": "execute_result"
    }
   ],
   "source": [
    "random.choice(c)#toma aletroriamente una letra de la cadena de entrada(argumento)"
   ]
  },
  {
   "cell_type": "code",
   "execution_count": 16,
   "id": "5626e32e",
   "metadata": {},
   "outputs": [],
   "source": [
    "#un random para una lista\n",
    "l=[1,2,3,4,5]"
   ]
  },
  {
   "cell_type": "code",
   "execution_count": 17,
   "id": "fbe5e772",
   "metadata": {},
   "outputs": [
    {
     "data": {
      "text/plain": [
       "4"
      ]
     },
     "execution_count": 17,
     "metadata": {},
     "output_type": "execute_result"
    }
   ],
   "source": [
    "random.choice(l)#toma cualquier elemento de la lista creada "
   ]
  },
  {
   "cell_type": "code",
   "execution_count": 18,
   "id": "6b097ce9",
   "metadata": {},
   "outputs": [],
   "source": [
    "#para desornedar una lista actual \n",
    "random.shuffle(l)"
   ]
  },
  {
   "cell_type": "code",
   "execution_count": 19,
   "id": "4e4c59d1",
   "metadata": {},
   "outputs": [
    {
     "data": {
      "text/plain": [
       "[5, 4, 1, 3, 2]"
      ]
     },
     "execution_count": 19,
     "metadata": {},
     "output_type": "execute_result"
    }
   ],
   "source": [
    "l#como puedes ver queda desordena la lista actual"
   ]
  },
  {
   "cell_type": "code",
   "execution_count": 22,
   "id": "f066d080",
   "metadata": {},
   "outputs": [
    {
     "data": {
      "text/plain": [
       "[1, 4, 2]"
      ]
     },
     "execution_count": 22,
     "metadata": {},
     "output_type": "execute_result"
    }
   ],
   "source": [
    "random.sample(l,2)#toma dos numeros aleatorios de la lista actual\n",
    "random.sample(l,3)#puedes cambiar el numero de digitos que tomara de la lista "
   ]
  },
  {
   "cell_type": "code",
   "execution_count": 23,
   "id": "91807bf0",
   "metadata": {},
   "outputs": [],
   "source": [
    "from mensajes.adios.despedidas import *\n"
   ]
  },
  {
   "cell_type": "code",
   "execution_count": 24,
   "id": "9b0afa67",
   "metadata": {},
   "outputs": [
    {
     "name": "stdout",
     "output_type": "stream",
     "text": [
      "Adios, me despido desde Despedida.__init__() \n"
     ]
    },
    {
     "data": {
      "text/plain": [
       "<mensajes.adios.despedidas.Despedida at 0x10ee65c90>"
      ]
     },
     "execution_count": 24,
     "metadata": {},
     "output_type": "execute_result"
    }
   ],
   "source": [
    "Despedida()"
   ]
  },
  {
   "cell_type": "code",
   "execution_count": 25,
   "id": "0d99a1b7",
   "metadata": {},
   "outputs": [],
   "source": [
    "from mensajes.hola.saludos import *"
   ]
  },
  {
   "cell_type": "code",
   "execution_count": 26,
   "id": "f6e47b1f",
   "metadata": {},
   "outputs": [
    {
     "name": "stdout",
     "output_type": "stream",
     "text": [
      "hola, te saludo desde saludos.saludar()\n"
     ]
    }
   ],
   "source": [
    "saludar()"
   ]
  },
  {
   "cell_type": "code",
   "execution_count": 27,
   "id": "0728c536",
   "metadata": {},
   "outputs": [
    {
     "name": "stdout",
     "output_type": "stream",
     "text": [
      "Hola, te saludo desde Saludo.__init__() \n"
     ]
    },
    {
     "data": {
      "text/plain": [
       "<mensajes.hola.saludos.Saludo at 0x10ef58820>"
      ]
     },
     "execution_count": 27,
     "metadata": {},
     "output_type": "execute_result"
    }
   ],
   "source": [
    "Saludo()"
   ]
  },
  {
   "cell_type": "code",
   "execution_count": null,
   "id": "64557bb1",
   "metadata": {},
   "outputs": [],
   "source": []
  }
 ],
 "metadata": {
  "kernelspec": {
   "display_name": "Python 3 (ipykernel)",
   "language": "python",
   "name": "python3"
  },
  "language_info": {
   "codemirror_mode": {
    "name": "ipython",
    "version": 3
   },
   "file_extension": ".py",
   "mimetype": "text/x-python",
   "name": "python",
   "nbconvert_exporter": "python",
   "pygments_lexer": "ipython3",
   "version": "3.10.8"
  }
 },
 "nbformat": 4,
 "nbformat_minor": 5
}
