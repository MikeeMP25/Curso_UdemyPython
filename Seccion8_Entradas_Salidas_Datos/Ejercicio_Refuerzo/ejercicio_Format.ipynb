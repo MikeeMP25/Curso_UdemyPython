{
 "cells": [
  {
   "cell_type": "code",
   "execution_count": 11,
   "id": "67676637",
   "metadata": {},
   "outputs": [
    {
     "name": "stdout",
     "output_type": "stream",
     "text": [
      "          hola mundo\n",
      "hol\n",
      "         h          \n",
      "00150\n",
      "   7887\n",
      "020.020\n"
     ]
    }
   ],
   "source": [
    "#Ejercicio de aprendizaje de cadenas de texto y numeros un formato \n",
    "\n",
    "print(\"{:>20}\".format(\"hola mundo\"))\n",
    "texto=\"hola mundo\"\n",
    "print(f\"{texto:.3}\")\n",
    "print(f\"{texto:^20.1}\")\n",
    "print(\"{:05d}\".format(150))\n",
    "print(\"{:7d}\".format(7887))\n",
    "print(f\"{20.02:0{7}.{3}f}\")\n",
    "#print(\"{:.3}\".format(20.02))"
   ]
  }
 ],
 "metadata": {
  "kernelspec": {
   "display_name": "Python 3 (ipykernel)",
   "language": "python",
   "name": "python3"
  },
  "language_info": {
   "codemirror_mode": {
    "name": "ipython",
    "version": 3
   },
   "file_extension": ".py",
   "mimetype": "text/x-python",
   "name": "python",
   "nbconvert_exporter": "python",
   "pygments_lexer": "ipython3",
   "version": "3.10.8"
  }
 },
 "nbformat": 4,
 "nbformat_minor": 5
}
