{
 "cells": [
  {
   "cell_type": "code",
   "execution_count": 1,
   "id": "4d86d8c2",
   "metadata": {},
   "outputs": [
    {
     "name": "stdout",
     "output_type": "stream",
     "text": [
      "ingresa un numero5\n",
      "El numero multiplicado por dos 10\n"
     ]
    }
   ],
   "source": [
    "#Ingresamos datos de entrada mediante un input() \n",
    "num=int(input(\"ingresa un numero :\"))#convertimos el dato de entra en un intero\n",
    "print(\"El numero multiplicado por dos\",num*2)"
   ]
  },
  {
   "cell_type": "code",
   "execution_count": 2,
   "id": "64860e75",
   "metadata": {},
   "outputs": [
    {
     "name": "stdout",
     "output_type": "stream",
     "text": [
      "ingresa un nuevo numero: 15\n",
      "ingresa un nuevo numero: 10\n",
      "ingresa un nuevo numero: 25\n",
      "El contenido de la lista \n",
      " ['15', '10', '25']\n"
     ]
    }
   ],
   "source": [
    "#Podemos llenar una lista desde la termial mediante el siguiente codigo\n",
    "lista=[]\n",
    "for x in range(3):\n",
    "    lista.append(input(\"ingresa un nuevo numero: \"))\n",
    "print(\"El contenido de la lista \\n\",lista)"
   ]
  }
 ],
 "metadata": {
  "kernelspec": {
   "display_name": "Python 3 (ipykernel)",
   "language": "python",
   "name": "python3"
  },
  "language_info": {
   "codemirror_mode": {
    "name": "ipython",
    "version": 3
   },
   "file_extension": ".py",
   "mimetype": "text/x-python",
   "name": "python",
   "nbconvert_exporter": "python",
   "pygments_lexer": "ipython3",
   "version": "3.10.8"
  }
 },
 "nbformat": 4,
 "nbformat_minor": 5
}
