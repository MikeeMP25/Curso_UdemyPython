{
 "cells": [
  {
   "cell_type": "markdown",
   "id": "e53958bf",
   "metadata": {},
   "source": [
    "## f-Strings\n",
    "\n",
    "Desde python 3.6 encontramos una nueva funcionalidad que simplificar el formato \n",
    "gracias a la interpolacion de cadenas.  \n",
    "En lugar de poner esto: "
   ]
  },
  {
   "cell_type": "code",
   "execution_count": 1,
   "id": "36eace07",
   "metadata": {},
   "outputs": [
    {
     "name": "stdout",
     "output_type": "stream",
     "text": [
      "hola Hector\n"
     ]
    }
   ],
   "source": [
    "nombre=\"Hector\"\n",
    "cadena=\"hola {}\".format(nombre)\n",
    "print(cadena)"
   ]
  },
  {
   "cell_type": "markdown",
   "id": "e0f66d55",
   "metadata": {},
   "source": [
    "Podemos indicar que la cadena esta formateada añadiendo f\"\" delante y pansado directamente las variables\n",
    "o datos interpretados"
   ]
  },
  {
   "cell_type": "code",
   "execution_count": 2,
   "id": "3b538fe1",
   "metadata": {},
   "outputs": [
    {
     "name": "stdout",
     "output_type": "stream",
     "text": [
      "Hola Mikee\n"
     ]
    }
   ],
   "source": [
    "nombre=\"Mikee\"\n",
    "cadena=f\"Hola {nombre}\"#es la sintaxis f\"\"\n",
    "print(cadena)"
   ]
  },
  {
   "cell_type": "code",
   "execution_count": null,
   "id": "48605db0",
   "metadata": {},
   "outputs": [],
   "source": [
    "#te permite ahorrar lineas de codigo "
   ]
  },
  {
   "cell_type": "code",
   "execution_count": 5,
   "id": "41faf434",
   "metadata": {},
   "outputs": [
    {
     "name": "stdout",
     "output_type": "stream",
     "text": [
      "¡Hola juan!\n"
     ]
    }
   ],
   "source": [
    "def func():\n",
    "    return \"juan\"\n",
    "print(f\"¡Hola {func()}!\")#podemos mostrar los valores que retorna una funcion"
   ]
  },
  {
   "cell_type": "code",
   "execution_count": 4,
   "id": "a4c2c452",
   "metadata": {},
   "outputs": [
    {
     "name": "stdout",
     "output_type": "stream",
     "text": [
      "La suma de 10 y 5 es 15\n"
     ]
    }
   ],
   "source": [
    "a,b=10,5\n",
    "print (f\"La suma de {a} y {b} es {a+b}\")#nos perimite darle un formato a la texto"
   ]
  },
  {
   "cell_type": "code",
   "execution_count": 6,
   "id": "153dbcfb",
   "metadata": {},
   "outputs": [
    {
     "name": "stdout",
     "output_type": "stream",
     "text": [
      "Hola mundo                              \n",
      "                                        Hola mundo\n",
      "          Hola mundo          \n"
     ]
    }
   ],
   "source": [
    "#alineamiento \n",
    "texto=\"Hola mundo\"\n",
    "print(f\"{texto:40}\") #a la izquierda 40 carcateres\n",
    "print(f\"{texto:>50}\") #a la derecha 50 carcateres\n",
    "print(f\"{texto:^30}\") #al centro de 30 caracteres \n"
   ]
  },
  {
   "cell_type": "code",
   "execution_count": 7,
   "id": "abee9143",
   "metadata": {},
   "outputs": [
    {
     "name": "stdout",
     "output_type": "stream",
     "text": [
      "Hola\n"
     ]
    }
   ],
   "source": [
    "#truncuamiento de variables de cadena\n",
    "print(f\"{texto:.4}\") #los primeros 4 caracteres"
   ]
  },
  {
   "cell_type": "code",
   "execution_count": 8,
   "id": "eef0e48f",
   "metadata": {},
   "outputs": [
    {
     "name": "stdout",
     "output_type": "stream",
     "text": [
      "Hola \n"
     ]
    }
   ],
   "source": [
    "limite=5\n",
    "print(f\"{texto:.{limite}}\") #s epuede hacer con varibles "
   ]
  },
  {
   "cell_type": "code",
   "execution_count": 9,
   "id": "e07cef2e",
   "metadata": {},
   "outputs": [
    {
     "name": "stdout",
     "output_type": "stream",
     "text": [
      "Hola                                    \n",
      "                                           Hola mu\n",
      "           Hola mun           \n"
     ]
    }
   ],
   "source": [
    "print(f\"{texto:40.5}\") #a la izquierda 40 carcateres\n",
    "print(f\"{texto:>50.7}\") #a la derecha 50 carcateres CON TRUCAMINETO\n",
    "print(f\"{texto:^30.8}\")"
   ]
  },
  {
   "cell_type": "code",
   "execution_count": 10,
   "id": "95dab572",
   "metadata": {},
   "outputs": [
    {
     "name": "stdout",
     "output_type": "stream",
     "text": [
      "     1\n",
      "    10\n",
      "   100\n",
      "  1000\n",
      " 10000\n"
     ]
    }
   ],
   "source": [
    "print(f\"{1:6d}\") #alineamos los numeros a 6 espacios\n",
    "print(f\"{10:6d}\")\n",
    "print(f\"{100:6d}\")\n",
    "print(f\"{1000:6d}\")\n",
    "print(f\"{10000:6d}\")"
   ]
  },
  {
   "cell_type": "code",
   "execution_count": 12,
   "id": "48060212",
   "metadata": {},
   "outputs": [
    {
     "name": "stdout",
     "output_type": "stream",
     "text": [
      " 3.1417\n",
      " 3.1410\n"
     ]
    }
   ],
   "source": [
    "print(f\"{3.1416545:7.4f}\")\n",
    "print(f\"{3.141:7.4f}\")"
   ]
  },
  {
   "cell_type": "code",
   "execution_count": 15,
   "id": "ccba55b6",
   "metadata": {},
   "outputs": [
    {
     "name": "stdout",
     "output_type": "stream",
     "text": [
      "0000000003.1415131321\n"
     ]
    }
   ],
   "source": [
    "#grandes prospectos \n",
    "#FORMATEO DE NUMEROS CON VARIABLES\n",
    "numero=3.1415131321\n",
    "longitud=21\n",
    "decimales=10\n",
    "\n",
    "print(f\"{numero:0{longitud}.{decimales}f}\")"
   ]
  }
 ],
 "metadata": {
  "kernelspec": {
   "display_name": "Python 3 (ipykernel)",
   "language": "python",
   "name": "python3"
  },
  "language_info": {
   "codemirror_mode": {
    "name": "ipython",
    "version": 3
   },
   "file_extension": ".py",
   "mimetype": "text/x-python",
   "name": "python",
   "nbconvert_exporter": "python",
   "pygments_lexer": "ipython3",
   "version": "3.10.8"
  }
 },
 "nbformat": 4,
 "nbformat_minor": 5
}
