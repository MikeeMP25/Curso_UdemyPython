{
 "cells": [
  {
   "cell_type": "code",
   "execution_count": 1,
   "id": "e848be3a",
   "metadata": {},
   "outputs": [
    {
     "name": "stdout",
     "output_type": "stream",
     "text": [
      "Un texto otro texto y un numero 10\n"
     ]
    }
   ],
   "source": [
    "v=\"otro texto\"\n",
    "n=10\n",
    "print(\"Un texto\",v,\"y un numero\",n)"
   ]
  },
  {
   "cell_type": "code",
   "execution_count": 2,
   "id": "22743e30",
   "metadata": {},
   "outputs": [],
   "source": [
    "#utilizamos la funcion .format() para darle estructura ala cadena de texto\n",
    "c=\"Un texto {} y un numero {}\".format(v,n)"
   ]
  },
  {
   "cell_type": "code",
   "execution_count": 3,
   "id": "af94d5fe",
   "metadata": {},
   "outputs": [
    {
     "data": {
      "text/plain": [
       "'Un texto otro texto y un numero 10'"
      ]
     },
     "execution_count": 3,
     "metadata": {},
     "output_type": "execute_result"
    }
   ],
   "source": [
    "c"
   ]
  },
  {
   "cell_type": "code",
   "execution_count": 4,
   "id": "a0134c87",
   "metadata": {},
   "outputs": [
    {
     "name": "stdout",
     "output_type": "stream",
     "text": [
      "Un texto '10' y un numero 'otro texto'\n"
     ]
    }
   ],
   "source": [
    "#podemos cambiar el orden en que se muestre los datos\n",
    "print(\"Un texto '{1}' y un numero '{0}'\".format(v,n))\n",
    "#como puedes observar que a cambia de lugar los datos"
   ]
  },
  {
   "cell_type": "code",
   "execution_count": 7,
   "id": "e6eb02ee",
   "metadata": {},
   "outputs": [
    {
     "name": "stdout",
     "output_type": "stream",
     "text": [
      "Un texto 'otro texto' y numero '10'\n"
     ]
    }
   ],
   "source": [
    "print(\"Un texto '{t}' y numero '{v}'\".format(t=v,v=n))#le asignamos a la variables los siguientes valores "
   ]
  },
  {
   "cell_type": "code",
   "execution_count": 8,
   "id": "c712a48d",
   "metadata": {},
   "outputs": [
    {
     "name": "stdout",
     "output_type": "stream",
     "text": [
      "otro texto,otro texto,otro texto\n"
     ]
    }
   ],
   "source": [
    "print(\"{v},{v},{v}\".format(v=v))#podemos repetir el texto las veces que queramos "
   ]
  },
  {
   "cell_type": "code",
   "execution_count": 9,
   "id": "8f199f04",
   "metadata": {},
   "outputs": [
    {
     "name": "stdout",
     "output_type": "stream",
     "text": [
      "                       palabra\n"
     ]
    }
   ],
   "source": [
    "#nos perimite modificar el contenido del texto asi como su posicion\n",
    "print(\"{:>30}\".format(\"palabra\"))#alineacion a la derecha en 30 caracteres"
   ]
  },
  {
   "cell_type": "code",
   "execution_count": 10,
   "id": "9faa56dd",
   "metadata": {},
   "outputs": [
    {
     "name": "stdout",
     "output_type": "stream",
     "text": [
      "palabra                       \n"
     ]
    }
   ],
   "source": [
    "print(\"{:30}\".format(\"palabra\"))"
   ]
  },
  {
   "cell_type": "code",
   "execution_count": 11,
   "id": "2932ea82",
   "metadata": {},
   "outputs": [
    {
     "name": "stdout",
     "output_type": "stream",
     "text": [
      "            texto             \n"
     ]
    }
   ],
   "source": [
    "print(\"{:^30}\".format(\"texto\"))#alineacion de texto al centro en 30 carcateres 15==texto==15"
   ]
  },
  {
   "cell_type": "code",
   "execution_count": 16,
   "id": "6f75ba14",
   "metadata": {},
   "outputs": [
    {
     "name": "stdout",
     "output_type": "stream",
     "text": [
      "                         jesus apellido :                  Miranda\n"
     ]
    }
   ],
   "source": [
    "print(\"{nombre:>30} apellido :{apellido:>25}\".format(nombre=\"jesus\",apellido=\"Miranda\"))"
   ]
  },
  {
   "cell_type": "code",
   "execution_count": 17,
   "id": "8cbb4ac7",
   "metadata": {},
   "outputs": [
    {
     "name": "stdout",
     "output_type": "stream",
     "text": [
      "Narut\n"
     ]
    }
   ],
   "source": [
    "print(\"{:.5}\".format(\"Naruto vs Sasuke\"))"
   ]
  },
  {
   "cell_type": "code",
   "execution_count": 18,
   "id": "d4689202",
   "metadata": {},
   "outputs": [
    {
     "name": "stdout",
     "output_type": "stream",
     "text": [
      "               Narut\n"
     ]
    }
   ],
   "source": [
    "print(\"{:>20.5}\".format(\"Naruto vs Sasuke\"))#podemos trucar la cadena en 30 carcateres a la derecha \n",
    "#con solo 5 carcateres de la cadena "
   ]
  },
  {
   "cell_type": "code",
   "execution_count": 21,
   "id": "c1dca235",
   "metadata": {},
   "outputs": [
    {
     "name": "stdout",
     "output_type": "stream",
     "text": [
      "10\n",
      "100\n",
      "1000\n"
     ]
    }
   ],
   "source": [
    "#tambien podemos mapaear los numeros \n",
    "#formato de numeros enteros, rellenados con espacio\n",
    "print(\"{}\".format(10))\n",
    "print(\"{}\".format(100))\n",
    "print(\"{}\".format(1000))"
   ]
  },
  {
   "cell_type": "code",
   "execution_count": 22,
   "id": "6b2319c5",
   "metadata": {},
   "outputs": [
    {
     "name": "stdout",
     "output_type": "stream",
     "text": [
      "  10\n",
      " 100\n",
      "1000\n"
     ]
    }
   ],
   "source": [
    "#formato de numeros enteros, rellenados con espacio\n",
    "print(\"{:4d}\".format(10))\n",
    "print(\"{:4d}\".format(100))\n",
    "print(\"{:4d}\".format(1000))"
   ]
  },
  {
   "cell_type": "code",
   "execution_count": 23,
   "id": "98f0c06f",
   "metadata": {},
   "outputs": [
    {
     "name": "stdout",
     "output_type": "stream",
     "text": [
      "0010\n",
      "0100\n",
      "1000\n"
     ]
    }
   ],
   "source": [
    "#formato de numeros enteros, rellenados con 0\n",
    "print(\"{:04d}\".format(10))\n",
    "print(\"{:04d}\".format(100))\n",
    "print(\"{:04d}\".format(1000))"
   ]
  },
  {
   "cell_type": "code",
   "execution_count": 24,
   "id": "5a256123",
   "metadata": {},
   "outputs": [
    {
     "name": "stdout",
     "output_type": "stream",
     "text": [
      "3.142\n"
     ]
    }
   ],
   "source": [
    "#formateo de numeros flotantes, rellenados con espacios\n",
    "print(\"{:.3f}\".format(3.1416926))#solo mostramos tres decimales"
   ]
  },
  {
   "cell_type": "code",
   "execution_count": 25,
   "id": "9520b5a3",
   "metadata": {},
   "outputs": [
    {
     "name": "stdout",
     "output_type": "stream",
     "text": [
      "3.142\n",
      "453.140\n"
     ]
    }
   ],
   "source": [
    "print(\"{:.3f}\".format(3.1416926))#solo mostramos tres decimales\n",
    "print(\"{:.3f}\".format(453.14))#solo mostramos tres decimales"
   ]
  },
  {
   "cell_type": "code",
   "execution_count": 26,
   "id": "692928e2",
   "metadata": {},
   "outputs": [
    {
     "name": "stdout",
     "output_type": "stream",
     "text": [
      "  3.142\n",
      "453.140\n"
     ]
    }
   ],
   "source": [
    "#aqui alineamos los decimales a una estructura mas bonita\n",
    "print(\"{:7.3f}\".format(3.1416926))#solo mostramos tres decimales 7=es la longitud de la cadena\n",
    "print(\"{:7.3f}\".format(453.14))#solo mostramos tres decimales"
   ]
  },
  {
   "cell_type": "code",
   "execution_count": 27,
   "id": "038c5d96",
   "metadata": {},
   "outputs": [
    {
     "name": "stdout",
     "output_type": "stream",
     "text": [
      "003.142\n",
      "453.140\n"
     ]
    }
   ],
   "source": [
    "#aqui alineamos los decimales a una estructura mas bonita\n",
    "print(\"{:07.3f}\".format(3.1416926))#solo mostramos tres decimales 7=es la longitud de la cadena\n",
    "print(\"{:07.3f}\".format(453.14))#solo mostramos tres decimales"
   ]
  }
 ],
 "metadata": {
  "kernelspec": {
   "display_name": "Python 3 (ipykernel)",
   "language": "python",
   "name": "python3"
  },
  "language_info": {
   "codemirror_mode": {
    "name": "ipython",
    "version": 3
   },
   "file_extension": ".py",
   "mimetype": "text/x-python",
   "name": "python",
   "nbconvert_exporter": "python",
   "pygments_lexer": "ipython3",
   "version": "3.10.8"
  }
 },
 "nbformat": 4,
 "nbformat_minor": 5
}
