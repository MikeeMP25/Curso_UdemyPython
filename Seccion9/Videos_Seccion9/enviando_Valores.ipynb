{
 "cells": [
  {
   "cell_type": "code",
   "execution_count": 1,
   "id": "faf0b143",
   "metadata": {},
   "outputs": [],
   "source": [
    "#Una funcion que recibe parametros\n",
    "#Definicion de la funcion suma recibe parametros \n",
    "def suma(a,b):\n",
    "    return a+b"
   ]
  },
  {
   "cell_type": "code",
   "execution_count": 2,
   "id": "89f28c9a",
   "metadata": {},
   "outputs": [
    {
     "data": {
      "text/plain": [
       "7"
      ]
     },
     "execution_count": 2,
     "metadata": {},
     "output_type": "execute_result"
    }
   ],
   "source": [
    "#Cuando mandamos los valores se le denomina \"argumentos\"suma(2,5)\n",
    "r=suma(2,5)\n",
    "r"
   ]
  },
  {
   "cell_type": "code",
   "execution_count": 10,
   "id": "46acd333",
   "metadata": {},
   "outputs": [
    {
     "name": "stdout",
     "output_type": "stream",
     "text": [
      "Bienvenidos a operaciones basicas.\n",
      "Seleccione la opcion a realizar\n",
      "a) Suma\n",
      "b) Resta\n",
      "c) Divición\n",
      "d) Multiplicación \n",
      "d\n",
      "Ingresa el primer numero entero:15\n",
      "Ingresa el segundo numero entero:5\n",
      "El resultado de la multiplicación es:  75\n"
     ]
    }
   ],
   "source": [
    "def resta(a,b):\n",
    "    return a-b\n",
    "def divicion(a,b):\n",
    "    return a/b\n",
    "def multiplicacion(a,b):\n",
    "    return a*b\n",
    "def captura_Datos():\n",
    "    numero_1=int(input(\"Ingresa el primer numero entero:\"))\n",
    "    numero_2=int(input(\"Ingresa el segundo numero entero:\"))\n",
    "    return numero_1,numero_2\n",
    "\n",
    "print(\"Bienvenidos a operaciones basicas.\")\n",
    "opcion=input(\"\"\"Seleccione la opcion a realizar\n",
    "a) Suma\n",
    "b) Resta\n",
    "c) Divición\n",
    "d) Multiplicación \n",
    "\"\"\")\n",
    "\n",
    "if opcion==\"a\":\n",
    "    a,b=captura_Datos()\n",
    "    r=suma(a,b)\n",
    "    print(\"El resultado de la suma es: \",r)\n",
    "elif opcion==\"b\":\n",
    "    #Se puede llamar una funcion dentro de otra funcion..!!\n",
    "    a,b=captura_Datos()\n",
    "    r=resta(a,b)\n",
    "    print(\"El resultado de la resta es: \",r)\n",
    "elif opcion==\"c\":\n",
    "    a,b=captura_Datos()\n",
    "    r=division(a,b)\n",
    "    print(\"El resultado de la división es: \",r)\n",
    "elif opcion==\"d\":\n",
    "    a,b=captura_Datos()\n",
    "    r=multiplicacion(a,b)\n",
    "    print(\"El resultado de la multiplicación es: \",r)\n",
    "else:\n",
    "    print(\"La opcion es incorrecta: \",opcion)\n",
    "\n"
   ]
  }
 ],
 "metadata": {
  "kernelspec": {
   "display_name": "Python 3 (ipykernel)",
   "language": "python",
   "name": "python3"
  },
  "language_info": {
   "codemirror_mode": {
    "name": "ipython",
    "version": 3
   },
   "file_extension": ".py",
   "mimetype": "text/x-python",
   "name": "python",
   "nbconvert_exporter": "python",
   "pygments_lexer": "ipython3",
   "version": "3.10.8"
  }
 },
 "nbformat": 4,
 "nbformat_minor": 5
}
