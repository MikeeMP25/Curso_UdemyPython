{
 "cells": [
  {
   "cell_type": "code",
   "execution_count": 1,
   "id": "4e5810ec",
   "metadata": {},
   "outputs": [],
   "source": [
    "#\n",
    "a=10"
   ]
  },
  {
   "cell_type": "code",
   "execution_count": 2,
   "id": "d8e1eac3",
   "metadata": {},
   "outputs": [
    {
     "data": {
      "text/plain": [
       "10"
      ]
     },
     "execution_count": 2,
     "metadata": {},
     "output_type": "execute_result"
    }
   ],
   "source": [
    "a"
   ]
  },
  {
   "cell_type": "code",
   "execution_count": 4,
   "id": "543f2fa2",
   "metadata": {},
   "outputs": [
    {
     "data": {
      "text/plain": [
       "10"
      ]
     },
     "execution_count": 4,
     "metadata": {},
     "output_type": "execute_result"
    }
   ],
   "source": [
    "#aqui la variable b obtiene el valor de la variable a\n",
    "#se crea uno tipo de dato y un espacio en la memoria\n",
    "b=a\n",
    "b"
   ]
  },
  {
   "cell_type": "code",
   "execution_count": 5,
   "id": "79e53e2e",
   "metadata": {},
   "outputs": [],
   "source": [
    "#reasignamos el valor ahora a 1000\n",
    "a=1000"
   ]
  },
  {
   "cell_type": "code",
   "execution_count": 6,
   "id": "c8e8e8a2",
   "metadata": {},
   "outputs": [
    {
     "data": {
      "text/plain": [
       "10"
      ]
     },
     "execution_count": 6,
     "metadata": {},
     "output_type": "execute_result"
    }
   ],
   "source": [
    "#aqui no cambio el valor de b ya que b lo obtiene de a \n",
    "b"
   ]
  },
  {
   "cell_type": "code",
   "execution_count": 7,
   "id": "d8a26daa",
   "metadata": {},
   "outputs": [
    {
     "data": {
      "text/plain": [
       "1000"
      ]
     },
     "execution_count": 7,
     "metadata": {},
     "output_type": "execute_result"
    }
   ],
   "source": [
    "#nuevo valor de la variable a\n",
    "a"
   ]
  },
  {
   "cell_type": "code",
   "execution_count": 8,
   "id": "12669751",
   "metadata": {},
   "outputs": [],
   "source": [
    "#aqui creamos una lista con los siguientes valores \n",
    "lista=[1,2,3,4,5]"
   ]
  },
  {
   "cell_type": "code",
   "execution_count": 9,
   "id": "20ed3f01",
   "metadata": {},
   "outputs": [],
   "source": [
    "#Es una copia de referencia de la lista en la memoria\n",
    "lista2=lista\n",
    "#Aqui se crea un acceso directo a la lista original"
   ]
  },
  {
   "cell_type": "code",
   "execution_count": 10,
   "id": "c919526f",
   "metadata": {},
   "outputs": [],
   "source": [
    "#Agregamos un nuevo valor a la lista \n",
    "lista[0]=1000"
   ]
  },
  {
   "cell_type": "code",
   "execution_count": 11,
   "id": "31a497d2",
   "metadata": {},
   "outputs": [
    {
     "data": {
      "text/plain": [
       "[1000, 2, 3, 4, 5]"
      ]
     },
     "execution_count": 11,
     "metadata": {},
     "output_type": "execute_result"
    }
   ],
   "source": [
    "#cambio la lista original por ende cambio la lista2 ya que es una referencia ala lista original \n",
    "#refran cambia el original y cambian su copias de referencias. \n",
    "lista2"
   ]
  },
  {
   "cell_type": "code",
   "execution_count": 14,
   "id": "b2e577dd",
   "metadata": {},
   "outputs": [],
   "source": [
    "#saber donde se queda esa variable en la memoria \n",
    "#direccion de la memoria \n",
    "def memoria(obj):\n",
    "    print(f\"{hex(id(obj))}\")"
   ]
  },
  {
   "cell_type": "code",
   "execution_count": 15,
   "id": "7868a0df",
   "metadata": {},
   "outputs": [
    {
     "name": "stdout",
     "output_type": "stream",
     "text": [
      "0x1100bb8c0\n"
     ]
    }
   ],
   "source": [
    "memoria(lista)\n"
   ]
  },
  {
   "cell_type": "code",
   "execution_count": 16,
   "id": "0a8639c3",
   "metadata": {},
   "outputs": [
    {
     "name": "stdout",
     "output_type": "stream",
     "text": [
      "0x1100bb8c0\n"
     ]
    }
   ],
   "source": [
    "#Aqui te das cuenta que enefecto es una copia de referencia de la lista en la memoria\n",
    "memoria(lista2)"
   ]
  },
  {
   "cell_type": "code",
   "execution_count": 17,
   "id": "7c823ba9",
   "metadata": {},
   "outputs": [
    {
     "name": "stdout",
     "output_type": "stream",
     "text": [
      "0x11042a510\n"
     ]
    }
   ],
   "source": [
    "memoria(a)"
   ]
  },
  {
   "cell_type": "code",
   "execution_count": 18,
   "id": "eb236017",
   "metadata": {},
   "outputs": [
    {
     "name": "stdout",
     "output_type": "stream",
     "text": [
      "0x10ccc4210\n"
     ]
    }
   ],
   "source": [
    "#aqui te das cuenta que no es lo mismo en memoria\n",
    "#entonces apezar que b=a no quiere decir que sea iguales \n",
    "#ya que crea una nueva variable en la memoria pero el valor de la variable es la misma\n",
    "#sus comportamientos son diferentes \n",
    "memoria(b)"
   ]
  }
 ],
 "metadata": {
  "kernelspec": {
   "display_name": "Python 3 (ipykernel)",
   "language": "python",
   "name": "python3"
  },
  "language_info": {
   "codemirror_mode": {
    "name": "ipython",
    "version": 3
   },
   "file_extension": ".py",
   "mimetype": "text/x-python",
   "name": "python",
   "nbconvert_exporter": "python",
   "pygments_lexer": "ipython3",
   "version": "3.10.8"
  }
 },
 "nbformat": 4,
 "nbformat_minor": 5
}
