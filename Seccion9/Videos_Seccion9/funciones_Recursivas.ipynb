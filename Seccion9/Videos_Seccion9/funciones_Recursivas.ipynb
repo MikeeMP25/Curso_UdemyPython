{
 "cells": [
  {
   "cell_type": "code",
   "execution_count": 3,
   "id": "f27c535c",
   "metadata": {},
   "outputs": [
    {
     "name": "stdout",
     "output_type": "stream",
     "text": [
      "10\n",
      "9\n",
      "8\n",
      "7\n",
      "6\n",
      "5\n",
      "4\n",
      "3\n",
      "2\n",
      "1\n",
      "KaaaBOOMMM!\n",
      "Fin de la funcion recursiva 0\n",
      "Fin de la funcion recursiva 1\n",
      "Fin de la funcion recursiva 2\n",
      "Fin de la funcion recursiva 3\n",
      "Fin de la funcion recursiva 4\n",
      "Fin de la funcion recursiva 5\n",
      "Fin de la funcion recursiva 6\n",
      "Fin de la funcion recursiva 7\n",
      "Fin de la funcion recursiva 8\n",
      "Fin de la funcion recursiva 9\n",
      "Fin de la funcion recursiva 10\n"
     ]
    }
   ],
   "source": [
    "#Funciones recursivas\n",
    "# puedes llamar a la funcion dentro de la misma funcion \n",
    "def detonador(num):\n",
    "    num-=1\n",
    "    if num > 0:\n",
    "        print(num)\n",
    "        #se llama asi misma pero el argumento de entrada ya no es mismo \n",
    "        #detonador(num) mi funcion recibe un parametro num=11\n",
    "        #pero luego decrementa -1 entonces num=10\n",
    "        #vuelvo a llamar a la funcion detonador(num) pero el parametro cambia\n",
    "        #num=10\n",
    "        #es un ciclo\n",
    "        detonador(num)\n",
    "    else:\n",
    "        print(\"KaaaBOOMMM!\")\n",
    "    print(\"Fin de la funcion recursiva\",num)    \n",
    "\n",
    "detonador(11)        "
   ]
  },
  {
   "cell_type": "code",
   "execution_count": 14,
   "id": "d4cbce06",
   "metadata": {},
   "outputs": [
    {
     "name": "stdout",
     "output_type": "stream",
     "text": [
      "Valor inicial -> 5\n",
      "Valor inicial -> 4\n",
      "Valor inicial -> 3\n",
      "Valor inicial -> 2\n",
      "Valor inicial -> 1\n",
      "valor final -> 1\n",
      "valor final -> 2\n",
      "valor final -> 6\n",
      "valor final -> 24\n",
      "valor final -> 120\n"
     ]
    },
    {
     "data": {
      "text/plain": [
       "120"
      ]
     },
     "execution_count": 14,
     "metadata": {},
     "output_type": "execute_result"
    }
   ],
   "source": [
    "#dudas ..!!!\n",
    "#Segundo ejemplo \n",
    "def factoria(num):\n",
    "    print(\"Valor inicial ->\",num)\n",
    "    if num > 1:\n",
    "        #print(factoria(num-1),num*factoria(num-1))\n",
    "        num=num*factoria(num-1)\n",
    "        \n",
    "    print(\"valor final ->\",num)\n",
    "    return num\n",
    "\n",
    "factoria(5)\n"
   ]
  },
  {
   "cell_type": "code",
   "execution_count": null,
   "id": "0960bf18",
   "metadata": {},
   "outputs": [],
   "source": []
  }
 ],
 "metadata": {
  "kernelspec": {
   "display_name": "Python 3 (ipykernel)",
   "language": "python",
   "name": "python3"
  },
  "language_info": {
   "codemirror_mode": {
    "name": "ipython",
    "version": 3
   },
   "file_extension": ".py",
   "mimetype": "text/x-python",
   "name": "python",
   "nbconvert_exporter": "python",
   "pygments_lexer": "ipython3",
   "version": "3.10.8"
  }
 },
 "nbformat": 4,
 "nbformat_minor": 5
}
