{
 "cells": [
  {
   "cell_type": "code",
   "execution_count": 1,
   "id": "0755da1b",
   "metadata": {},
   "outputs": [
    {
     "data": {
      "text/plain": [
       "10"
      ]
     },
     "execution_count": 1,
     "metadata": {},
     "output_type": "execute_result"
    }
   ],
   "source": [
    "#Explicacion de Argumentos por valor y referencia\n",
    "\n",
    "#EJEMPLO POR VALOR\n",
    "def doblar_valor(numero):\n",
    "    #aqui es una copia de la variable\n",
    "    numero*=2\n",
    "n=10\n",
    "doblar_valor(n)\n",
    "n\n",
    "#Nota no cambia el valor original n=10 ya que la variable se pasa por valor\n",
    "#"
   ]
  },
  {
   "cell_type": "code",
   "execution_count": 2,
   "id": "27938d49",
   "metadata": {},
   "outputs": [
    {
     "data": {
      "text/plain": [
       "[20, 100, 200]"
      ]
     },
     "execution_count": 2,
     "metadata": {},
     "output_type": "execute_result"
    }
   ],
   "source": [
    "#EJEMPLO POR REFERENCIA\n",
    "def doblar_valores(numeros):\n",
    "    for i,n in enumerate(numeros):\n",
    "        numeros[i]*=2\n",
    "#Lista de numeros iniciales \n",
    "ns=[10,50,100]\n",
    "doblar_valores(ns)\n",
    "#nueva lista de numeros duplicados\n",
    "ns\n",
    "#Nota: las lista se pasan por referencia "
   ]
  },
  {
   "cell_type": "code",
   "execution_count": 3,
   "id": "af88c9f7",
   "metadata": {},
   "outputs": [
    {
     "data": {
      "text/plain": [
       "20"
      ]
     },
     "execution_count": 3,
     "metadata": {},
     "output_type": "execute_result"
    }
   ],
   "source": [
    "#\"la pregunta del dia es que en python es posible indicarle cuando se pasa \n",
    "#un argumento por referencia o por valor\"\n",
    "#\"la repuesta es: NO\"\n",
    "\n",
    "#Podemos usar un truco para cambiar el valor original \n",
    "#reasignando el valor n \n",
    "\n",
    "def doblar_valor(numero):\n",
    "    #aqui es una copia de la variable n\n",
    "    return numero*2\n",
    "n=10\n",
    "n=doblar_valor(n)\n",
    "n\n"
   ]
  },
  {
   "cell_type": "code",
   "execution_count": 4,
   "id": "5efd5913",
   "metadata": {},
   "outputs": [
    {
     "data": {
      "text/plain": [
       "[10, 50, 100]"
      ]
     },
     "execution_count": 4,
     "metadata": {},
     "output_type": "execute_result"
    }
   ],
   "source": [
    "#Para evitar que la lista original se modifique podemos utilizar los siguiente\n",
    "def doblar_valores(numeros):\n",
    "    for i,n in enumerate(numeros):\n",
    "        numeros[i]*=2\n",
    "#Lista de numeros iniciales \n",
    "ns=[10,50,100]\n",
    "#creamos una copia de la lista...\n",
    "#asi evitamos que modifique al original\n",
    "doblar_valores(ns[:])\n",
    "\n",
    "ns"
   ]
  }
 ],
 "metadata": {
  "kernelspec": {
   "display_name": "Python 3 (ipykernel)",
   "language": "python",
   "name": "python3"
  },
  "language_info": {
   "codemirror_mode": {
    "name": "ipython",
    "version": 3
   },
   "file_extension": ".py",
   "mimetype": "text/x-python",
   "name": "python",
   "nbconvert_exporter": "python",
   "pygments_lexer": "ipython3",
   "version": "3.10.8"
  }
 },
 "nbformat": 4,
 "nbformat_minor": 5
}
