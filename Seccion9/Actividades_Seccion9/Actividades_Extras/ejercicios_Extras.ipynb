{
 "cells": [
  {
   "cell_type": "code",
   "execution_count": 2,
   "id": "55049ddb",
   "metadata": {},
   "outputs": [
    {
     "name": "stdout",
     "output_type": "stream",
     "text": [
      "El área de un rectangulo es: 150\n"
     ]
    }
   ],
   "source": [
    "#Ejercicio optativo #1\n",
    "#Realiza una función llamada area_rectangulo() que devuelva el area del cuadrado\n",
    "#a partir de una base y una altura ¿Calcula el área de un rectángulo de 15 de \n",
    "# de base y 10 de altura?\n",
    "def area_rectangulo(b,a):\n",
    "    return b*a\n",
    "\n",
    "print(\"El área de un rectangulo es:\",area_rectangulo(15,10))"
   ]
  },
  {
   "cell_type": "code",
   "execution_count": 8,
   "id": "ba217bd5",
   "metadata": {},
   "outputs": [
    {
     "data": {
      "text/plain": [
       "19.634954084936208"
      ]
     },
     "execution_count": 8,
     "metadata": {},
     "output_type": "execute_result"
    }
   ],
   "source": [
    "#Ejercicio optativo #2\n",
    "#Realiza una funcion llamada area_circulo() que devuelva el area de un circulo a partir de un radio.\n",
    "#¿Calcula el area de un circulo de 5 de ancho?\n",
    "\n",
    "import math\n",
    "def area_circulo(ancho):\n",
    "    radio=ancho/2\n",
    "    return (radio**2)*math.pi\n",
    "\n",
    "area_circulo(5)\n",
    "    \n",
    "\n"
   ]
  },
  {
   "cell_type": "code",
   "execution_count": 10,
   "id": "6864a0d0",
   "metadata": {},
   "outputs": [
    {
     "name": "stdout",
     "output_type": "stream",
     "text": [
      "-1\n",
      "1\n",
      "0\n"
     ]
    }
   ],
   "source": [
    "#Ejercicio optativo #3\n",
    "#Realiza una funcion llamada relacion() que a partir de dos numeros cumpla lo siguiente:\n",
    "\n",
    "def relacion(x,y):\n",
    "    if x > y:\n",
    "        return 1\n",
    "    elif x < y:\n",
    "        return -1\n",
    "    else:\n",
    "        return 0\n",
    "\n",
    "print(relacion(5,10))\n",
    "\n",
    "print(relacion(10,5))\n",
    "\n",
    "print(relacion(5,5))    \n",
    "\n",
    "    \n"
   ]
  },
  {
   "cell_type": "code",
   "execution_count": 13,
   "id": "3d39ceb2",
   "metadata": {},
   "outputs": [
    {
     "data": {
      "text/plain": [
       "0.0"
      ]
     },
     "execution_count": 13,
     "metadata": {},
     "output_type": "execute_result"
    }
   ],
   "source": [
    "#Ejercicio optativo #4\n",
    "#Realiza una funcion llamada intermedio() que a partir de dos numeros, devuelva\n",
    "#su punto intermedio:\n",
    "\n",
    "#Nota: El numero intermedio de dos numeros corresponde a la suma de los dos numeros\n",
    "#dividida entre 2\n",
    "\n",
    "def intermedio(punto_x,punto_y):\n",
    "    #Nota: la logica numerica de operaciones en python se hace desde * / () + -   \n",
    "    operacion=(punto_x+punto_y)/2\n",
    "    return operacion\n",
    "intermedio(-12,12)\n"
   ]
  },
  {
   "cell_type": "code",
   "execution_count": 25,
   "id": "b5ac9d05",
   "metadata": {},
   "outputs": [
    {
     "name": "stdout",
     "output_type": "stream",
     "text": [
      "15\n"
     ]
    }
   ],
   "source": [
    "#Ejercicio optativo #5\n",
    "#Realiza una funcion llamada recortar() que reciba tres parametros. El primero es el numero\n",
    "#a recortar, el segundo es el limite inferior y el tercero el limite superior. la funcion tendra \n",
    "#que cumplir lo siguiente\n",
    "\n",
    "def recortar(num,inferior,superior):\n",
    "    if num  < inferior:\n",
    "        return inferior\n",
    "    elif num > superior:\n",
    "        return superior\n",
    "    else:\n",
    "        return num\n",
    "    \n",
    "print(recortar(15,0,16))\n",
    "    "
   ]
  },
  {
   "cell_type": "code",
   "execution_count": 33,
   "id": "040cb13b",
   "metadata": {},
   "outputs": [
    {
     "name": "stdout",
     "output_type": "stream",
     "text": [
      "-12\n",
      "84\n",
      "13\n",
      "20\n",
      "-33\n",
      "101\n",
      "9\n",
      "([-12, 20, 84], [-33, 9, 13, 101])\n"
     ]
    }
   ],
   "source": [
    "#Ejercicio optativo #6\n",
    "#Realiza una funcion separar() que tome una lista de numeros enteros y devuelva dos lista ordenadas.\n",
    "#La primera con los numeros pares, la segunda con los numeros impares\n",
    "\n",
    "#EJEMPLO \n",
    "#pares, impares=separar([6,5,2,1,7])\n",
    "#print(pares) valdra[2,6]\n",
    "#print(impares) valdra[1,5,7]\n",
    "\n",
    "impares=[]\n",
    "pares=[]\n",
    "def separar(numeros):\n",
    "    \n",
    "    for posicion in numeros:\n",
    "        print(posicion)\n",
    "        if posicion %2 ==0:\n",
    "            pares.append(posicion)\n",
    "            pares.sort()\n",
    "        else:\n",
    "            impares.append(posicion)\n",
    "            impares.sort()\n",
    "    return pares,impares\n",
    "\n",
    "print(separar([-12,84,13,20,-33,101,9]))"
   ]
  },
  {
   "cell_type": "code",
   "execution_count": null,
   "id": "849dda73",
   "metadata": {},
   "outputs": [],
   "source": []
  }
 ],
 "metadata": {
  "kernelspec": {
   "display_name": "Python 3 (ipykernel)",
   "language": "python",
   "name": "python3"
  },
  "language_info": {
   "codemirror_mode": {
    "name": "ipython",
    "version": 3
   },
   "file_extension": ".py",
   "mimetype": "text/x-python",
   "name": "python",
   "nbconvert_exporter": "python",
   "pygments_lexer": "ipython3",
   "version": "3.10.8"
  }
 },
 "nbformat": 4,
 "nbformat_minor": 5
}
