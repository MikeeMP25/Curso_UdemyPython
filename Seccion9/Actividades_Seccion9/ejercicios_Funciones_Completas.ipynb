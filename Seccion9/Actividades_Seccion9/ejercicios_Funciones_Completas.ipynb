{
 "cells": [
  {
   "cell_type": "code",
   "execution_count": 1,
   "id": "2958f3e9",
   "metadata": {},
   "outputs": [
    {
     "name": "stdout",
     "output_type": "stream",
     "text": [
      "Ingresa un numero entero:25\n",
      "IMPAR\n"
     ]
    }
   ],
   "source": [
    "#Ejercicio de codificación 18: Funciones\n",
    "def par_0_impar(numero):\n",
    "    if numero % 2 == 0:\n",
    "        return \"PAR\"\n",
    "    elif numero % 2!=0:\n",
    "        return \"IMPAR\"\n",
    "    else:\n",
    "        return \"ES INVALIDO\"\n",
    "    \n",
    "numero=int(input(\"Ingresa un numero entero:\"))\n",
    "\n",
    "print(par_0_impar(numero))"
   ]
  },
  {
   "cell_type": "code",
   "execution_count": 2,
   "id": "6dcabeaf",
   "metadata": {},
   "outputs": [
    {
     "name": "stdout",
     "output_type": "stream",
     "text": [
      "Ingresa un numero entero:45\n",
      "Ingresa el minimo un numero entero:40\n",
      "Ingresa el maximo un numero entero:30\n"
     ]
    },
    {
     "data": {
      "text/plain": [
       "30"
      ]
     },
     "execution_count": 2,
     "metadata": {},
     "output_type": "execute_result"
    }
   ],
   "source": [
    "#Ejercicio de codificacion 19: Funciones completas\n",
    "def recortar(numero,minimo,maximo):\n",
    "    if numero<minimo:\n",
    "        return minimo\n",
    "    elif numero>maximo:\n",
    "        return maximo\n",
    "    else:\n",
    "        return numero\n",
    "num=int(input(\"Ingresa un numero entero:\"))\n",
    "num_min=int(input(\"Ingresa el minimo un numero entero:\"))\n",
    "num_max=int(input(\"Ingresa el maximo un numero entero:\"))\n",
    "\n",
    "r=recortar(num,num_min,num_max)\n",
    "r\n",
    "\n"
   ]
  }
 ],
 "metadata": {
  "kernelspec": {
   "display_name": "Python 3 (ipykernel)",
   "language": "python",
   "name": "python3"
  },
  "language_info": {
   "codemirror_mode": {
    "name": "ipython",
    "version": 3
   },
   "file_extension": ".py",
   "mimetype": "text/x-python",
   "name": "python",
   "nbconvert_exporter": "python",
   "pygments_lexer": "ipython3",
   "version": "3.10.8"
  }
 },
 "nbformat": 4,
 "nbformat_minor": 5
}
