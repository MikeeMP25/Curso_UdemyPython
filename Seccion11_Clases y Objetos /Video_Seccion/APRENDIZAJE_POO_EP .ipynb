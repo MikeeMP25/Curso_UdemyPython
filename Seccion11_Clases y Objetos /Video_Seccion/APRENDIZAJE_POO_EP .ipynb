{
 "cells": [
  {
   "cell_type": "code",
   "execution_count": 3,
   "id": "8109d004",
   "metadata": {},
   "outputs": [],
   "source": [
    "#Para python todos son objetos \n",
    "#Tercera fase\n",
    "#Para digmas de programacion \n",
    "#Programacion Estructura y POO(Programacion Orientada a Objetos)\n",
    "\n",
    "#EJEMPLO DE IMPLEMENTACION CON PROGRAMACION ESTRUCTURADA\n",
    "\n",
    "lista_clientes=[{\"Nombre\":\"hector\",\"Apellidos\":\"Costa Guzman\",\"dni\":\"11111A\"},\n",
    "               {\"Nombre\":\"Juan\",\"Apellidos\":\"Gonzales Marques\",\"dni\":\"22222B\"}\n",
    "              ]"
   ]
  },
  {
   "cell_type": "code",
   "execution_count": 7,
   "id": "3ec309fd",
   "metadata": {},
   "outputs": [
    {
     "data": {
      "text/plain": [
       "[{'Nombre': 'hector', 'Apellidos': 'Costa Guzman', 'dni': '11111A'},\n",
       " {'Nombre': 'Juan', 'Apellidos': 'Gonzales Marques', 'dni': '22222B'}]"
      ]
     },
     "execution_count": 7,
     "metadata": {},
     "output_type": "execute_result"
    }
   ],
   "source": [
    "lista_clientes"
   ]
  },
  {
   "cell_type": "code",
   "execution_count": 4,
   "id": "f18fe53a",
   "metadata": {},
   "outputs": [],
   "source": [
    "def mostrar_cliente(lista_clientes,dni):\n",
    "    for c in lista_clientes:\n",
    "        if(dni==c[\"dni\"]):\n",
    "            print('{} {}'.format(c[\"Nombre\"],c[\"Apellidos\"]))\n",
    "            return\n",
    "    print(\"Cliente no encontrado\")\n",
    "    \n"
   ]
  },
  {
   "cell_type": "code",
   "execution_count": 20,
   "id": "5ae8e381",
   "metadata": {},
   "outputs": [
    {
     "name": "stdout",
     "output_type": "stream",
     "text": [
      "Cliente no encontrado\n"
     ]
    }
   ],
   "source": [
    "mostrar_cliente(lista_clientes,\"11111B\")"
   ]
  },
  {
   "cell_type": "code",
   "execution_count": 17,
   "id": "2ab43589",
   "metadata": {},
   "outputs": [],
   "source": [
    "def borrar_cliente(lista_clientes,dni):\n",
    "    for l,c in enumerate(lista_clientes):#Recorre la lista\n",
    "        if(dni == c['dni']):#busca el dni del cliente que este en la lista\n",
    "            del(lista_clientes[l])#borrar una lista \n",
    "            print(str(c),\"¬¬ Delete\")#muestra el diccinario que se borro en la lista_clientes\n",
    "            return\n",
    "        \n",
    "    print(\"Cliente no encontrado\")\n",
    "    "
   ]
  },
  {
   "cell_type": "code",
   "execution_count": 18,
   "id": "a07ec728",
   "metadata": {},
   "outputs": [
    {
     "name": "stdout",
     "output_type": "stream",
     "text": [
      "{'Nombre': 'Juan', 'Apellidos': 'Gonzales Marques', 'dni': '22222B'} ¬¬ Delete\n"
     ]
    }
   ],
   "source": [
    "borrar_cliente(lista_clientes,\"22222B\")\n"
   ]
  },
  {
   "cell_type": "code",
   "execution_count": 19,
   "id": "932c7699",
   "metadata": {},
   "outputs": [
    {
     "data": {
      "text/plain": [
       "[{'Nombre': 'hector', 'Apellidos': 'Costa Guzman', 'dni': '11111A'}]"
      ]
     },
     "execution_count": 19,
     "metadata": {},
     "output_type": "execute_result"
    }
   ],
   "source": [
    "lista_clientes"
   ]
  },
  {
   "cell_type": "code",
   "execution_count": null,
   "id": "e12e94b3",
   "metadata": {},
   "outputs": [],
   "source": [
    "def borrar_cliente(lista_clientes,dni):\n",
    "    for c in lista_clientes:\n",
    "        if(dni==c[\"dni\"]):\n",
    "            \n",
    "            #print('{}{}'.format(c[\"Nombre\"],c[\"Apellidos\"]))\n",
    "            return\n",
    "    print(\"Cliente no encontrado\")\n",
    "    "
   ]
  },
  {
   "cell_type": "code",
   "execution_count": null,
   "id": "8527f907",
   "metadata": {},
   "outputs": [],
   "source": []
  },
  {
   "cell_type": "code",
   "execution_count": null,
   "id": "be269ed0",
   "metadata": {},
   "outputs": [],
   "source": [
    "#PROGRAMACION ORIENTADA A OBJETOS\n",
    "### No intentes entender este código, sólo fíjate en cómo se utiliza abajo  \n",
    "\n",
    "# Creo una estructura para los clientes\n",
    "class Cliente:\n",
    "\n",
    "    def __init__(self, dni, nombre, apellidos):\n",
    "        self.dni = dni\n",
    "        self.nombre = nombre\n",
    "        self.apellidos = apellidos\n",
    "\n",
    "    def __str__(self):\n",
    "        return '{} {}'.format(self.nombre,self.apellidos)\n",
    "\n",
    "# Y otra para las empresas\n",
    "class Empresa:\n",
    "\n",
    "    def __init__(self, clientes=[]):\n",
    "        self.clientes = clientes\n",
    "\n",
    "    def mostrar_cliente(self, dni=None):\n",
    "        for c in self.clientes:\n",
    "            if c.dni == dni:\n",
    "                print(c)\n",
    "                return\n",
    "        print(\"Cliente no encontrado\")\n",
    "\n",
    "    def borrar_cliente(self, dni=None):\n",
    "        for i,c in enumerate(self.clientes):\n",
    "            if c.dni == dni:\n",
    "                del(self.clientes[i])\n",
    "                print(str(c),\"> BORRADO\")\n",
    "                return\n",
    "        print(\"Cliente no encontrado\")\n",
    "\n",
    "### Ahora utilizaré ambas estructuras \n",
    "\n",
    "# Creo un par de clientes\n",
    "hector = Cliente(nombre=\"Hector\", apellidos=\"Costa Guzman\", dni=\"11111111A\")#OBJ 1 CLIENTE\n",
    "juan = Cliente(\"22222222B\", \"Juan\", \"Gonzalez Marquez\")#OBJ 2\n",
    "\n",
    "# Creo una empresa con los clientes iniciales\n",
    "empresa = Empresa(clientes=[hector, juan]) #OBJTO EMPERAS\n",
    "\n",
    "# Muestro todos los clientes\n",
    "print(\"==LISTADO DE CLIENTES==\")\n",
    "print(empresa.clientes)\n",
    "\n",
    "print(\"\\n==MOSTRAR CLIENTES POR DNI==\")\n",
    "# Consulto clientes por DNI\n",
    "empresa.mostrar_cliente(\"11111111A\")\n",
    "empresa.mostrar_cliente(\"11111111Z\")\n",
    "\n",
    "print(\"\\n==BORRAR CLIENTES POR DNI==\")\n",
    "# Borro un cliente por DNI\n",
    "empresa.borrar_cliente(\"22222222V\")\n",
    "empresa.borrar_cliente(\"22222222B\")\n",
    "\n",
    "# Muestro de nuevo todos los clientes\n",
    "print(\"\\n==LISTADO DE CLIENTES==\")\n",
    "print(empresa.clientes)"
   ]
  },
  {
   "cell_type": "code",
   "execution_count": null,
   "id": "021d99fa",
   "metadata": {},
   "outputs": [],
   "source": []
  }
 ],
 "metadata": {
  "kernelspec": {
   "display_name": "Python 3 (ipykernel)",
   "language": "python",
   "name": "python3"
  },
  "language_info": {
   "codemirror_mode": {
    "name": "ipython",
    "version": 3
   },
   "file_extension": ".py",
   "mimetype": "text/x-python",
   "name": "python",
   "nbconvert_exporter": "python",
   "pygments_lexer": "ipython3",
   "version": "3.10.8"
  }
 },
 "nbformat": 4,
 "nbformat_minor": 5
}
