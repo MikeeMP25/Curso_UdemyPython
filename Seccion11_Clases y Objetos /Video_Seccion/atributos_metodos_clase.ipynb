{
 "cells": [
  {
   "cell_type": "code",
   "execution_count": 1,
   "id": "09100602",
   "metadata": {},
   "outputs": [],
   "source": [
    "class Pokemon:\n",
    "    pass #Decimos que la clse no contiene nada pero si exite la clase pokemon\n",
    "\n",
    "#Creamos el objeto de la clase\n",
    "pikachu=Pokemon()"
   ]
  },
  {
   "cell_type": "code",
   "execution_count": 2,
   "id": "843e16e0",
   "metadata": {},
   "outputs": [],
   "source": [
    "#En python podemos agregar los atributos de mi clase desde afuera mediante mi objeto de la clase Pokemon \n",
    "pikachu.color=\"Amarillo\"\n",
    "pikachu.tipo=\"Electrico\"\n",
    "pikachu.etapa=2"
   ]
  },
  {
   "cell_type": "code",
   "execution_count": 3,
   "id": "168922c6",
   "metadata": {},
   "outputs": [
    {
     "name": "stdout",
     "output_type": "stream",
     "text": [
      "Caracteristicas de mi objeto pikachu son:  amarillo Electrico 2\n"
     ]
    }
   ],
   "source": [
    "#imprimos la comprobacion\n",
    "print(\"Caracteristicas de mi objeto pikachu son: \",pikachu.color,pikachu.tipo,pikachu.etapa)"
   ]
  },
  {
   "cell_type": "code",
   "execution_count": 4,
   "id": "6000d812",
   "metadata": {},
   "outputs": [
    {
     "data": {
      "text/plain": [
       "5"
      ]
     },
     "execution_count": 4,
     "metadata": {},
     "output_type": "execute_result"
    }
   ],
   "source": [
    "#la forma tradicional es declararlas dentro de mi clase \n",
    "\n",
    "class Pokemon:\n",
    "    color = \"Naranja\"\n",
    "    tipo = \"Volador\"\n",
    "    elemento= \"Fuego\"\n",
    "    nivel=5\n",
    "charizar=Pokemon()\n",
    "charizar.nivel"
   ]
  },
  {
   "cell_type": "code",
   "execution_count": 5,
   "id": "c6fdee75",
   "metadata": {},
   "outputs": [],
   "source": [
    "charizar.elemento=\"Rayo\""
   ]
  },
  {
   "cell_type": "code",
   "execution_count": 6,
   "id": "058457eb",
   "metadata": {},
   "outputs": [
    {
     "data": {
      "text/plain": [
       "'Rayo'"
      ]
     },
     "execution_count": 6,
     "metadata": {},
     "output_type": "execute_result"
    }
   ],
   "source": [
    "charizar.elemento"
   ]
  },
  {
   "cell_type": "code",
   "execution_count": 10,
   "id": "3dc27a00",
   "metadata": {},
   "outputs": [
    {
     "name": "stdout",
     "output_type": "stream",
     "text": [
      "Se acaba de crear un nuevo pokemon\n",
      "Mi pokemon no pertenece a la naturaleza de:  Rayo\n",
      "Mi pokemon pertence a la naturaleza de : Fuego\n"
     ]
    }
   ],
   "source": [
    "class Pokemon:\n",
    "    color = \"Naranja\"\n",
    "    tipo = \"Volador\"\n",
    "    elemento= \"Rayo\"\n",
    "    nivel=5\n",
    "    def __init__(self):\n",
    "        print(\"Se acaba de crear un nuevo pokemon\")\n",
    "    \n",
    "    \n",
    "    def cambio(self):\n",
    "        #pensamos que hace referencia al atributo de mi clase pero la verdad es que no \n",
    "        #sino lo toma como en cuenta como una varible interna del metodo caracterristicas\n",
    "        ##\n",
    "        elemento=\"Viento\"\n",
    "        #self es una llave para acceder a los atributos de mi clase Pokemon\n",
    "        self.elemento=\"Fuego\"#aqui cambia mi variable inicializa elemento=\"Fuego\" a elemento = \"Rayo\" \n",
    "    def naturaleza(self):\n",
    "        if self.elemento==\"Fuego\":\n",
    "            print(\"Mi pokemon pertence a la naturaleza de :\",self.elemento)\n",
    "        else:\n",
    "            print(\"Mi pokemon no pertenece a la naturaleza de: \",self.elemento)\n",
    "\n",
    "charizar=Pokemon()\n",
    "charizar.naturaleza()\n",
    "charizar.cambio()\n",
    "charizar.naturaleza()"
   ]
  },
  {
   "cell_type": "code",
   "execution_count": 17,
   "id": "1be8cd27",
   "metadata": {},
   "outputs": [],
   "source": [
    "class Pokemon:\n",
    "    \n",
    "    #Nota self.color crea un atributo de la clase y le asigna el color que recibe en los parametros (color) \n",
    "    def __init__(self,color,tipo,elemento,nivel):\n",
    "        self.color = color\n",
    "        self.tipo = \"Volador\"\n",
    "        self.elemento= elemento\n",
    "        self.nivel=nivel\n",
    "        print(\"\"\"Se acaba de crear un nuevo pokemon con las siguientes caracteristicas\n",
    "        color= {}\n",
    "        tipo= {}\n",
    "        elemento= {}\n",
    "        nivel= {}\"\"\".format(color,self.tipo,elemento,nivel))\n",
    "    \n",
    "    \n",
    "    def cambio(self):\n",
    "        #pensamos que hace referencia al atributo de mi clase pero la verdad es que no \n",
    "        #sino lo toma como en cuenta como una varible interna del metodo caracterristicas\n",
    "        ##\n",
    "        elemento=\"Viento\"\n",
    "        #self es una llave para acceder a los atributos de mi clase Pokemon\n",
    "        self.elemento=\"Fuego\"#aqui cambia mi variable inicializa elemento=\"Fuego\" a elemento = \"Rayo\" \n",
    "    def naturaleza(self):\n",
    "        if self.elemento==\"Fuego\":\n",
    "            print(\"Mi pokemon pertence a la naturaleza de :\",self.elemento)\n",
    "        else:\n",
    "            print(\"Mi pokemon no pertenece a la naturaleza de: \",self.elemento)\n",
    "\n",
    "#¡Es importante el self en una clase en python!"
   ]
  },
  {
   "cell_type": "code",
   "execution_count": 19,
   "id": "83f5247b",
   "metadata": {},
   "outputs": [
    {
     "name": "stdout",
     "output_type": "stream",
     "text": [
      "Se acaba de crear un nuevo pokemon con las siguientes caracteristicas\n",
      "        color= blanco\n",
      "        tipo= Volador\n",
      "        elemento= Mistico\n",
      "        nivel= 10\n"
     ]
    },
    {
     "data": {
      "text/plain": [
       "'blanco'"
      ]
     },
     "execution_count": 19,
     "metadata": {},
     "output_type": "execute_result"
    }
   ],
   "source": [
    "lugia=Pokemon(\"blanco\",\"Terrestre\",\"Mistico\",10)\n",
    "lugia.color"
   ]
  },
  {
   "cell_type": "code",
   "execution_count": null,
   "id": "52ca9aa3",
   "metadata": {},
   "outputs": [],
   "source": []
  }
 ],
 "metadata": {
  "kernelspec": {
   "display_name": "Python 3 (ipykernel)",
   "language": "python",
   "name": "python3"
  },
  "language_info": {
   "codemirror_mode": {
    "name": "ipython",
    "version": 3
   },
   "file_extension": ".py",
   "mimetype": "text/x-python",
   "name": "python",
   "nbconvert_exporter": "python",
   "pygments_lexer": "ipython3",
   "version": "3.10.8"
  }
 },
 "nbformat": 4,
 "nbformat_minor": 5
}
