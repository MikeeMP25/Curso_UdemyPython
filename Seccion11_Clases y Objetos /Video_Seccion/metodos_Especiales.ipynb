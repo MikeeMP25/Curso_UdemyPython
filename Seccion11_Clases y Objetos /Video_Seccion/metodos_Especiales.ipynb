{
 "cells": [
  {
   "cell_type": "code",
   "execution_count": 21,
   "id": "50ff3f31",
   "metadata": {},
   "outputs": [
    {
     "name": "stdout",
     "output_type": "stream",
     "text": [
      "Se ha creado una pelicula:  El padrino\n"
     ]
    }
   ],
   "source": [
    "#Aqui veremos los metodos especiales de la clase\n",
    "\n",
    "class Pelicula:\n",
    "    #titulo\n",
    "    #duracion\n",
    "    #lanzamiento\n",
    "    #contructor con parametros de la clase \n",
    "    def __init__(self,title,duration,year):\n",
    "        self.titulo=title\n",
    "        self.duracion=duration\n",
    "        self.lanzamiento=year\n",
    "        print(\"Se ha creado una pelicula: \",title)\n",
    "    \n",
    "    #Destructor de la clase\n",
    "    def __del__(self):\n",
    "        print(\"se esta borrando la peli: \",self.titulo)\n",
    "\n",
    "p=Pelicula(\"El padrino\",171,1997)\n",
    "#del(p) \"Elimina el espacio en la memoria y la instancia de la clase\""
   ]
  },
  {
   "cell_type": "code",
   "execution_count": 22,
   "id": "4ba90d58",
   "metadata": {},
   "outputs": [
    {
     "data": {
      "text/plain": [
       "'<__main__.Pelicula object at 0x10dc37940>'"
      ]
     },
     "execution_count": 22,
     "metadata": {},
     "output_type": "execute_result"
    }
   ],
   "source": [
    "#Aqui nos devuelve una cadena con el espacio en memoria\n",
    "str(p)"
   ]
  },
  {
   "cell_type": "code",
   "execution_count": 27,
   "id": "206968f1",
   "metadata": {},
   "outputs": [
    {
     "name": "stdout",
     "output_type": "stream",
     "text": [
      "Se ha creado una pelicula:  EL padrino\n"
     ]
    }
   ],
   "source": [
    "class Pelicula:\n",
    "    #titulo\n",
    "    #duracion\n",
    "    #lanzamiento\n",
    "    #contructor con parametros de la clase \n",
    "    def __init__(self,title,duration,year):\n",
    "        self.titulo=title\n",
    "        self.duracion=duration\n",
    "        self.lanzamiento=year\n",
    "        print(\"Se ha creado una pelicula: \",title)\n",
    "    \n",
    "    #Destructor de la clase\n",
    "    def __del__(self):\n",
    "        print(\"se esta borrando la peli: \",self.titulo)\n",
    "    \n",
    "   # Redefinimos el metodo string\n",
    "    def __str__(self):\n",
    "        return \"{} Lazada en {} con una duracion de {}minutos\".format(self.titulo,self.duracion,self.lanzamiento)\n",
    "\n",
    "p=Pelicula(\"EL padrino\",117,2015)"
   ]
  },
  {
   "cell_type": "code",
   "execution_count": 28,
   "id": "4f41d9ee",
   "metadata": {},
   "outputs": [
    {
     "data": {
      "text/plain": [
       "'EL padrino Lazada en 117 con una duracion de 2015minutos'"
      ]
     },
     "execution_count": 28,
     "metadata": {},
     "output_type": "execute_result"
    }
   ],
   "source": [
    "str(p)"
   ]
  },
  {
   "cell_type": "code",
   "execution_count": 29,
   "id": "3b195607",
   "metadata": {},
   "outputs": [
    {
     "ename": "TypeError",
     "evalue": "object of type 'Pelicula' has no len()",
     "output_type": "error",
     "traceback": [
      "\u001b[0;31m---------------------------------------------------------------------------\u001b[0m",
      "\u001b[0;31mTypeError\u001b[0m                                 Traceback (most recent call last)",
      "Cell \u001b[0;32mIn [29], line 1\u001b[0m\n\u001b[0;32m----> 1\u001b[0m \u001b[38;5;28;43mlen\u001b[39;49m\u001b[43m(\u001b[49m\u001b[43mp\u001b[49m\u001b[43m)\u001b[49m\n",
      "\u001b[0;31mTypeError\u001b[0m: object of type 'Pelicula' has no len()"
     ]
    }
   ],
   "source": [
    "len(p)"
   ]
  },
  {
   "cell_type": "code",
   "execution_count": 30,
   "id": "6ef71029",
   "metadata": {},
   "outputs": [
    {
     "name": "stdout",
     "output_type": "stream",
     "text": [
      "Se ha creado una pelicula:  EL padrino\n"
     ]
    },
    {
     "data": {
      "text/plain": [
       "117"
      ]
     },
     "execution_count": 30,
     "metadata": {},
     "output_type": "execute_result"
    }
   ],
   "source": [
    "class Pelicula:\n",
    "    #titulo\n",
    "    #duracion\n",
    "    #lanzamiento\n",
    "    #contructor con parametros de la clase \n",
    "    def __init__(self,title,duration,year):\n",
    "        self.titulo=title\n",
    "        self.duracion=duration\n",
    "        self.lanzamiento=year\n",
    "        print(\"Se ha creado una pelicula: \",title)\n",
    "    \n",
    "    #Destructor de la clase\n",
    "    def __del__(self):\n",
    "        print(\"se esta borrando la peli: \",self.titulo)\n",
    "    \n",
    "   # Redefinimos el metodo string\n",
    "    def __str__(self):\n",
    "        return \"{} Lazada en {} con una duracion de {}minutos\".format(self.titulo,self.duracion,self.lanzamiento)\n",
    "    \n",
    "    #Redefinimos el metodo length\n",
    "    def __len__(self):\n",
    "        return self.duracion\n",
    "p=Pelicula(\"EL padrino\",117,2015)\n",
    "#Nota como puedes ver no se ejecutan con un puntito desde del nombre del objeto (p)\n",
    "len(p)\n",
    "#se ejecutan automaticamente cuando otras funciones externas como len() str() los toman como parametros\n",
    "#por que no son directamente internas"
   ]
  },
  {
   "cell_type": "code",
   "execution_count": null,
   "id": "a81848cd",
   "metadata": {},
   "outputs": [],
   "source": []
  }
 ],
 "metadata": {
  "kernelspec": {
   "display_name": "Python 3 (ipykernel)",
   "language": "python",
   "name": "python3"
  },
  "language_info": {
   "codemirror_mode": {
    "name": "ipython",
    "version": 3
   },
   "file_extension": ".py",
   "mimetype": "text/x-python",
   "name": "python",
   "nbconvert_exporter": "python",
   "pygments_lexer": "ipython3",
   "version": "3.10.8"
  }
 },
 "nbformat": 4,
 "nbformat_minor": 5
}
