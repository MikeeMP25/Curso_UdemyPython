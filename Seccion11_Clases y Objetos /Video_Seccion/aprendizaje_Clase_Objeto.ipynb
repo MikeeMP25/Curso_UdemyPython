{
 "cells": [
  {
   "cell_type": "code",
   "execution_count": 1,
   "id": "1559b9a7",
   "metadata": {},
   "outputs": [],
   "source": [
    "\n",
    "#Nota: Las clases son el molde de los objetos\n",
    "class Galleta:\n",
    "    pass"
   ]
  },
  {
   "cell_type": "code",
   "execution_count": 2,
   "id": "9613c6bf",
   "metadata": {},
   "outputs": [],
   "source": [
    "#Crea un objeto de la clase Galleta\n",
    "una_galleta = Galleta()#instancia de la clase \n",
    "otra_galleta = Galleta()"
   ]
  },
  {
   "cell_type": "code",
   "execution_count": 3,
   "id": "287e139f",
   "metadata": {},
   "outputs": [
    {
     "data": {
      "text/plain": [
       "__main__.Galleta"
      ]
     },
     "execution_count": 3,
     "metadata": {},
     "output_type": "execute_result"
    }
   ],
   "source": [
    "type(una_galleta)#saber que es una_galleta con la funcion type puedes seber de que tipo es \"un objeto\"\n",
    "#Nota: Ya que para python todos son objetos"
   ]
  },
  {
   "cell_type": "code",
   "execution_count": 4,
   "id": "86bb4a83",
   "metadata": {},
   "outputs": [
    {
     "data": {
      "text/plain": [
       "float"
      ]
     },
     "execution_count": 4,
     "metadata": {},
     "output_type": "execute_result"
    }
   ],
   "source": [
    "type(15.50)"
   ]
  },
  {
   "cell_type": "code",
   "execution_count": 5,
   "id": "41a42aba",
   "metadata": {},
   "outputs": [
    {
     "data": {
      "text/plain": [
       "bool"
      ]
     },
     "execution_count": 5,
     "metadata": {},
     "output_type": "execute_result"
    }
   ],
   "source": [
    "type(True)"
   ]
  },
  {
   "cell_type": "code",
   "execution_count": 7,
   "id": "e6744aff",
   "metadata": {},
   "outputs": [
    {
     "data": {
      "text/plain": [
       "dict"
      ]
     },
     "execution_count": 7,
     "metadata": {},
     "output_type": "execute_result"
    }
   ],
   "source": [
    "type({})"
   ]
  },
  {
   "cell_type": "code",
   "execution_count": 8,
   "id": "b21bd882",
   "metadata": {},
   "outputs": [
    {
     "data": {
      "text/plain": [
       "list"
      ]
     },
     "execution_count": 8,
     "metadata": {},
     "output_type": "execute_result"
    }
   ],
   "source": [
    "type([])"
   ]
  },
  {
   "cell_type": "code",
   "execution_count": 9,
   "id": "5440048c",
   "metadata": {},
   "outputs": [
    {
     "data": {
      "text/plain": [
       "int"
      ]
     },
     "execution_count": 9,
     "metadata": {},
     "output_type": "execute_result"
    }
   ],
   "source": [
    "type(10)"
   ]
  },
  {
   "cell_type": "code",
   "execution_count": 10,
   "id": "f7774ac9",
   "metadata": {},
   "outputs": [
    {
     "data": {
      "text/plain": [
       "str"
      ]
     },
     "execution_count": 10,
     "metadata": {},
     "output_type": "execute_result"
    }
   ],
   "source": [
    "type(\"Hola\")"
   ]
  }
 ],
 "metadata": {
  "kernelspec": {
   "display_name": "Python 3 (ipykernel)",
   "language": "python",
   "name": "python3"
  },
  "language_info": {
   "codemirror_mode": {
    "name": "ipython",
    "version": 3
   },
   "file_extension": ".py",
   "mimetype": "text/x-python",
   "name": "python",
   "nbconvert_exporter": "python",
   "pygments_lexer": "ipython3",
   "version": "3.10.8"
  }
 },
 "nbformat": 4,
 "nbformat_minor": 5
}
