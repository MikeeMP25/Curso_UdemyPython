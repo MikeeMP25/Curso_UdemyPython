{
 "cells": [
  {
   "cell_type": "code",
   "execution_count": 5,
   "id": "3adf426b",
   "metadata": {},
   "outputs": [],
   "source": [
    "class Pelicula:\n",
    "   \n",
    "    #contructor con parametros de la clase \n",
    "    def __init__(self,title,duration,year):\n",
    "        self.titulo=title\n",
    "        self.duracion=duration\n",
    "        self.lanzamiento=year\n",
    "        print(\"Se ha creado una pelicula: \",self.titulo)\n",
    "    \n",
    "    #Destructor de la clase\n",
    "    def __str__(self):\n",
    "        return '{}({})'.format(self.titulo,self.lanzamiento)\n"
   ]
  },
  {
   "cell_type": "code",
   "execution_count": 25,
   "id": "b2f2587a",
   "metadata": {},
   "outputs": [],
   "source": [
    "class Catalogo:\n",
    "    pelicula=[]\n",
    "    \n",
    "    def __init__(self,peliculas=[]):\n",
    "        self.pelicula=peliculas\n",
    "    \n",
    "    def agregar(self,p):\n",
    "        self.pelicula.append(p)\n",
    "    \n",
    "    def mostrar(self):\n",
    "        for c,v in enumerate(self.pelicula):\n",
    "            print(c,v)"
   ]
  },
  {
   "cell_type": "code",
   "execution_count": 26,
   "id": "c951f061",
   "metadata": {},
   "outputs": [
    {
     "name": "stdout",
     "output_type": "stream",
     "text": [
      "Se ha creado una pelicula:  El padrino\n",
      "Se ha creado una pelicula:  Kong vs Godzila\n"
     ]
    }
   ],
   "source": [
    "p=Pelicula(\"El padrino\",175,1972)\n",
    "p2=Pelicula(\"Kong vs Godzila\",175,2022)\n",
    "c2=Catalogo([p2])\n",
    "c=Catalogo([p])\n",
    "\n"
   ]
  },
  {
   "cell_type": "code",
   "execution_count": 27,
   "id": "b7cc7c4f",
   "metadata": {},
   "outputs": [
    {
     "name": "stdout",
     "output_type": "stream",
     "text": [
      "0 Kong vs Godzila(2022)\n"
     ]
    }
   ],
   "source": [
    "c2.mostrar()"
   ]
  },
  {
   "cell_type": "code",
   "execution_count": 28,
   "id": "8d1fef1e",
   "metadata": {},
   "outputs": [
    {
     "name": "stdout",
     "output_type": "stream",
     "text": [
      "Se ha creado una pelicula:  Madrix\n"
     ]
    }
   ],
   "source": [
    "c2.agregar(Pelicula(\"Madrix\",154,2010))"
   ]
  },
  {
   "cell_type": "code",
   "execution_count": 29,
   "id": "a91566ab",
   "metadata": {},
   "outputs": [
    {
     "name": "stdout",
     "output_type": "stream",
     "text": [
      "0 Kong vs Godzila(2022)\n",
      "1 Madrix(2010)\n"
     ]
    }
   ],
   "source": [
    "c2.mostrar()"
   ]
  },
  {
   "cell_type": "code",
   "execution_count": 30,
   "id": "b38860d3",
   "metadata": {},
   "outputs": [
    {
     "name": "stdout",
     "output_type": "stream",
     "text": [
      "0 El padrino(1972)\n"
     ]
    }
   ],
   "source": [
    "c.mostrar()"
   ]
  },
  {
   "cell_type": "code",
   "execution_count": null,
   "id": "2b2dbdd8",
   "metadata": {},
   "outputs": [],
   "source": []
  }
 ],
 "metadata": {
  "kernelspec": {
   "display_name": "Python 3 (ipykernel)",
   "language": "python",
   "name": "python3"
  },
  "language_info": {
   "codemirror_mode": {
    "name": "ipython",
    "version": 3
   },
   "file_extension": ".py",
   "mimetype": "text/x-python",
   "name": "python",
   "nbconvert_exporter": "python",
   "pygments_lexer": "ipython3",
   "version": "3.10.8"
  }
 },
 "nbformat": 4,
 "nbformat_minor": 5
}
