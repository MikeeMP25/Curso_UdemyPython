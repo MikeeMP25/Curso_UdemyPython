{
 "cells": [
  {
   "cell_type": "code",
   "execution_count": 4,
   "id": "f4674a35",
   "metadata": {},
   "outputs": [
    {
     "name": "stdout",
     "output_type": "stream",
     "text": [
      "\n",
      " 10 20 30\n"
     ]
    }
   ],
   "source": [
    "#asignacion multiple a variebles(es un truco en python)\n",
    "#Nota: Te permite asignar multiples valores a multiples variables \n",
    "#en una sola linea\n",
    "#varibales\n",
    "elementos=[\"hola\",4,\"Adios\",(1,2,3)]\n",
    "a,b,c=10,20,30\n",
    "print(\"\\n\",a,b,c)"
   ]
  },
  {
   "cell_type": "code",
   "execution_count": 2,
   "id": "a13a1e26",
   "metadata": {},
   "outputs": [
    {
     "name": "stdout",
     "output_type": "stream",
     "text": [
      "10\n"
     ]
    }
   ],
   "source": [
    "#Listas\n",
    "[a,b,c]=[10,20,50]\n",
    "print(a)"
   ]
  },
  {
   "cell_type": "code",
   "execution_count": 8,
   "id": "79f53a13",
   "metadata": {},
   "outputs": [
    {
     "name": "stdout",
     "output_type": "stream",
     "text": [
      "valores c 20.5\n"
     ]
    }
   ],
   "source": [
    "#Utilizo una funcion que retorna valores para almacenarlo en variables \n",
    "def funcion():\n",
    "    return 10, \"Hola\",20.50\n",
    "a,b,c=funcion()\n",
    "print(\"valores c\",c)"
   ]
  },
  {
   "cell_type": "code",
   "execution_count": 5,
   "id": "0c64134a",
   "metadata": {},
   "outputs": [
    {
     "data": {
      "text/plain": [
       "<enumerate at 0x1058eb200>"
      ]
     },
     "execution_count": 5,
     "metadata": {},
     "output_type": "execute_result"
    }
   ],
   "source": [
    "#la funcion enumerate\n",
    "enumerate(elementos)\n",
    "#nos devuelve un tipo de dato complejo enumerador con un espacio en memoria"
   ]
  },
  {
   "cell_type": "code",
   "execution_count": 6,
   "id": "3bfd13b2",
   "metadata": {},
   "outputs": [
    {
     "data": {
      "text/plain": [
       "[(0, 'hola'), (1, 4), (2, 'Adios'), (3, (1, 2, 3))]"
      ]
     },
     "execution_count": 6,
     "metadata": {},
     "output_type": "execute_result"
    }
   ],
   "source": [
    "list(enumerate(elementos))"
   ]
  },
  {
   "cell_type": "code",
   "execution_count": 7,
   "id": "69dd5c83",
   "metadata": {},
   "outputs": [
    {
     "name": "stdout",
     "output_type": "stream",
     "text": [
      "(0, 'hola')\n",
      "(1, 4)\n",
      "(2, 'Adios')\n",
      "(3, (1, 2, 3))\n"
     ]
    }
   ],
   "source": [
    "for tupla in enumerate(elementos):\n",
    "    print(tupla)"
   ]
  },
  {
   "cell_type": "code",
   "execution_count": 9,
   "id": "2608dd14",
   "metadata": {},
   "outputs": [
    {
     "name": "stdout",
     "output_type": "stream",
     "text": [
      "0 hola\n",
      "1 4\n",
      "2 Adios\n",
      "3 (1, 2, 3)\n"
     ]
    }
   ],
   "source": [
    "for indice,valor in enumerate(elementos):\n",
    "    print(indice,valor)"
   ]
  }
 ],
 "metadata": {
  "kernelspec": {
   "display_name": "Python 3 (ipykernel)",
   "language": "python",
   "name": "python3"
  },
  "language_info": {
   "codemirror_mode": {
    "name": "ipython",
    "version": 3
   },
   "file_extension": ".py",
   "mimetype": "text/x-python",
   "name": "python",
   "nbconvert_exporter": "python",
   "pygments_lexer": "ipython3",
   "version": "3.10.8"
  }
 },
 "nbformat": 4,
 "nbformat_minor": 5
}
