{
 "cells": [
  {
   "cell_type": "code",
   "execution_count": 1,
   "id": "3a422d1f",
   "metadata": {},
   "outputs": [],
   "source": [
    "#Doctest \n",
    "#Nos permite ejecutar pruebas de codigo mediante la documentacion docstring\n",
    "\n",
    "def suma(a,b):\n",
    "    \"\"\"\n",
    "    La funcion suma(a,b) recibe dos parametros a y b \n",
    "    Devuelve la suma de ambos\n",
    "    >>> suma(5,10)\n",
    "    15\n",
    "    \"\"\"\n",
    "    #va hacer esta prueba donde suma recibe 5,10 y el resultado esperado es 15\n",
    "    \n",
    "    return a+b"
   ]
  },
  {
   "cell_type": "code",
   "execution_count": 2,
   "id": "07e34ef9",
   "metadata": {},
   "outputs": [
    {
     "data": {
      "text/plain": [
       "TestResults(failed=0, attempted=1)"
      ]
     },
     "execution_count": 2,
     "metadata": {},
     "output_type": "execute_result"
    }
   ],
   "source": [
    "#Importamos la libreria doctest para iniciar las pruebas de codigo \n",
    "import doctest\n",
    "\n",
    "#Mandamos a llamar el metodo testmod() inicializar prueba\n",
    "\n",
    "doctest.testmod()"
   ]
  },
  {
   "cell_type": "code",
   "execution_count": null,
   "id": "95f83b35",
   "metadata": {},
   "outputs": [],
   "source": []
  }
 ],
 "metadata": {
  "kernelspec": {
   "display_name": "Python 3 (ipykernel)",
   "language": "python",
   "name": "python3"
  },
  "language_info": {
   "codemirror_mode": {
    "name": "ipython",
    "version": 3
   },
   "file_extension": ".py",
   "mimetype": "text/x-python",
   "name": "python",
   "nbconvert_exporter": "python",
   "pygments_lexer": "ipython3",
   "version": "3.10.8"
  }
 },
 "nbformat": 4,
 "nbformat_minor": 5
}
