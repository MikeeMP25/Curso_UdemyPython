{
 "cells": [
  {
   "cell_type": "code",
   "execution_count": 1,
   "id": "fcb8a6a4",
   "metadata": {},
   "outputs": [
    {
     "name": "stdout",
     "output_type": "stream",
     "text": [
      "100\n",
      "11\n",
      "3\n",
      "(4, 15, 8)\n",
      "40\n",
      "1\n"
     ]
    }
   ],
   "source": [
    "#Ejercicio tuplas\n",
    "tupla=(4,15,8,123,40,50,14545,845,20,97,100)\n",
    "\n",
    "print(tupla[-1])\n",
    "print(len(tupla))\n",
    "print(tupla.index(123))\n",
    "print(tupla[:3])\n",
    "print(tupla[4])\n",
    "print(tupla.count(4))\n",
    "\n",
    "#Nota las tuplas no soportan la asignacion\n",
    "#tupla[0]=10\n",
    "#Marca un error ya que no puede ser modificada una vez asignada \n",
    "#los valores"
   ]
  },
  {
   "cell_type": "code",
   "execution_count": 2,
   "id": "98f3c614",
   "metadata": {},
   "outputs": [
    {
     "name": "stdout",
     "output_type": "stream",
     "text": [
      "{'Marta', 'Ana', 'Andrés', 'David', 'Blanca', 'Erick'}\n"
     ]
    }
   ],
   "source": [
    "#Ejercicio de conjuntos\n",
    "# Variables del ejercicio (no las modifiques)\n",
    "\n",
    "#completa el ejercicio\n",
    "#grupo.add(\"Ana\")\n",
    "#grupo.add(\"Ramón\")\n",
    "#grupo.add(\"Marta\")\n",
    "#grupo.add(\"Eric\")\n",
    "#grupo.add(\"David\")\n",
    "#grupo.remove(\"Mario\")\n",
    "#grupo.remove(\"Miguel\")\n",
    "#grupo.remove(\"Ramón\")\n",
    "\n",
    "grupo={\"Miguel\",\"Blanca\",\"Mario\",\"Andrés\",\"Andrés\"}\n",
    "agregar_nombres=[\"Ana\",\"Ramón\",\"Marta\",\"Erick\",\"David\"]\n",
    "delete_nombres=[\"Mario\",\"Miguel\",\"Ramón\"]\n",
    "\n",
    "if \"Miguel\" in grupo:\n",
    "    for nombre in agregar_nombres:\n",
    "        grupo.add(nombre)\n",
    "    for buscar in delete_nombres:\n",
    "        grupo.remove(buscar)\n",
    "else:\n",
    "    print(\"lista de conjuntos vacias variable grupo\")\n",
    "    \n",
    "print(grupo)    \n",
    "#Conjuntos son unas colecciones \"desordenadas\" \n",
    "#no permite valores duplicados en la lista set()\n",
    "#para valida (\"Miguel\" in grupo) si dato esta dentro del grupo\n",
    "#true o false"
   ]
  },
  {
   "cell_type": "code",
   "execution_count": 3,
   "id": "c5b306ec",
   "metadata": {},
   "outputs": [
    {
     "name": "stdout",
     "output_type": "stream",
     "text": [
      "caballo : horse\n",
      "vaca : cow\n",
      "perro : dog\n",
      "gato : cat\n",
      "rana : frog\n",
      "{'caballo': 'horse', 'perro': 'dog', 'gato': 'cat'}\n"
     ]
    }
   ],
   "source": [
    " #Diccionarios\n",
    "#Variables del ejercicio (no modifiques esta linea)\n",
    "animales={\"caballo\":\"\",\"vaca\":\"\"}\n",
    "\n",
    "animales_2={\"perro\":\"dog\",\"gato\":\"cat\",\"rana\":\"frog\"}\n",
    "\n",
    "for clave,valor in animales_2.items():\n",
    "    animales[clave]=valor\n",
    "    \n",
    "animales[\"caballo\"]=\"horse\"\n",
    "animales[\"vaca\"]=\"cow\"\n",
    "\n",
    "for c,v in animales.items():\n",
    "    print(c,\":\",v)\n",
    "\n",
    "animales.pop(\"vaca\")\n",
    "animales.pop(\"rana\")\n",
    "\n",
    "print(animales)\n"
   ]
  }
 ],
 "metadata": {
  "kernelspec": {
   "display_name": "Python 3 (ipykernel)",
   "language": "python",
   "name": "python3"
  },
  "language_info": {
   "codemirror_mode": {
    "name": "ipython",
    "version": 3
   },
   "file_extension": ".py",
   "mimetype": "text/x-python",
   "name": "python",
   "nbconvert_exporter": "python",
   "pygments_lexer": "ipython3",
   "version": "3.10.8"
  }
 },
 "nbformat": 4,
 "nbformat_minor": 5
}
