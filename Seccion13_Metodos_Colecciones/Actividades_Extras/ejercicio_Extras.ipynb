{
 "cells": [
  {
   "cell_type": "code",
   "execution_count": 5,
   "id": "1080f1da",
   "metadata": {},
   "outputs": [
    {
     "name": "stdout",
     "output_type": "stream",
     "text": [
      "un día que el viento soplada con fuerza#mira como se nueve aquella banderola -dijo un monje# lo que\\ se mueve es el viento -respondio otro monje#ni las banderolas ni el viento, lo que se mueve son vuestras\\ mentes -dijo el maestro \n"
     ]
    }
   ],
   "source": [
    "#Utilizando todo lo que sabes sobre cadenas,listas, sus metodos internos... transforma este texto:\n",
    "texto=\"un día que el viento soplada con fuerza#mira como se nueve aquella banderola -dijo un monje# lo que\"+\"\\ se mueve es el viento -respondio otro monje#ni las banderolas ni el viento, lo que se mueve son vuestras\"+\"\\ mentes -dijo el maestro \"\n",
    "print(texto)#Lo unico prohibido es modificar directamente el texto\n",
    "\n",
    "\n",
    "#La estructura \n",
    "# Un dia que el viento soplaba con fuerza...\n",
    "# - Mira como se mueve aquella banderola -dije un monje.\n",
    "# -Lo que se mueve es el viento -respondio otro monje.\n",
    "# -Ni las banderolas ni el viento, lo que se mueve son vuestras mentes -dijo el maestro."
   ]
  },
  {
   "cell_type": "code",
   "execution_count": 6,
   "id": "ffb2786b",
   "metadata": {},
   "outputs": [
    {
     "ename": "NameError",
     "evalue": "name 'modificar' is not defined",
     "output_type": "error",
     "traceback": [
      "\u001b[0;31m---------------------------------------------------------------------------\u001b[0m",
      "\u001b[0;31mNameError\u001b[0m                                 Traceback (most recent call last)",
      "Cell \u001b[0;32mIn [6], line 11\u001b[0m\n\u001b[1;32m      1\u001b[0m \u001b[38;5;66;03m#Crea un funcion modificar{} que a partir de una lista de numeros realice las siguintes \u001b[39;00m\n\u001b[1;32m      2\u001b[0m \u001b[38;5;66;03m#tareas sin modificar la original:\u001b[39;00m\n\u001b[1;32m      3\u001b[0m \u001b[38;5;66;03m#Borrar los elementos duplicados.\u001b[39;00m\n\u001b[0;32m   (...)\u001b[0m\n\u001b[1;32m      8\u001b[0m \u001b[38;5;66;03m#finalmente, despues de ejecutar la funcion, comprueba que la suma de todos los numeros a partir \u001b[39;00m\n\u001b[1;32m      9\u001b[0m \u001b[38;5;66;03m#del segundo, concuerda con el primer numero de la lista, tal que asi:\u001b[39;00m\n\u001b[0;32m---> 11\u001b[0m nueva_lista\u001b[38;5;241m=\u001b[39m\u001b[43mmodificar\u001b[49m(lista)\n\u001b[1;32m     13\u001b[0m \u001b[38;5;28mprint\u001b[39m(nueva_lista[\u001b[38;5;241m0\u001b[39m]\u001b[38;5;241m==\u001b[39m\u001b[38;5;28msum\u001b[39m(nueva_lista[\u001b[38;5;241m1\u001b[39m:]))\n",
      "\u001b[0;31mNameError\u001b[0m: name 'modificar' is not defined"
     ]
    }
   ],
   "source": [
    "#Crea un funcion modificar{} que a partir de una lista de numeros realice las siguintes \n",
    "#tareas sin modificar la original:\n",
    "#Borrar los elementos duplicados.\n",
    "#Ordenar la lista de mayor a menor.\n",
    "#Eliminar todos los numeros impares.\n",
    "#Realizar una suma de todos los numeros que quedan \n",
    "#Añadir como primer elemnto de la lista la suma realizada\n",
    "#finalmente, despues de ejecutar la funcion, comprueba que la suma de todos los numeros a partir \n",
    "#del segundo, concuerda con el primer numero de la lista, tal que asi:\n",
    "\n",
    "nueva_lista=modificar(lista)\n",
    "\n",
    "print(nueva_lista[0]==sum(nueva_lista[1:]))"
   ]
  },
  {
   "cell_type": "code",
   "execution_count": null,
   "id": "6333d9b4",
   "metadata": {},
   "outputs": [],
   "source": []
  }
 ],
 "metadata": {
  "kernelspec": {
   "display_name": "Python 3 (ipykernel)",
   "language": "python",
   "name": "python3"
  },
  "language_info": {
   "codemirror_mode": {
    "name": "ipython",
    "version": 3
   },
   "file_extension": ".py",
   "mimetype": "text/x-python",
   "name": "python",
   "nbconvert_exporter": "python",
   "pygments_lexer": "ipython3",
   "version": "3.10.8"
  }
 },
 "nbformat": 4,
 "nbformat_minor": 5
}
