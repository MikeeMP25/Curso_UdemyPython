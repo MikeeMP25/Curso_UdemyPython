{
 "cells": [
  {
   "cell_type": "code",
   "execution_count": 1,
   "id": "87f89f08",
   "metadata": {},
   "outputs": [
    {
     "data": {
      "text/plain": [
       "'HOLA MUNDO'"
      ]
     },
     "execution_count": 1,
     "metadata": {},
     "output_type": "execute_result"
    }
   ],
   "source": [
    "#El objeto cadena \n",
    "\"Hola Mundo\".upper()\n",
    "#Manda a llamar al metodo .upper()\n",
    "#Esta funcion pone toda la cadena en mayusculas"
   ]
  },
  {
   "cell_type": "code",
   "execution_count": 2,
   "id": "6a7e7905",
   "metadata": {},
   "outputs": [
    {
     "data": {
      "text/plain": [
       "'hola mundo'"
      ]
     },
     "execution_count": 2,
     "metadata": {},
     "output_type": "execute_result"
    }
   ],
   "source": [
    "\"Hola Mundo\".lower()#Esta funcion pone toda la cadena en minusculas"
   ]
  },
  {
   "cell_type": "code",
   "execution_count": 3,
   "id": "99fbae7f",
   "metadata": {},
   "outputs": [
    {
     "data": {
      "text/plain": [
       "'Hola mundo'"
      ]
     },
     "execution_count": 3,
     "metadata": {},
     "output_type": "execute_result"
    }
   ],
   "source": [
    "\"hola Mundo\".capitalize()#Esta funcion devuelve la cadena con un su primer caracter en mayusculas\"Hola Mundo\".lower()"
   ]
  },
  {
   "cell_type": "code",
   "execution_count": 4,
   "id": "4778239b",
   "metadata": {},
   "outputs": [
    {
     "data": {
      "text/plain": [
       "'Hola Mundo'"
      ]
     },
     "execution_count": 4,
     "metadata": {},
     "output_type": "execute_result"
    }
   ],
   "source": [
    "\"hola mundo\".title()#devuelve la cadena con el primer caracter de cada palabra en mayusculas"
   ]
  },
  {
   "cell_type": "code",
   "execution_count": 5,
   "id": "d5ccef06",
   "metadata": {},
   "outputs": [
    {
     "data": {
      "text/plain": [
       "4"
      ]
     },
     "execution_count": 5,
     "metadata": {},
     "output_type": "execute_result"
    }
   ],
   "source": [
    "\"mundo hola mundo mundo mundo\".count(\"mundo\")#devuelve el numero de veces que aparece una sub cadena en la cadena"
   ]
  },
  {
   "cell_type": "code",
   "execution_count": 7,
   "id": "08996c30",
   "metadata": {},
   "outputs": [
    {
     "data": {
      "text/plain": [
       "5"
      ]
     },
     "execution_count": 7,
     "metadata": {},
     "output_type": "execute_result"
    }
   ],
   "source": [
    "\"hola Mundo\".find(\"Mundo\")#Devuelve el indice en el que aparece la subcadena (-1 si no aparece)"
   ]
  },
  {
   "cell_type": "code",
   "execution_count": 8,
   "id": "a20bc3b7",
   "metadata": {},
   "outputs": [
    {
     "data": {
      "text/plain": [
       "17"
      ]
     },
     "execution_count": 8,
     "metadata": {},
     "output_type": "execute_result"
    }
   ],
   "source": [
    "\"Hola mundo mundo mundo\".rfind('mundo')#Devuelve el indice en el que aparece la subcadena, empezando por el final "
   ]
  },
  {
   "cell_type": "code",
   "execution_count": 11,
   "id": "4cf3fe3e",
   "metadata": {},
   "outputs": [
    {
     "data": {
      "text/plain": [
       "False"
      ]
     },
     "execution_count": 11,
     "metadata": {},
     "output_type": "execute_result"
    }
   ],
   "source": [
    "#validar la cadena \n",
    "#con los siguientes metodos \n",
    "c=\"520\"\n",
    "c.isdigit()#sirve para validar si es una cadena de numero(digitos) devuelve un true si es verdadeo y sino false"
   ]
  },
  {
   "cell_type": "code",
   "execution_count": 15,
   "id": "c83d8f0a",
   "metadata": {},
   "outputs": [
    {
     "data": {
      "text/plain": [
       "True"
      ]
     },
     "execution_count": 15,
     "metadata": {},
     "output_type": "execute_result"
    }
   ],
   "source": [
    "c=\"ABCsaa1034po\"\n",
    "c.isalnum()#sirve para validar si una cadena  es todo numeros o carcateres \n",
    "# alfabeticos devuelve un true si es verdadeo y sino false"
   ]
  },
  {
   "cell_type": "code",
   "execution_count": 17,
   "id": "6ee97b4b",
   "metadata": {},
   "outputs": [
    {
     "data": {
      "text/plain": [
       "False"
      ]
     },
     "execution_count": 17,
     "metadata": {},
     "output_type": "execute_result"
    }
   ],
   "source": [
    "c = \"ABC10034po\"\n",
    "c.isalpha()#devuelve true si la cadena es todo caracteres alfabeticos  "
   ]
  },
  {
   "cell_type": "code",
   "execution_count": 18,
   "id": "aa264d50",
   "metadata": {},
   "outputs": [
    {
     "data": {
      "text/plain": [
       "True"
      ]
     },
     "execution_count": 18,
     "metadata": {},
     "output_type": "execute_result"
    }
   ],
   "source": [
    "\"Holamundo\".isalpha()"
   ]
  },
  {
   "cell_type": "code",
   "execution_count": 19,
   "id": "e4425d70",
   "metadata": {},
   "outputs": [
    {
     "data": {
      "text/plain": [
       "False"
      ]
     },
     "execution_count": 19,
     "metadata": {},
     "output_type": "execute_result"
    }
   ],
   "source": [
    "\"  -  \".isspace()#devuelve true si la cadena es todo espacios"
   ]
  },
  {
   "cell_type": "code",
   "execution_count": 20,
   "id": "260662f2",
   "metadata": {},
   "outputs": [
    {
     "data": {
      "text/plain": [
       "True"
      ]
     },
     "execution_count": 20,
     "metadata": {},
     "output_type": "execute_result"
    }
   ],
   "source": [
    "\"Hola mundo\".endswith('mundo')#Devuelve true si la cadena acaba con una subcadena"
   ]
  },
  {
   "cell_type": "code",
   "execution_count": 21,
   "id": "054604a2",
   "metadata": {},
   "outputs": [
    {
     "data": {
      "text/plain": [
       "'Hola'"
      ]
     },
     "execution_count": 21,
     "metadata": {},
     "output_type": "execute_result"
    }
   ],
   "source": [
    "#El metodo split()podemos transformar la cadena en una lista y acceder a sus valores\n",
    "\"Hola mundo mundo\".split()[0]#Separa la cadena en subcadenas a partir de sus espacios y devuelve una list"
   ]
  },
  {
   "cell_type": "code",
   "execution_count": 22,
   "id": "797dbba8",
   "metadata": {},
   "outputs": [
    {
     "data": {
      "text/plain": [
       "['Hola', 'mundo', 'mundo', 'otra', 'palabra']"
      ]
     },
     "execution_count": 22,
     "metadata": {},
     "output_type": "execute_result"
    }
   ],
   "source": [
    "\"Hola,mundo,mundo,otra,palabra\".split(',')#podemos indicar el carcater a partir del que se separa \n",
    "#guardarlo en una lista"
   ]
  },
  {
   "cell_type": "code",
   "execution_count": 23,
   "id": "ad507faa",
   "metadata": {},
   "outputs": [
    {
     "data": {
      "text/plain": [
       "'H,o,l,a, ,m,u,n,d,o'"
      ]
     },
     "execution_count": 23,
     "metadata": {},
     "output_type": "execute_result"
    }
   ],
   "source": [
    "\",\".join(\"Hola mundo\")#Une todos los caracteres de una cadena utilizando un caracter de union \n",
    "#En una cadena el espacio se considera como un caracter mas....!!!!! "
   ]
  },
  {
   "cell_type": "code",
   "execution_count": 24,
   "id": "9c801a33",
   "metadata": {},
   "outputs": [
    {
     "data": {
      "text/plain": [
       "'H o l a'"
      ]
     },
     "execution_count": 24,
     "metadata": {},
     "output_type": "execute_result"
    }
   ],
   "source": [
    "\" \".join(\"Hola\")"
   ]
  },
  {
   "cell_type": "code",
   "execution_count": 25,
   "id": "1d8931f1",
   "metadata": {},
   "outputs": [
    {
     "data": {
      "text/plain": [
       "'H0la mund0'"
      ]
     },
     "execution_count": 25,
     "metadata": {},
     "output_type": "execute_result"
    }
   ],
   "source": [
    "\"Hola mundo\".replace('o','0')#Reemplaza una subcadena de una cadena por otra y la devuelve"
   ]
  },
  {
   "cell_type": "code",
   "execution_count": 26,
   "id": "2eb75734",
   "metadata": {},
   "outputs": [
    {
     "data": {
      "text/plain": [
       "'Hola mundo'"
      ]
     },
     "execution_count": 26,
     "metadata": {},
     "output_type": "execute_result"
    }
   ],
   "source": [
    "\"Hola mundo mundo mundo mundo mundo\".replace(' mundo','',4) #Podemos indicar un limite de veces a reemplar"
   ]
  },
  {
   "cell_type": "code",
   "execution_count": 31,
   "id": "687e7db5",
   "metadata": {},
   "outputs": [
    {
     "data": {
      "text/plain": [
       "'/ asmsamkñmc.sa'"
      ]
     },
     "execution_count": 31,
     "metadata": {},
     "output_type": "execute_result"
    }
   ],
   "source": [
    "\"Hola mundo asmsamkñmc.sa\".replace('Hola mundo','/') \n",
    "#tambien podemos extraer la subcadena que queremos ocupar de la cadena  "
   ]
  }
 ],
 "metadata": {
  "kernelspec": {
   "display_name": "Python 3 (ipykernel)",
   "language": "python",
   "name": "python3"
  },
  "language_info": {
   "codemirror_mode": {
    "name": "ipython",
    "version": 3
   },
   "file_extension": ".py",
   "mimetype": "text/x-python",
   "name": "python",
   "nbconvert_exporter": "python",
   "pygments_lexer": "ipython3",
   "version": "3.10.8"
  }
 },
 "nbformat": 4,
 "nbformat_minor": 5
}
