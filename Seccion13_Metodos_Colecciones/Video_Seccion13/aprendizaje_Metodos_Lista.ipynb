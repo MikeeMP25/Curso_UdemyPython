{
 "cells": [
  {
   "cell_type": "code",
   "execution_count": 1,
   "id": "8f59011b",
   "metadata": {},
   "outputs": [
    {
     "data": {
      "text/plain": [
       "[1, 2, 3, 4, 5, 6]"
      ]
     },
     "execution_count": 1,
     "metadata": {},
     "output_type": "execute_result"
    }
   ],
   "source": [
    "#Creamos una lista de numeros\n",
    "lista = [1,2,3,4,5]\n",
    "\n",
    "lista.append(6)#añade un item al final de la lista\n",
    "\n",
    "lista"
   ]
  },
  {
   "cell_type": "code",
   "execution_count": 2,
   "id": "d04cebdc",
   "metadata": {},
   "outputs": [
    {
     "data": {
      "text/plain": [
       "[]"
      ]
     },
     "execution_count": 2,
     "metadata": {},
     "output_type": "execute_result"
    }
   ],
   "source": [
    "#Para limpiar una lista\n",
    "lista.clear()#vacia todos los items de una lista\n",
    "lista"
   ]
  },
  {
   "cell_type": "code",
   "execution_count": 5,
   "id": "1364bcf0",
   "metadata": {},
   "outputs": [
    {
     "name": "stdout",
     "output_type": "stream",
     "text": [
      "[1, 2, 3, 4, 5, 6] [4, 5, 6]\n"
     ]
    }
   ],
   "source": [
    "#Creamos dos listas diferentes \n",
    "l1 = [1,2,3]\n",
    "l2 = [4,5,6]\n",
    "\n",
    "#Aqui estamos indicando que la l1 va tener los items de la lista l2\n",
    "l1.extend(l2)#une una lista a otra\n",
    "\n",
    "print(l1,l2)\n"
   ]
  },
  {
   "cell_type": "code",
   "execution_count": 6,
   "id": "f742f939",
   "metadata": {},
   "outputs": [
    {
     "data": {
      "text/plain": [
       "1"
      ]
     },
     "execution_count": 6,
     "metadata": {},
     "output_type": "execute_result"
    }
   ],
   "source": [
    "#Cuenta el numero de vaces que aparece un item:\n",
    "[\"Hola\", \"mundo\", \"mundo\"].count(\"Hola\")"
   ]
  },
  {
   "cell_type": "code",
   "execution_count": 7,
   "id": "4976ec47",
   "metadata": {},
   "outputs": [
    {
     "data": {
      "text/plain": [
       "1"
      ]
     },
     "execution_count": 7,
     "metadata": {},
     "output_type": "execute_result"
    }
   ],
   "source": [
    "#Devuelve el índice en el que aparece un ítem (error si no aparece):\n",
    "[\"Hola\", \"mundo\", \"mundo\"].index(\"mundo\")"
   ]
  },
  {
   "cell_type": "code",
   "execution_count": 9,
   "id": "9b903cab",
   "metadata": {},
   "outputs": [
    {
     "data": {
      "text/plain": [
       "[0, 1, 2, 3]"
      ]
     },
     "execution_count": 9,
     "metadata": {},
     "output_type": "execute_result"
    }
   ],
   "source": [
    "#Agrega un ítem a la lista en un índice específico:\n",
    "l = [1,2,3]\n",
    "\n",
    "l.insert(0,0)#primera posicion (0)\n",
    "l"
   ]
  },
  {
   "cell_type": "code",
   "execution_count": 10,
   "id": "a3f62b7c",
   "metadata": {},
   "outputs": [
    {
     "name": "stdout",
     "output_type": "stream",
     "text": [
      "50\n",
      "[10, 20, 30, 40]\n"
     ]
    }
   ],
   "source": [
    "#Extrae un item de la lista y lo borra:\n",
    "l = [10,20,30,40,50]#creamos una lista\n",
    "\n",
    "print(l.pop())#borra el ultimo item de la lista y muestra el valor borrado\n",
    "\n",
    "print(l)#Mostramos el estado actual de lista"
   ]
  },
  {
   "cell_type": "code",
   "execution_count": 11,
   "id": "95047195",
   "metadata": {},
   "outputs": [
    {
     "name": "stdout",
     "output_type": "stream",
     "text": [
      "10\n",
      "[20, 30, 40]\n"
     ]
    }
   ],
   "source": [
    "#podemos indicarle un indice con elemento a sacar (Referencia el 0 es el primer item de mi lista)\n",
    "print(l.pop(0))#Entre parentes le indicamos que posicion queremos borrar\n",
    "\n",
    "print(l)"
   ]
  },
  {
   "cell_type": "code",
   "execution_count": null,
   "id": "bf789db8",
   "metadata": {},
   "outputs": [],
   "source": [
    "#Borra el primer ítem de la lista cuyo valor concuerde con el que indicamos:\n",
    "l = [20,30,30,30,40]\n",
    "l.remove(30)\n",
    "print(l)"
   ]
  },
  {
   "cell_type": "code",
   "execution_count": 12,
   "id": "53a82eb4",
   "metadata": {},
   "outputs": [
    {
     "name": "stdout",
     "output_type": "stream",
     "text": [
      "[40, 30, 20]\n"
     ]
    }
   ],
   "source": [
    "#Le da la vuelta a la lista actual.\n",
    "l.reverse()\n",
    "print(l)"
   ]
  },
  {
   "cell_type": "code",
   "execution_count": 13,
   "id": "c67c8e64",
   "metadata": {},
   "outputs": [
    {
     "name": "stdout",
     "output_type": "stream",
     "text": [
      "['H', 'o', 'l', 'a', ' ', 'm', 'u', 'n', 'd', 'o']\n",
      "['o', 'd', 'n', 'u', 'm', ' ', 'a', 'l', 'o', 'H']\n"
     ]
    },
    {
     "data": {
      "text/plain": [
       "'odnum aloH'"
      ]
     },
     "execution_count": 13,
     "metadata": {},
     "output_type": "execute_result"
    }
   ],
   "source": [
    "#Las cadenas no tienen el método .reverse() pero podemos simularlo haciendo unas conversiones:\n",
    "\n",
    "lista = list(\"Hola mundo\")#Convertimos la cadena en una lista y lo guradmos\n",
    "print(lista)\n",
    "lista.reverse()#aqui le damos la vuelta ala lista (la invertimos)\n",
    "print(lista)\n",
    "cadena = \"\".join(lista)#convertimos la lista en una cadena el join es para juntar la cadena\n",
    "cadena    "
   ]
  },
  {
   "cell_type": "code",
   "execution_count": 14,
   "id": "9c27485d",
   "metadata": {},
   "outputs": [
    {
     "data": {
      "text/plain": [
       "[-65, -10, 0, 5, 35, 100]"
      ]
     },
     "execution_count": 14,
     "metadata": {},
     "output_type": "execute_result"
    }
   ],
   "source": [
    "#Ordena automáticamente los ítems de una lista por su valor de menor a mayor:\n",
    "lista = [5,-10,35,0,-65,100]\n",
    "lista.sort()\n",
    "lista"
   ]
  },
  {
   "cell_type": "code",
   "execution_count": 15,
   "id": "e9bb076e",
   "metadata": {},
   "outputs": [
    {
     "data": {
      "text/plain": [
       "[100, 35, 5, 0, -10, -65]"
      ]
     },
     "execution_count": 15,
     "metadata": {},
     "output_type": "execute_result"
    }
   ],
   "source": [
    "#configuramos el ordenamiento de los valores\n",
    "#Podemos utilizar el argumento reverse=True para indicar que la ordene del revés:\n",
    "lista.sort(reverse=True)\n",
    "lista"
   ]
  },
  {
   "cell_type": "code",
   "execution_count": null,
   "id": "068dea57",
   "metadata": {},
   "outputs": [],
   "source": []
  }
 ],
 "metadata": {
  "kernelspec": {
   "display_name": "Python 3 (ipykernel)",
   "language": "python",
   "name": "python3"
  },
  "language_info": {
   "codemirror_mode": {
    "name": "ipython",
    "version": 3
   },
   "file_extension": ".py",
   "mimetype": "text/x-python",
   "name": "python",
   "nbconvert_exporter": "python",
   "pygments_lexer": "ipython3",
   "version": "3.10.8"
  }
 },
 "nbformat": 4,
 "nbformat_minor": 5
}
