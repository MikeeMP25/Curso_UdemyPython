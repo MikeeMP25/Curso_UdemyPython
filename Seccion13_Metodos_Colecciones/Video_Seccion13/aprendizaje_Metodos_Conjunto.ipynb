{
 "cells": [
  {
   "cell_type": "code",
   "execution_count": 3,
   "id": "f251eeb0",
   "metadata": {},
   "outputs": [
    {
     "data": {
      "text/plain": [
       "{1, 2, 3, 4}"
      ]
     },
     "execution_count": 3,
     "metadata": {},
     "output_type": "execute_result"
    }
   ],
   "source": [
    "#Añade un ítem a un conjunto, si ya existe no lo añade:\n",
    "c = set()#inicializamos un conjunto\n",
    "c.add(1)#para agregar un nuevo item al conjunto\n",
    "c.add(2)\n",
    "c.add(3)\n",
    "c.add(3)\n",
    "c.add(4)\n",
    "c\n"
   ]
  },
  {
   "cell_type": "code",
   "execution_count": 4,
   "id": "92885a4b",
   "metadata": {},
   "outputs": [
    {
     "data": {
      "text/plain": [
       "{2, 3, 4}"
      ]
     },
     "execution_count": 4,
     "metadata": {},
     "output_type": "execute_result"
    }
   ],
   "source": [
    "#Borra un ítem de un conjunto:\n",
    "c.discard(1)\n",
    "c"
   ]
  },
  {
   "cell_type": "code",
   "execution_count": 8,
   "id": "c9fb6a7b",
   "metadata": {},
   "outputs": [
    {
     "name": "stdout",
     "output_type": "stream",
     "text": [
      "{1, 2, 3, 4, 5} {2, 3, 4}\n",
      "{1, 2, 3, 4, 5} {2, 3}\n"
     ]
    }
   ],
   "source": [
    "#Devuelva una copia de un conjunto, ya que éstos como la mayoría de colecciones se almacenan por referencia:\n",
    "c1 = {1,2,3,4,5}\n",
    "c2 = c.copy()#creamos una copia de la lista c=[1,2,3,4]  y la guardamos\n",
    "print(c1, c2)\n",
    "c2.discard(4)\n",
    "print(c1, c2)\n",
    "\n"
   ]
  },
  {
   "cell_type": "code",
   "execution_count": 9,
   "id": "e1975803",
   "metadata": {},
   "outputs": [
    {
     "name": "stdout",
     "output_type": "stream",
     "text": [
      "set()\n"
     ]
    }
   ],
   "source": [
    "#Borra todos los items de un conjunto\n",
    "c2.clear()\n",
    "print(c2)\n"
   ]
  },
  {
   "cell_type": "code",
   "execution_count": 10,
   "id": "6834d336",
   "metadata": {},
   "outputs": [
    {
     "name": "stdout",
     "output_type": "stream",
     "text": [
      "{1, 2, 3} + {3, 4, 5} = {1, 2, 3, 4, 5}\n"
     ]
    }
   ],
   "source": [
    "#Metodos avanzados \n",
    "#Se utilizan para realizar uniones, diferentes y otras operaciones avanzadas entre conjuntos\n",
    "#Suelen tener dos formas la normal que devuelve el resultado, otra que hace lo mismo pero actualiza el propio resultado\n",
    "\n",
    "#Une un conjunto a otro y devuelve el resultado en un nuevo conjunto  \n",
    "#creamos dos conjuntos diferentes \n",
    "c1 = {1,2,3}\n",
    "c2 = {3,4,5}\n",
    "#aqui unimos los dos conjuntos en uno nuevo\n",
    "c3 = c1.union(c2)\n",
    "\n",
    "print(c1, \"+\", c2, \"=\", c3)"
   ]
  },
  {
   "cell_type": "code",
   "execution_count": 11,
   "id": "1b17e9ad",
   "metadata": {},
   "outputs": [
    {
     "data": {
      "text/plain": [
       "{1, 2, 3, 4, 5}"
      ]
     },
     "execution_count": 11,
     "metadata": {},
     "output_type": "execute_result"
    }
   ],
   "source": [
    "#Une un conjunto a otro en el propio conjunto\n",
    "c1.update(c2)\n",
    "c1"
   ]
  },
  {
   "cell_type": "code",
   "execution_count": 12,
   "id": "5cb30dc7",
   "metadata": {},
   "outputs": [
    {
     "data": {
      "text/plain": [
       "{1, 2}"
      ]
     },
     "execution_count": 12,
     "metadata": {},
     "output_type": "execute_result"
    }
   ],
   "source": [
    "#Encuentra los elementos no comunes entre dos conjuntos\n",
    "#creamos\n",
    "c1 = {1,2,3}\n",
    "c2 = {3,4,5}\n",
    "\n",
    "c1.difference(c2)"
   ]
  },
  {
   "cell_type": "code",
   "execution_count": 16,
   "id": "07cf0655",
   "metadata": {},
   "outputs": [
    {
     "data": {
      "text/plain": [
       "{3}"
      ]
     },
     "execution_count": 16,
     "metadata": {},
     "output_type": "execute_result"
    }
   ],
   "source": [
    "#Devuelve un conjunto con los elementos comunes en dos conjuntos:\n",
    "c1 = {1,2,3}\n",
    "c2 = {3,4,5}\n",
    "\n",
    "c1.intersection(c2)"
   ]
  },
  {
   "cell_type": "code",
   "execution_count": 14,
   "id": "07e44d71",
   "metadata": {},
   "outputs": [
    {
     "data": {
      "text/plain": [
       "{1, 2}"
      ]
     },
     "execution_count": 14,
     "metadata": {},
     "output_type": "execute_result"
    }
   ],
   "source": [
    "#Guarda en el conjunto los elementos no comunes entre dos conjuntos:\n",
    "c1.difference_update(c2)\n",
    "c1"
   ]
  },
  {
   "cell_type": "code",
   "execution_count": 17,
   "id": "cb82f781",
   "metadata": {},
   "outputs": [
    {
     "data": {
      "text/plain": [
       "{3}"
      ]
     },
     "execution_count": 17,
     "metadata": {},
     "output_type": "execute_result"
    }
   ],
   "source": [
    "#Guarda en el conjunto los elementos comunes entre dos conjuntos\n",
    "c1.intersection_update(c2)\n",
    "c1"
   ]
  },
  {
   "cell_type": "code",
   "execution_count": 18,
   "id": "5e658deb",
   "metadata": {},
   "outputs": [
    {
     "data": {
      "text/plain": [
       "{1, 2, 4, 5}"
      ]
     },
     "execution_count": 18,
     "metadata": {},
     "output_type": "execute_result"
    }
   ],
   "source": [
    "#Devuelve los elementos simétricamente diferentes entre dos conjuntos, es decir, \n",
    "#todos los elementos que no concuerdan entre los dos conjuntos:\n",
    "c1 = {1,2,3}\n",
    "c2 = {3,4,5}\n",
    "\n",
    "c1.symmetric_difference(c2)"
   ]
  }
 ],
 "metadata": {
  "kernelspec": {
   "display_name": "Python 3 (ipykernel)",
   "language": "python",
   "name": "python3"
  },
  "language_info": {
   "codemirror_mode": {
    "name": "ipython",
    "version": 3
   },
   "file_extension": ".py",
   "mimetype": "text/x-python",
   "name": "python",
   "nbconvert_exporter": "python",
   "pygments_lexer": "ipython3",
   "version": "3.10.8"
  }
 },
 "nbformat": 4,
 "nbformat_minor": 5
}
