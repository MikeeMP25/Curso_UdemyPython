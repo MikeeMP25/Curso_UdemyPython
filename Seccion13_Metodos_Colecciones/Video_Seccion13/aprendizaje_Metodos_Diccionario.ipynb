{
 "cells": [
  {
   "cell_type": "code",
   "execution_count": 1,
   "id": "3703e65d",
   "metadata": {},
   "outputs": [],
   "source": [
    "#el diccionario de colores\n",
    "colores={\"Amarillo\":\"yellow\",\"Blue\":\"azul\",\"Gren\":\"verde\"}"
   ]
  },
  {
   "cell_type": "code",
   "execution_count": 2,
   "id": "bb9565c7",
   "metadata": {},
   "outputs": [
    {
     "data": {
      "text/plain": [
       "'no se encuentra'"
      ]
     },
     "execution_count": 2,
     "metadata": {},
     "output_type": "execute_result"
    }
   ],
   "source": [
    "#Metodos\n",
    "#Busca un elemento a partir de su clave y si no lo encuentra devuelve un valor por defecto\n",
    "colores.get('negro',\"no se encuentra\")"
   ]
  },
  {
   "cell_type": "code",
   "execution_count": 3,
   "id": "940f61d5",
   "metadata": {},
   "outputs": [
    {
     "data": {
      "text/plain": [
       "dict_keys(['Amarillo', 'Blue', 'Gren'])"
      ]
     },
     "execution_count": 3,
     "metadata": {},
     "output_type": "execute_result"
    }
   ],
   "source": [
    "colores.keys()#Saber el nombre de las llaves "
   ]
  },
  {
   "cell_type": "code",
   "execution_count": 4,
   "id": "52822ab9",
   "metadata": {},
   "outputs": [
    {
     "data": {
      "text/plain": [
       "dict_values(['yellow', 'azul', 'verde'])"
      ]
     },
     "execution_count": 4,
     "metadata": {},
     "output_type": "execute_result"
    }
   ],
   "source": [
    "colores.values()#obtenemos los valores de los elementos del diccionario"
   ]
  },
  {
   "cell_type": "code",
   "execution_count": 5,
   "id": "e3f1efd1",
   "metadata": {},
   "outputs": [
    {
     "data": {
      "text/plain": [
       "dict_items([('Amarillo', 'yellow'), ('Blue', 'azul'), ('Gren', 'verde')])"
      ]
     },
     "execution_count": 5,
     "metadata": {},
     "output_type": "execute_result"
    }
   ],
   "source": [
    "colores.items()#obtenemos la clave y valor de cada elemento en el diccionario"
   ]
  },
  {
   "cell_type": "code",
   "execution_count": 6,
   "id": "01c54d91",
   "metadata": {},
   "outputs": [
    {
     "name": "stdout",
     "output_type": "stream",
     "text": [
      "Amarillo\n",
      "Blue\n",
      "Gren\n"
     ]
    }
   ],
   "source": [
    "for key in colores.keys():\n",
    "    print(key)"
   ]
  },
  {
   "cell_type": "code",
   "execution_count": 7,
   "id": "b4cf1651",
   "metadata": {},
   "outputs": [
    {
     "name": "stdout",
     "output_type": "stream",
     "text": [
      "yellow\n",
      "azul\n",
      "verde\n"
     ]
    }
   ],
   "source": [
    "for key in colores.values():\n",
    "    print(key)"
   ]
  },
  {
   "cell_type": "code",
   "execution_count": 8,
   "id": "73ed069e",
   "metadata": {},
   "outputs": [
    {
     "name": "stdout",
     "output_type": "stream",
     "text": [
      "Amarillo yellow\n",
      "Blue azul\n",
      "Gren verde\n"
     ]
    }
   ],
   "source": [
    "for c,v in colores.items():\n",
    "    print(c,v) "
   ]
  },
  {
   "cell_type": "code",
   "execution_count": 9,
   "id": "a002977b",
   "metadata": {},
   "outputs": [
    {
     "data": {
      "text/plain": [
       "'yellow'"
      ]
     },
     "execution_count": 9,
     "metadata": {},
     "output_type": "execute_result"
    }
   ],
   "source": [
    "#El metodo pop()\n",
    "#sirve para eliminar un elemento del diccionario mediante su clave.\n",
    "colores.pop(\"Amarillo\",\"No se ha encontrado\")#Nota imprime el value borrado del diccionario"
   ]
  },
  {
   "cell_type": "code",
   "execution_count": 10,
   "id": "fb7ae827",
   "metadata": {},
   "outputs": [
    {
     "data": {
      "text/plain": [
       "{'Blue': 'azul', 'Gren': 'verde'}"
      ]
     },
     "execution_count": 10,
     "metadata": {},
     "output_type": "execute_result"
    }
   ],
   "source": [
    "colores#aqui comprobamos el estado actual del diccionario y en efecto borro la clave \"Amarillo\":\"yellow\""
   ]
  },
  {
   "cell_type": "code",
   "execution_count": 12,
   "id": "f57c8daa",
   "metadata": {},
   "outputs": [
    {
     "data": {
      "text/plain": [
       "'No se ha encontrado'"
      ]
     },
     "execution_count": 12,
     "metadata": {},
     "output_type": "execute_result"
    }
   ],
   "source": [
    "colores.pop(\"Negro\",\"No se ha encontrado\")"
   ]
  },
  {
   "cell_type": "code",
   "execution_count": 13,
   "id": "5556acdd",
   "metadata": {},
   "outputs": [],
   "source": [
    "colores.clear()#limpia el diccionario de datos"
   ]
  },
  {
   "cell_type": "code",
   "execution_count": 14,
   "id": "065e26da",
   "metadata": {},
   "outputs": [
    {
     "data": {
      "text/plain": [
       "{}"
      ]
     },
     "execution_count": 14,
     "metadata": {},
     "output_type": "execute_result"
    }
   ],
   "source": [
    "colores#imprime el estado actual de la lista colores"
   ]
  }
 ],
 "metadata": {
  "kernelspec": {
   "display_name": "Python 3 (ipykernel)",
   "language": "python",
   "name": "python3"
  },
  "language_info": {
   "codemirror_mode": {
    "name": "ipython",
    "version": 3
   },
   "file_extension": ".py",
   "mimetype": "text/x-python",
   "name": "python",
   "nbconvert_exporter": "python",
   "pygments_lexer": "ipython3",
   "version": "3.10.8"
  }
 },
 "nbformat": 4,
 "nbformat_minor": 5
}
