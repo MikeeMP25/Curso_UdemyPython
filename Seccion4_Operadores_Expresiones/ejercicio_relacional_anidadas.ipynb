{
 "cells": [
  {
   "cell_type": "code",
   "execution_count": 1,
   "id": "4c33c2c6",
   "metadata": {},
   "outputs": [
    {
     "name": "stdout",
     "output_type": "stream",
     "text": [
      "[False, True, True, True, True]\n"
     ]
    }
   ],
   "source": [
    "#Ejercicio de codificacion 7:\n",
    "#Operadores relacionales\n",
    "# no borres esta línea\n",
    "#from evaluate import expresiones\n",
    "expresiones=[False==True,10>=2*4,33/3==11,True > False,True*5==2.5*2]\n",
    "resultados=[False,True,True,True,True]\n",
    "print(resultados)"
   ]
  },
  {
   "cell_type": "code",
   "execution_count": 2,
   "id": "4f89e991",
   "metadata": {},
   "outputs": [
    {
     "name": "stdout",
     "output_type": "stream",
     "text": [
      "True\n"
     ]
    }
   ],
   "source": [
    "#Ejercicio de codificacion 8: \n",
    "# no borres esta linea\n",
    "#from evaluate import edad, nombre\n",
    "nombre=\"Jesus\"\n",
    "edad=17\n",
    "\n",
    "#Ejercicio \n",
    "expresion = (nombre!=\"****\" and len(nombre) >= 3 and len(nombre) < 10) and (edad > 10 and edad < 18)\n",
    "\n",
    "print(expresion)"
   ]
  },
  {
   "cell_type": "code",
   "execution_count": 3,
   "id": "c608c0b6",
   "metadata": {},
   "outputs": [
    {
     "name": "stdout",
     "output_type": "stream",
     "text": [
      "Ingresa el primer un numero entero: 25\n",
      "Ingresa el segundo un numero entero: 18\n",
      "la condicion 1 fue:  False\n",
      "la condicion 2 fue:  True\n",
      "la condicion 3 fue:  True\n",
      "la condicion 4 fue:  False\n"
     ]
    }
   ],
   "source": [
    "#1)Realiza un programa que lea 2 numeros por teclados y determine \n",
    "#los siguientes aspectos(Solo mostrar true o false)\n",
    " \n",
    "  #1. Si los dos numeros son iguales\n",
    "  #2. Si los dos numeros son diferentes\n",
    "  #3. Si el primero es mayor que el segundo\n",
    "  #4. Si el segundo es mayor o igual que el primero\n",
    "numero1=int(input(\"Ingresa el primer un numero entero: \"))\n",
    "numero2=int(input(\"Ingresa el segundo un numero entero: \"))\n",
    "\n",
    "condicion1=numero1==numero2\n",
    "condicion2=numero1!=numero2\n",
    "condicion3=numero1>numero2\n",
    "condicion4=numero2>=numero1\n",
    "\n",
    "print(\"la condicion 1 fue: \",condicion1)\n",
    "print(\"la condicion 2 fue: \",condicion2)\n",
    "print(\"la condicion 3 fue: \",condicion3)\n",
    "print(\"la condicion 4 fue: \",condicion4)\n"
   ]
  },
  {
   "cell_type": "code",
   "execution_count": 4,
   "id": "320032e9",
   "metadata": {},
   "outputs": [
    {
     "name": "stdout",
     "output_type": "stream",
     "text": [
      "Ingresa un pequeño mensaje: Hola bebe\n",
      "\n",
      " La longitud de la cadena es mayor o igual que 3 y menor que 10  True\n"
     ]
    }
   ],
   "source": [
    "#2)Utilizando operadores logicos, determina si una cadena de texto \n",
    "#introducida por el usuario tiene una logitiud mayor o igual que 3 y \n",
    "#a su vez es menor que 10 (solo mostrar true o false) \n",
    "cadena_texto=input(\"Ingresa un pequeño mensaje: \")\n",
    "condicion=len(cadena_texto)>=3 and  len(cadena_texto) < 10\n",
    "print(\"\\n La longitud de la cadena es mayor o igual que 3 y menor que 10 \",condicion)"
   ]
  },
  {
   "cell_type": "code",
   "execution_count": 5,
   "id": "6c068615",
   "metadata": {},
   "outputs": [
    {
     "name": "stdout",
     "output_type": "stream",
     "text": [
      "Ingresa un numero que se encuentre entre 1 y 9: 2\n",
      "El numero ingresado elevando a la 9:  18\n",
      "El valor final del numero_magico es:  222222222\n"
     ]
    }
   ],
   "source": [
    "#3)Realiza un programa que cumpla el siguiente algoritmo utilizando \n",
    "#siempre que sea posible operadores en asignacion:\n",
    "\n",
    "# **Guarda en una variable numero_magico el valor 12345679(sin el 8)\n",
    "# **Lee por pantalla otro numero_usuario, especifica que sea entre 1 y 9\n",
    "#  (asegurate que es un numero)\n",
    "# **Multiplica el numero_usuario por 9 en si mismo\n",
    "# **Multiplica  el numero_magico por el numero_usuario en si mismo\n",
    "# **Finalmente muestra el valor final del numero_magico por pantalla\n",
    "\n",
    "numero_magico=12345679\n",
    "numero_usuario=int(input(\"Ingresa un numero que se encuentre entre 1 y 9: \"))\n",
    "numero_usuario*=9\n",
    "numero_magico*=numero_usuario\n",
    "print(\"El numero ingresado elevando a la 9: \",numero_usuario)\n",
    "print(\"El valor final del numero_magico es: \",numero_magico)\n",
    "\n"
   ]
  }
 ],
 "metadata": {
  "kernelspec": {
   "display_name": "Python 3 (ipykernel)",
   "language": "python",
   "name": "python3"
  },
  "language_info": {
   "codemirror_mode": {
    "name": "ipython",
    "version": 3
   },
   "file_extension": ".py",
   "mimetype": "text/x-python",
   "name": "python",
   "nbconvert_exporter": "python",
   "pygments_lexer": "ipython3",
   "version": "3.10.8"
  }
 },
 "nbformat": 4,
 "nbformat_minor": 5
}
