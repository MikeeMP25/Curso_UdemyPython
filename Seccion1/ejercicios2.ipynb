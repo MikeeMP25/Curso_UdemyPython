{
 "cells": [
  {
   "cell_type": "code",
   "execution_count": 1,
   "id": "877d783d",
   "metadata": {},
   "outputs": [
    {
     "name": "stdout",
     "output_type": "stream",
     "text": [
      "Ingresa el nombre(s): Jesus \n",
      "Ingresa el primer apellido: Miranda\n",
      "Ingresa la edad: 20\n",
      "Ingresa cualquier numero decimal o entero:7\n",
      "\n",
      "Jesus  Miranda: Tu número de la suerte es el 140.0\n"
     ]
    }
   ],
   "source": [
    "#Varibales\n",
    "nombre = input(\"Ingresa el nombre(s): \")\n",
    "apellido = input(\"Ingresa el primer apellido: \")\n",
    "edad=int(input(\"Ingresa la edad: \"))\n",
    "numero_magico=float(input(\"Ingresa cualquier numero decimal o entero:\"))\n",
    "\n",
    "cadena_final=nombre+\" \"+apellido+\": Tu número de la suerte es el \"+str(edad*numero_magico)\n",
    "print(\"\\n\"+cadena_final)"
   ]
  },
  {
   "cell_type": "code",
   "execution_count": 2,
   "id": "bdcf4776",
   "metadata": {},
   "outputs": [
    {
     "name": "stdout",
     "output_type": "stream",
     "text": [
      "El numero 0 :es un numero par XD\n",
      "El numero 1 :es un numero impar\n",
      "El numero 2 :es un numero par\n",
      "El numero 3 :es un numero impar\n",
      "El numero 4 :es un numero par\n",
      "El numero 5 :es un numero impar\n",
      "El numero 6 :es un numero par\n",
      "El numero 7 :es un numero impar\n",
      "El numero 8 :es un numero par\n",
      "El numero 9 :es un numero impar\n"
     ]
    }
   ],
   "source": [
    "#Ejemplo de un while y if en codigo python\n",
    "#este codigo nos dice que numero son pares e impares de un rango 0 a 9\n",
    "n=0\n",
    "while n < 10: # while = mientras (condicion)\n",
    "    if(n%2)==0: # if = si (condicion)\n",
    "        print(\"El numero \"+str(n)+\" :es un numero par\")\n",
    "    else: #else = no (condicion)\n",
    "        print(\"El numero \"+str(n) +\" :es un numero impar\")\n",
    "    n=n+1"
   ]
  },
  {
   "cell_type": "code",
   "execution_count": 3,
   "id": "d79d29a6",
   "metadata": {},
   "outputs": [
    {
     "name": "stdout",
     "output_type": "stream",
     "text": [
      "[[1, 1, 1, 3], [2, 2, 2, 6], [3, 3, 3, 9], [4, 4, 4, 12]]\n"
     ]
    }
   ],
   "source": [
    "#La siguiente matriz (o lista con listas anidades) debe cumplir una condicion ,y es que en cada \n",
    "#el cuatro elemento siempre debe ser resultado de sumar los tres primeros. ¿Eres capaz de \n",
    "#modificar las sumas incorrectas utilizando la tecnica de slicing?\n",
    "matriz =[\n",
    "    [1,1,1,3],\n",
    "    [2,2,2,7],\n",
    "    [3,3,3,9],\n",
    "    [4,4,4,13]\n",
    "]\n",
    "# Completa el ejercicio aqui\n",
    "matriz[1][-1]=sum(matriz[1][:-1])\n",
    "matriz[-1][-1]=sum(matriz[-1][:-1])\n",
    "\n",
    "print(matriz)"
   ]
  }
 ],
 "metadata": {
  "kernelspec": {
   "display_name": "Python 3 (ipykernel)",
   "language": "python",
   "name": "python3"
  },
  "language_info": {
   "codemirror_mode": {
    "name": "ipython",
    "version": 3
   },
   "file_extension": ".py",
   "mimetype": "text/x-python",
   "name": "python",
   "nbconvert_exporter": "python",
   "pygments_lexer": "ipython3",
   "version": "3.10.8"
  }
 },
 "nbformat": 4,
 "nbformat_minor": 5
}
