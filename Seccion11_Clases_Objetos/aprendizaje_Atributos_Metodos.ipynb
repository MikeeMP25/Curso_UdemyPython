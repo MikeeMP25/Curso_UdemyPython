{
 "cells": [
  {
   "cell_type": "code",
   "execution_count": 1,
   "id": "123d9310",
   "metadata": {},
   "outputs": [
    {
     "name": "stdout",
     "output_type": "stream",
     "text": [
      "Caracteristicas de mi objeto pikachu son:  Amarillo Electrico 2\n"
     ]
    }
   ],
   "source": [
    "class Pokemon:\n",
    "    pass #Decimos que la clse no contiene nada pero si exite la clase pokemon\n",
    "\n",
    "#Creamos el objeto de la clase\n",
    "pikachu=Pokemon()\n",
    "#En python podemos agregar los atributos de mi clase desde afuera mediante mi objeto de la clase Pokemon \n",
    "pikachu.color=\"Amarillo\"\n",
    "pikachu.tipo=\"Electrico\"\n",
    "pikachu.etapa=2\n",
    "#imprimos la comprobacion\n",
    "print(\"Caracteristicas de mi objeto pikachu son: \",pikachu.color,pikachu.tipo,pikachu.etapa)\n"
   ]
  },
  {
   "cell_type": "code",
   "execution_count": 2,
   "id": "abb1a0bd",
   "metadata": {},
   "outputs": [
    {
     "data": {
      "text/plain": [
       "'Rayo'"
      ]
     },
     "execution_count": 2,
     "metadata": {},
     "output_type": "execute_result"
    }
   ],
   "source": [
    "#la forma tradicional es declararlas dentro de mi clase \n",
    "\n",
    "class Pokemon:\n",
    "    color = \"Naranja\"\n",
    "    tipo = \"Volador\"\n",
    "    elemento= \"Fuego\"\n",
    "    nivel=5\n",
    "charizar=Pokemon()\n",
    "charizar.nivel\n",
    "5\n",
    "charizar.elemento=\"Rayo\"\n",
    "charizar.elemento\n",
    "'Rayo'\n"
   ]
  },
  {
   "cell_type": "code",
   "execution_count": 3,
   "id": "2fef363a",
   "metadata": {},
   "outputs": [
    {
     "name": "stdout",
     "output_type": "stream",
     "text": [
      "Se acaba de crear un nuevo pokemon\n",
      "Mi pokemon no pertenece a la naturaleza de:  Rayo\n",
      "Mi pokemon pertence a la naturaleza de : Fuego\n"
     ]
    }
   ],
   "source": [
    "class Pokemon:\n",
    "    color = \"Naranja\"\n",
    "    tipo = \"Volador\"\n",
    "    elemento= \"Rayo\"\n",
    "    nivel=5\n",
    "    def __init__(self):\n",
    "        print(\"Se acaba de crear un nuevo pokemon\")\n",
    "    \n",
    "    \n",
    "    def cambio(self):\n",
    "        #pensamos que hace referencia al atributo de mi clase pero la verdad es que no \n",
    "        #sino lo toma como en cuenta como una varible interna del metodo caracterristicas\n",
    "        ##\n",
    "        elemento=\"Viento\"\n",
    "        #self es una llave para acceder a los atributos de mi clase Pokemon\n",
    "        self.elemento=\"Fuego\"#aqui cambia mi variable inicializa elemento=\"Fuego\" a elemento = \"Rayo\" \n",
    "    def naturaleza(self):\n",
    "        if self.elemento==\"Fuego\":\n",
    "            print(\"Mi pokemon pertence a la naturaleza de :\",self.elemento)\n",
    "        else:\n",
    "            print(\"Mi pokemon no pertenece a la naturaleza de: \",self.elemento)\n",
    "\n",
    "charizar=Pokemon()\n",
    "charizar.naturaleza()\n",
    "charizar.cambio()\n",
    "charizar.naturaleza()\n"
   ]
  },
  {
   "cell_type": "code",
   "execution_count": 4,
   "id": "0faf5e1e",
   "metadata": {},
   "outputs": [],
   "source": [
    "class Pokemon:\n",
    "    \n",
    "    #Nota self.color crea un atributo de la clase y le asigna el color que recibe en los parametros (color) \n",
    "    def __init__(self,color,tipo,elemento,nivel):\n",
    "        self.color = color\n",
    "        self.tipo = \"Volador\"\n",
    "        self.elemento= elemento\n",
    "        self.nivel=nivel\n",
    "        print(\"\"\"Se acaba de crear un nuevo pokemon con las siguientes caracteristicas\n",
    "        color= {}\n",
    "        tipo= {}\n",
    "        elemento= {}\n",
    "        nivel= {}\"\"\".format(color,self.tipo,elemento,nivel))\n",
    "    \n",
    "    \n",
    "    def cambio(self):\n",
    "        #pensamos que hace referencia al atributo de mi clase pero la verdad es que no \n",
    "        #sino lo toma como en cuenta como una varible interna del metodo caracterristicas\n",
    "        ##\n",
    "        elemento=\"Viento\"\n",
    "        #self es una llave para acceder a los atributos de mi clase Pokemon\n",
    "        self.elemento=\"Fuego\"#aqui cambia mi variable inicializa elemento=\"Fuego\" a elemento = \"Rayo\" \n",
    "    def naturaleza(self):\n",
    "        if self.elemento==\"Fuego\":\n",
    "            print(\"Mi pokemon pertence a la naturaleza de :\",self.elemento)\n",
    "        else:\n",
    "            print(\"Mi pokemon no pertenece a la naturaleza de: \",self.elemento)\n"
   ]
  },
  {
   "cell_type": "code",
   "execution_count": 5,
   "id": "c0d9619d",
   "metadata": {},
   "outputs": [
    {
     "ename": "SyntaxError",
     "evalue": "invalid syntax (3241854102.py, line 4)",
     "output_type": "error",
     "traceback": [
      "\u001b[1;36m  Cell \u001b[1;32mIn [5], line 4\u001b[1;36m\u001b[0m\n\u001b[1;33m    Se acaba de crear un nuevo pokemon con las siguientes caracteristicas\u001b[0m\n\u001b[1;37m       ^\u001b[0m\n\u001b[1;31mSyntaxError\u001b[0m\u001b[1;31m:\u001b[0m invalid syntax\n"
     ]
    }
   ],
   "source": [
    "#¡Es importante el self en una clase en python!\n",
    "lugia=Pokemon(\"blanco\",\"Terrestre\",\"Mistico\",10)\n",
    "lugia.color\n",
    "Se acaba de crear un nuevo pokemon con las siguientes caracteristicas\n",
    "        color= blanco\n",
    "        tipo= Volador\n",
    "        elemento= Mistico\n",
    "        nivel= 10\n"
   ]
  },
  {
   "cell_type": "code",
   "execution_count": 6,
   "id": "04e9be95",
   "metadata": {},
   "outputs": [
    {
     "ename": "SyntaxError",
     "evalue": "invalid syntax (831177143.py, line 18)",
     "output_type": "error",
     "traceback": [
      "\u001b[1;36m  Cell \u001b[1;32mIn [6], line 18\u001b[1;36m\u001b[0m\n\u001b[1;33m    Se ha creado una pelicula:  El padrino\u001b[0m\n\u001b[1;37m       ^\u001b[0m\n\u001b[1;31mSyntaxError\u001b[0m\u001b[1;31m:\u001b[0m invalid syntax\n"
     ]
    }
   ],
   "source": [
    "class Pelicula:\n",
    "    #titulo\n",
    "    #duracion\n",
    "    #lanzamiento\n",
    "    #contructor con parametros de la clase \n",
    "    def __init__(self,title,duration,year):\n",
    "        self.titulo=title\n",
    "        self.duracion=duration\n",
    "        self.lanzamiento=year\n",
    "        print(\"Se ha creado una pelicula: \",title)\n",
    "    \n",
    "    #Destructor de la clase\n",
    "    def __del__(self):\n",
    "        print(\"se esta borrando la peli: \",self.titulo)\n",
    "\n",
    "p=Pelicula(\"El padrino\",171,1997)\n",
    "#del(p) \"Elimina el espacio en la memoria y la instancia de la clase\"\n",
    "Se ha creado una pelicula:  El padrino\n",
    "#Aqui nos devuelve una cadena con el espacio en memoria\n",
    "str(p)\n"
   ]
  },
  {
   "cell_type": "code",
   "execution_count": 7,
   "id": "c1a2d2b2",
   "metadata": {},
   "outputs": [
    {
     "ename": "SyntaxError",
     "evalue": "invalid syntax (395544166.py, line 21)",
     "output_type": "error",
     "traceback": [
      "\u001b[1;36m  Cell \u001b[1;32mIn [7], line 21\u001b[1;36m\u001b[0m\n\u001b[1;33m    Se ha creado una pelicula:  EL padrino\u001b[0m\n\u001b[1;37m       ^\u001b[0m\n\u001b[1;31mSyntaxError\u001b[0m\u001b[1;31m:\u001b[0m invalid syntax\n"
     ]
    }
   ],
   "source": [
    "class Pelicula:\n",
    "    #titulo\n",
    "    #duracion\n",
    "    #lanzamiento\n",
    "    #contructor con parametros de la clase \n",
    "    def __init__(self,title,duration,year):\n",
    "        self.titulo=title\n",
    "        self.duracion=duration\n",
    "        self.lanzamiento=year\n",
    "        print(\"Se ha creado una pelicula: \",title)\n",
    "    \n",
    "    #Destructor de la clase\n",
    "    def __del__(self):\n",
    "        print(\"se esta borrando la peli: \",self.titulo)\n",
    "    \n",
    "   # Redefinimos el metodo string\n",
    "    def __str__(self):\n",
    "        return \"{} Lazada en {} con una duracion de {}minutos\".format(self.titulo,self.duracion,self.lanzamiento)\n",
    "\n",
    "p=Pelicula(\"EL padrino\",117,2015)\n",
    "Se ha creado una pelicula:  EL padrino\n",
    "str(p)\n"
   ]
  },
  {
   "cell_type": "code",
   "execution_count": 8,
   "id": "f0d5c55e",
   "metadata": {},
   "outputs": [
    {
     "ename": "NameError",
     "evalue": "name 'p' is not defined",
     "output_type": "error",
     "traceback": [
      "\u001b[1;31m---------------------------------------------------------------------------\u001b[0m",
      "\u001b[1;31mNameError\u001b[0m                                 Traceback (most recent call last)",
      "Cell \u001b[1;32mIn [8], line 1\u001b[0m\n\u001b[1;32m----> 1\u001b[0m \u001b[38;5;28mlen\u001b[39m(\u001b[43mp\u001b[49m)\n",
      "\u001b[1;31mNameError\u001b[0m: name 'p' is not defined"
     ]
    }
   ],
   "source": [
    "len(p)"
   ]
  },
  {
   "cell_type": "code",
   "execution_count": 9,
   "id": "ecb22fb7",
   "metadata": {},
   "outputs": [
    {
     "name": "stdout",
     "output_type": "stream",
     "text": [
      "Se ha creado una pelicula:  EL padrino\n"
     ]
    },
    {
     "data": {
      "text/plain": [
       "117"
      ]
     },
     "execution_count": 9,
     "metadata": {},
     "output_type": "execute_result"
    }
   ],
   "source": [
    "class Pelicula:\n",
    "    #titulo\n",
    "    #duracion\n",
    "    #lanzamiento\n",
    "    #contructor con parametros de la clase \n",
    "    def __init__(self,title,duration,year):\n",
    "        self.titulo=title\n",
    "        self.duracion=duration\n",
    "        self.lanzamiento=year\n",
    "        print(\"Se ha creado una pelicula: \",title)\n",
    "    \n",
    "    #Destructor de la clase\n",
    "    def __del__(self):\n",
    "        print(\"se esta borrando la peli: \",self.titulo)\n",
    "    \n",
    "   # Redefinimos el metodo string\n",
    "    def __str__(self):\n",
    "        return \"{} Lazada en {} con una duracion de {}minutos\".format(self.titulo,self.duracion,self.lanzamiento)\n",
    "    \n",
    "    #Redefinimos el metodo length\n",
    "    def __len__(self):\n",
    "        return self.duracion\n",
    "p=Pelicula(\"EL padrino\",117,2015)\n",
    "#Nota como puedes ver no se ejecutan con un puntito desde del nombre del objeto (p)\n",
    "len(p)\n",
    "#se ejecutan automaticamente cuando otras funciones externas como len() str() los toman como parametros\n",
    "#por que no son directamente internas\n"
   ]
  },
  {
   "cell_type": "code",
   "execution_count": null,
   "id": "504035ae",
   "metadata": {},
   "outputs": [],
   "source": []
  }
 ],
 "metadata": {
  "kernelspec": {
   "display_name": "Python 3 (ipykernel)",
   "language": "python",
   "name": "python3"
  },
  "language_info": {
   "codemirror_mode": {
    "name": "ipython",
    "version": 3
   },
   "file_extension": ".py",
   "mimetype": "text/x-python",
   "name": "python",
   "nbconvert_exporter": "python",
   "pygments_lexer": "ipython3",
   "version": "3.10.8"
  }
 },
 "nbformat": 4,
 "nbformat_minor": 5
}
