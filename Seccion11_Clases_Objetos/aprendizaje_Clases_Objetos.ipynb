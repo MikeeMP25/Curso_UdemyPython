{
 "cells": [
  {
   "cell_type": "code",
   "execution_count": 3,
   "id": "9c316cee",
   "metadata": {},
   "outputs": [],
   "source": [
    "class Pelicula:\n",
    "   \n",
    "    #contructor con parametros de la clase \n",
    "    def __init__(self,title,duration,year):\n",
    "        self.titulo=title\n",
    "        self.duracion=duration\n",
    "        self.lanzamiento=year\n",
    "        print(\"Se ha creado una pelicula: \",self.titulo)\n",
    "    \n",
    "    #Destructor de la clase\n",
    "    def __str__(self):\n",
    "        return '{}({})'.format(self.titulo,self.lanzamiento)"
   ]
  },
  {
   "cell_type": "code",
   "execution_count": 1,
   "id": "157e7672",
   "metadata": {},
   "outputs": [],
   "source": [
    "class Catalogo:\n",
    "    pelicula=[]\n",
    "    \n",
    "    def __init__(self,peliculas=[]):\n",
    "        self.pelicula=peliculas\n",
    "    \n",
    "    def agregar(self,p):\n",
    "        self.pelicula.append(p)\n",
    "    \n",
    "    def mostrar(self):\n",
    "        for c,v in enumerate(self.pelicula):\n",
    "            print(c,v)"
   ]
  },
  {
   "cell_type": "code",
   "execution_count": 4,
   "id": "e09f0207",
   "metadata": {},
   "outputs": [
    {
     "name": "stdout",
     "output_type": "stream",
     "text": [
      "Se ha creado una pelicula:  El padrino\n",
      "Se ha creado una pelicula:  Kong vs Godzila\n",
      "0 Kong vs Godzila(2022)\n",
      "Se ha creado una pelicula:  Madrix\n",
      "0 Kong vs Godzila(2022)\n",
      "1 Madrix(2010)\n",
      "0 El padrino(1972)\n"
     ]
    }
   ],
   "source": [
    "p=Pelicula(\"El padrino\",175,1972)\n",
    "p2=Pelicula(\"Kong vs Godzila\",175,2022)\n",
    "c2=Catalogo([p2])\n",
    "c=Catalogo([p])\n",
    "\n",
    "c2.mostrar()\n",
    "\n",
    "c2.agregar(Pelicula(\"Madrix\",154,2010))\n",
    "\n",
    "c2.mostrar()\n",
    "\n",
    "c.mostrar()\n"
   ]
  },
  {
   "cell_type": "code",
   "execution_count": 7,
   "id": "563720a2",
   "metadata": {},
   "outputs": [
    {
     "data": {
      "text/plain": [
       "__main__.Galleta"
      ]
     },
     "execution_count": 7,
     "metadata": {},
     "output_type": "execute_result"
    }
   ],
   "source": [
    "#Nota: Las clases son el molde de los objetos\n",
    "class Galleta:\n",
    "    pass\n",
    "\n",
    "#Crea un objeto de la clase Galleta\n",
    "una_galleta = Galleta()#instancia de la clase \n",
    "otra_galleta = Galleta()\n",
    "\n",
    "type(una_galleta)#saber que es una_galleta con la funcion type puedes seber de que tipo es \"un objeto\"\n",
    "#Nota: Ya que para python todos son objetos\n"
   ]
  },
  {
   "cell_type": "code",
   "execution_count": 6,
   "id": "9f1afa5a",
   "metadata": {},
   "outputs": [
    {
     "data": {
      "text/plain": [
       "float"
      ]
     },
     "execution_count": 6,
     "metadata": {},
     "output_type": "execute_result"
    }
   ],
   "source": [
    "type(15.50)"
   ]
  },
  {
   "cell_type": "code",
   "execution_count": 8,
   "id": "a043fc84",
   "metadata": {},
   "outputs": [
    {
     "data": {
      "text/plain": [
       "str"
      ]
     },
     "execution_count": 8,
     "metadata": {},
     "output_type": "execute_result"
    }
   ],
   "source": [
    "type(\"Hola\")"
   ]
  },
  {
   "cell_type": "code",
   "execution_count": 9,
   "id": "6bb88b8c",
   "metadata": {},
   "outputs": [
    {
     "data": {
      "text/plain": [
       "int"
      ]
     },
     "execution_count": 9,
     "metadata": {},
     "output_type": "execute_result"
    }
   ],
   "source": [
    "type(10)"
   ]
  },
  {
   "cell_type": "code",
   "execution_count": 10,
   "id": "a91e2bd5",
   "metadata": {},
   "outputs": [
    {
     "data": {
      "text/plain": [
       "bool"
      ]
     },
     "execution_count": 10,
     "metadata": {},
     "output_type": "execute_result"
    }
   ],
   "source": [
    "type(True)"
   ]
  },
  {
   "cell_type": "code",
   "execution_count": 11,
   "id": "29bfe887",
   "metadata": {},
   "outputs": [
    {
     "data": {
      "text/plain": [
       "list"
      ]
     },
     "execution_count": 11,
     "metadata": {},
     "output_type": "execute_result"
    }
   ],
   "source": [
    "type([])"
   ]
  },
  {
   "cell_type": "code",
   "execution_count": null,
   "id": "924ffd03",
   "metadata": {},
   "outputs": [],
   "source": []
  }
 ],
 "metadata": {
  "kernelspec": {
   "display_name": "Python 3 (ipykernel)",
   "language": "python",
   "name": "python3"
  },
  "language_info": {
   "codemirror_mode": {
    "name": "ipython",
    "version": 3
   },
   "file_extension": ".py",
   "mimetype": "text/x-python",
   "name": "python",
   "nbconvert_exporter": "python",
   "pygments_lexer": "ipython3",
   "version": "3.10.8"
  }
 },
 "nbformat": 4,
 "nbformat_minor": 5
}
