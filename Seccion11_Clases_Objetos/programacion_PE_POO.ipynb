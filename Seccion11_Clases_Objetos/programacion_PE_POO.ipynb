{
 "cells": [
  {
   "cell_type": "code",
   "execution_count": 5,
   "id": "c5e2e1d0",
   "metadata": {},
   "outputs": [],
   "source": [
    "#Para python todos son objetos \n",
    "#Tercera fase\n",
    "#Para digmas de programacion \n",
    "#Programacion Estructura y POO(Programacion Orientada a Objetos)\n",
    "\n",
    "#EJEMPLO DE IMPLEMENTACION CON PROGRAMACION ESTRUCTURADA\n",
    "lista_clientes=[{\"Nombre\":\"hector\",\"Apellidos\":\"Costa Guzman\",\"dni\":\"11111A\"},\n",
    "               {\"Nombre\":\"Juan\",\"Apellidos\":\"Gonzales Marques\",\"dni\":\"22222B\"}]\n"
   ]
  },
  {
   "cell_type": "code",
   "execution_count": 10,
   "id": "8f91d57e",
   "metadata": {},
   "outputs": [],
   "source": [
    "#Esta es una funcion donde mostramos un cliente por su dni \n",
    "def mostrar_cliente(lista_clientes,dni):\n",
    "    for c in lista_clientes:\n",
    "        if(dni==c[\"dni\"]):\n",
    "            print('{} {}'.format(c[\"Nombre\"],c[\"Apellidos\"]))\n",
    "            return\n",
    "    print(\"Cliente no encontrado\")"
   ]
  },
  {
   "cell_type": "code",
   "execution_count": 7,
   "id": "165965c4",
   "metadata": {},
   "outputs": [
    {
     "name": "stdout",
     "output_type": "stream",
     "text": [
      "hector Costa Guzman\n"
     ]
    }
   ],
   "source": [
    "    \n",
    "mostrar_cliente(lista_clientes,\"11111A\")"
   ]
  },
  {
   "cell_type": "code",
   "execution_count": 8,
   "id": "59399391",
   "metadata": {},
   "outputs": [],
   "source": [
    "def borrar_cliente(lista_clientes,dni):\n",
    "    for l,c in enumerate(lista_clientes):#Recorre la lista\n",
    "        if(dni == c['dni']):#busca el dni del cliente que este en la lista\n",
    "            del(lista_clientes[l])#borrar una lista \n",
    "            print(str(c),\"¬¬ Delete\")#muestra el diccinario que se borro en la lista_clientes\n",
    "            return\n",
    "        print(\"Cliente no encontrado\")"
   ]
  },
  {
   "cell_type": "code",
   "execution_count": 9,
   "id": "877eaf95",
   "metadata": {},
   "outputs": [
    {
     "name": "stdout",
     "output_type": "stream",
     "text": [
      "{'Nombre': 'Juan', 'Apellidos': 'Gonzales Marques', 'dni': '22222B'} ¬¬ Delete\n"
     ]
    },
    {
     "data": {
      "text/plain": [
       "[{'Nombre': 'hector', 'Apellidos': 'Costa Guzman', 'dni': '11111A'}]"
      ]
     },
     "execution_count": 9,
     "metadata": {},
     "output_type": "execute_result"
    }
   ],
   "source": [
    "borrar_cliente(lista_clientes,\"22222B\")\n",
    "#{'Nombre': 'Juan', 'Apellidos': 'Gonzales Marques', 'dni': '22222B'} #¬¬ Delete\n",
    "lista_clientes #aqui imprimo mi lista actual\n",
    "#[{'Nombre': 'hector', 'Apellidos': 'Costa Guzman', 'dni': '11111A'}]"
   ]
  },
  {
   "cell_type": "code",
   "execution_count": 11,
   "id": "33231fa0",
   "metadata": {},
   "outputs": [],
   "source": [
    "#PROGRAMACION ORIENTADA A OBJETOS\n",
    "### No intentes entender este código, sólo fíjate en cómo se utiliza abajo  \n",
    "\n",
    "# Creo una estructura para los clientes\n",
    "\n",
    "class Cliente:# Creo una clase cliente\n",
    "\n",
    "    def __init__(self, dni, nombre, apellidos): #Inicializo el constructor que recibe parametros dni,nombre,apellidos\n",
    "        #Inicializa las varibles con los parametros de entrada\n",
    "        self.dni = dni\n",
    "        self.nombre = nombre\n",
    "        self.apellidos = apellidos\n",
    "\n",
    "    def __str__(self): #Defino al metodo str que retornara dos variables de tipo cadena  \n",
    "        return '{} {}'.format(self.nombre,self.apellidos)\n"
   ]
  },
  {
   "cell_type": "code",
   "execution_count": 12,
   "id": "f383ef29",
   "metadata": {},
   "outputs": [],
   "source": [
    "# Y otra para las empresas\n",
    "class Empresa: #Creo una nueva clase empresa \n",
    "\n",
    "    def __init__(self, clientes=[]): #inicializo el constructor que recibe una lista con los elementos de mi objeto cliente\n",
    "        self.clientes = clientes #inicializo mi variable clientes con las lista que recibe\n",
    "\n",
    "    def mostrar_cliente(self, dni=None): #Defino al metodo cliente que recibe un parametro dni \n",
    "        for c in self.clientes: #Utilizo el for para recorrer la lista ya previamente definida en el constructor  \n",
    "            if c.dni == dni: #compara el identificador de entrada con el de la lista clientes es un \"buscador\" \n",
    "                print(c)#Aqui imprime los datos del cliente\n",
    "                return #retorna un valor vacio\n",
    "        print(\"Cliente no encontrado\") #es una alerta con un mensaje \n",
    "\n",
    "    def borrar_cliente(self, dni=None):# Defino al metodo borrar de mi clase empresa\n",
    "        for i,c in enumerate(self.clientes):#Recorro la lista para saber el indice y el valor que tiene mi lista clientes\n",
    "            if c.dni == dni:#Buscador\n",
    "                del(self.clientes[i])#Este es el metodo para borrar un elemento de la lista clientes\n",
    "                print(str(c),\"> BORRADO\")#Muestra los datos del cliente que se borro de la lista\n",
    "                return #retorna un valor vacio \n",
    "        print(\"Cliente no encontrado\")#Es una alerta con un mensaje\n"
   ]
  },
  {
   "cell_type": "code",
   "execution_count": 13,
   "id": "c9119e4b",
   "metadata": {},
   "outputs": [
    {
     "name": "stdout",
     "output_type": "stream",
     "text": [
      "==LISTADO DE CLIENTES==\n",
      "[<__main__.Cliente object at 0x00000231A46DE770>, <__main__.Cliente object at 0x00000231A46DE500>]\n",
      "\n",
      "==MOSTRAR CLIENTES POR DNI==\n",
      "Hector Costa Guzman\n",
      "Cliente no encontrado\n",
      "\n",
      "==BORRAR CLIENTES POR DNI==\n",
      "Cliente no encontrado\n",
      "Juan Gonzalez Marquez > BORRADO\n",
      "\n",
      "==LISTADO DE CLIENTES==\n",
      "[<__main__.Cliente object at 0x00000231A46DE770>]\n"
     ]
    }
   ],
   "source": [
    "### Ahora utilizaré ambas estructuras (La clase Cliente y Empresa)\n",
    "\n",
    "# Creo un par de clientes \n",
    "# Creo un objeto con los siguientes argumentos de entrada\n",
    "\n",
    "hector = Cliente(nombre=\"Hector\", apellidos=\"Costa Guzman\", dni=\"11111111A\")#OBJ hector de mi clase Cliente\n",
    "juan = Cliente(\"22222222B\", \"Juan\", \"Gonzalez Marquez\")#OBJ juan de mi clase Cliente\n",
    "#Nota: cree dos objetos con distintos datos\n",
    "\n",
    "# Creo una empresa con los clientes iniciales\n",
    "#Creo un objeto empresa de mi clase Empresa con los siguientes argumentos de entrada creo una lista que contiene \n",
    "#dos objetos hector y juan de mi clase Cliente\n",
    "empresa = Empresa(clientes=[hector, juan]) #OBJTO empresa de mi clase Empresa \n",
    "\n",
    "# Muestro todos los clientes\n",
    "print(\"==LISTADO DE CLIENTES==\")\n",
    "print(empresa.clientes)#Estoy imprimiendo mi variable clientes de mi clase empresa  \n",
    "\n",
    "print(\"\\n==MOSTRAR CLIENTES POR DNI==\")\n",
    "# Consulto clientes por DNI\n",
    "empresa.mostrar_cliente(\"11111111A\")#Cuando creas un objeto de la clse puedes acceder a los metodos \n",
    "                                    #de la clase y atributos de la misma\n",
    "empresa.mostrar_cliente(\"11111111Z\")\n",
    "\n",
    "print(\"\\n==BORRAR CLIENTES POR DNI==\")\n",
    "# Borro un cliente por DNI\n",
    "empresa.borrar_cliente(\"22222222V\")\n",
    "empresa.borrar_cliente(\"22222222B\")\n",
    "\n",
    "# Muestro de nuevo todos los clientes\n",
    "print(\"\\n==LISTADO DE CLIENTES==\")\n",
    "print(empresa.clientes)#Imprimo el estado actual de mi varible clientes despues de ejecutar ciertos metodos de \n",
    "                       #mi clase Empresa mediante el objeto empresa previamente creado apartir de mi clase  \n"
   ]
  },
  {
   "cell_type": "code",
   "execution_count": null,
   "id": "d64b6484",
   "metadata": {},
   "outputs": [],
   "source": []
  }
 ],
 "metadata": {
  "kernelspec": {
   "display_name": "Python 3 (ipykernel)",
   "language": "python",
   "name": "python3"
  },
  "language_info": {
   "codemirror_mode": {
    "name": "ipython",
    "version": 3
   },
   "file_extension": ".py",
   "mimetype": "text/x-python",
   "name": "python",
   "nbconvert_exporter": "python",
   "pygments_lexer": "ipython3",
   "version": "3.10.8"
  }
 },
 "nbformat": 4,
 "nbformat_minor": 5
}
