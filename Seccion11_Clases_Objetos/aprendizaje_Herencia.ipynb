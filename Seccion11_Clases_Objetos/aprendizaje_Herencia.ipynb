{
 "cells": [
  {
   "cell_type": "code",
   "execution_count": 10,
   "id": "c00d3eb8",
   "metadata": {},
   "outputs": [
    {
     "ename": "IndentationError",
     "evalue": "expected an indented block after function definition on line 18 (2406989881.py, line 19)",
     "output_type": "error",
     "traceback": [
      "\u001b[1;36m  Cell \u001b[1;32mIn [10], line 19\u001b[1;36m\u001b[0m\n\u001b[1;33m    producto.pvp = producto.pvp - (producto.pvp/100 * rebaja)\u001b[0m\n\u001b[1;37m    ^\u001b[0m\n\u001b[1;31mIndentationError\u001b[0m\u001b[1;31m:\u001b[0m expected an indented block after function definition on line 18\n"
     ]
    }
   ],
   "source": [
    "class Producto: #SuperClase Producto \n",
    "    \n",
    "    \n",
    "    def __init__(self,referencia,nombre,pvp,descripcion):#Constructor con parametros\n",
    "        #inicializa mis varaibles con los parametos de entrada\n",
    "        self.referencia = referencia\n",
    "        self.nombre = nombre\n",
    "        self.pvp = pvp\n",
    "        self.descripcion = descripcion\n",
    "\n",
    "    def __str__(self):#Metodos especiales ya que no necesitan un punto para ser invocados \n",
    "        return f\"REFERENCIA\\t {self.referencia}\\n\" \\\n",
    "               f\"NOMBRE\\t\\t {self.nombre}\\n\" \\\n",
    "               f\"PVP\\t\\t {self.pvp}\\n\" \\\n",
    "               f\"DESCRIPCIÓN\\t {self.descripcion}\\n\"\n",
    "    \n",
    "\n",
    "    "
   ]
  },
  {
   "cell_type": "code",
   "execution_count": 2,
   "id": "10dfceef",
   "metadata": {},
   "outputs": [
    {
     "name": "stdout",
     "output_type": "stream",
     "text": [
      "REFERENCIA\t 2034\n",
      "NOMBRE\t\t Vaso adornado\n",
      "PVP\t\t 15\n",
      "DESCRIPCIÓN\t Vaso de porcelana\n",
      "\n"
     ]
    }
   ],
   "source": [
    "class Adorno(Producto): #SubClase Adorno utilizamos la herencia entre clases\n",
    "    pass #nos referimos a que no tiene nada en la clase pero es una clase definida\n",
    "\n",
    "Creamos el objeto \n",
    "adorno = Adorno(2034, \"Vaso adornado\", 15, \"Vaso de porcelana\")\n",
    "\n",
    "print(adorno)"
   ]
  },
  {
   "cell_type": "code",
   "execution_count": 22,
   "id": "94323e4d",
   "metadata": {},
   "outputs": [],
   "source": [
    "#Creamos la clase alimento que hereda de producto \n",
    " \n",
    "class Alimento(Producto):\n",
    "     \n",
    "#Asi se declara una varible vacia en python y podemos acceder a ella mediante un objeto \n",
    "    productor = \"\"\n",
    "   \n",
    "    distribuidor = \"\"\n",
    "    \n",
    "    def __str__(self):\n",
    "        return f\"REFERENCIA\\t {self.referencia}\\n\" \\\n",
    "               f\"NOMBRE\\t\\t {self.nombre}\\n\" \\\n",
    "               f\"PVP\\t\\t {self.pvp}\\n\" \\\n",
    "               f\"DESCRIPCIÓN\\t {self.descripcion}\\n\" \\\n",
    "               f\"PRODUCTOR\\t\\t {self.productor}\\n\" \\\n",
    "               f\"DISTRIBUIDOR\\t\\t {self.distribuidor}\\n\"\n",
    "\n",
    "\n",
    "class Libro(Producto):\n",
    "    isbn = \"\"\n",
    "    autor = \"\"\n",
    "\n",
    "    def __str__(self):\n",
    "        return f\"REFERENCIA\\t {self.referencia}\\n\" \\\n",
    "               f\"NOMBRE\\t\\t {self.nombre}\\n\" \\\n",
    "               f\"PVP\\t\\t {self.pvp}\\n\" \\\n",
    "               f\"DESCRIPCIÓN\\t {self.descripcion}\\n\" \\\n",
    "               f\"ISBN\\t\\t {self.isbn}\\n\" \\\n",
    "               f\"AUTOR\\t\\t {self.autor}\\n\"\n",
    "    \n",
    "    #polimorfismo\n",
    "    \n",
    "    def rebajar_producto(producto, rebaja):\n",
    "        producto.pvp = producto.pvp - (producto.pvp/100 * rebaja)\n",
    "    \n",
    "  "
   ]
  },
  {
   "cell_type": "code",
   "execution_count": 4,
   "id": "becf059f",
   "metadata": {},
   "outputs": [
    {
     "name": "stdout",
     "output_type": "stream",
     "text": [
      "REFERENCIA\t 2035\n",
      "NOMBRE\t\t Botella de Aceite de Oliva\n",
      "PVP\t\t 5\n",
      "DESCRIPCIÓN\t 250 ML\n",
      "PRODUCTOR\t\t La Aceitera\n",
      "DISTRIBUIDOR\t\t Distribuciones SA\n",
      "\n",
      "REFERENCIA\t 2036\n",
      "NOMBRE\t\t Cocina Mediterránea\n",
      "PVP\t\t 9\n",
      "DESCRIPCIÓN\t Recetas sanas y buenas\n",
      "ISBN\t\t 0-123456-78-9\n",
      "AUTOR\t\t Doña Juana\n",
      "\n"
     ]
    }
   ],
   "source": [
    "alimento = Alimento(2035, \"Botella de Aceite de Oliva\", 5, \"250 ML\")\n",
    "alimento.productor = \"La Aceitera\"\n",
    "alimento.distribuidor = \"Distribuciones SA\"\n",
    "print(alimento)\n",
    "\n",
    "libro = Libro(2036, \"Cocina Mediterránea\",9, \"Recetas sanas y buenas\")\n",
    "libro.isbn = \"0-123456-78-9\"\n",
    "libro.autor = \"Doña Juana\"\n",
    "print(libro)"
   ]
  },
  {
   "cell_type": "code",
   "execution_count": 6,
   "id": "44b774c8",
   "metadata": {},
   "outputs": [
    {
     "name": "stdout",
     "output_type": "stream",
     "text": [
      "[<__main__.Adorno object at 0x000001FAD9D517B0>, <__main__.Alimento object at 0x000001FAD9D6F340>, <__main__.Libro object at 0x000001FAD9D529B0>]\n"
     ]
    }
   ],
   "source": [
    "#Podemos crear una lista de objetos de la clase \n",
    "productos = [adorno, alimento]\n",
    "\n",
    "#Podemos agregar objetos  a la lista previamente definida  \n",
    "productos.append(libro)\n",
    "\n",
    "print(productos)\n",
    "      "
   ]
  },
  {
   "cell_type": "code",
   "execution_count": 7,
   "id": "d38c353f",
   "metadata": {},
   "outputs": [
    {
     "name": "stdout",
     "output_type": "stream",
     "text": [
      "REFERENCIA\t 2034\n",
      "NOMBRE\t\t Vaso adornado\n",
      "PVP\t\t 15\n",
      "DESCRIPCIÓN\t Vaso de porcelana\n",
      " \n",
      "\n",
      "REFERENCIA\t 2035\n",
      "NOMBRE\t\t Botella de Aceite de Oliva\n",
      "PVP\t\t 5\n",
      "DESCRIPCIÓN\t 250 ML\n",
      "PRODUCTOR\t\t La Aceitera\n",
      "DISTRIBUIDOR\t\t Distribuciones SA\n",
      " \n",
      "\n",
      "REFERENCIA\t 2036\n",
      "NOMBRE\t\t Cocina Mediterránea\n",
      "PVP\t\t 9\n",
      "DESCRIPCIÓN\t Recetas sanas y buenas\n",
      "ISBN\t\t 0-123456-78-9\n",
      "AUTOR\t\t Doña Juana\n",
      " \n",
      "\n"
     ]
    }
   ],
   "source": [
    "#Podemos mostras lo que contiene mi lista de objetos de la clase  adorno, alimento y libro   \n",
    "for producto in productos:\n",
    "    print(producto, \"\\n\")\n",
    "    "
   ]
  },
  {
   "cell_type": "code",
   "execution_count": 9,
   "id": "aebf1df4",
   "metadata": {},
   "outputs": [
    {
     "name": "stdout",
     "output_type": "stream",
     "text": [
      "2034 Vaso adornado\n",
      "2035 Botella de Aceite de Oliva La Aceitera\n",
      "2036 Cocina Mediterránea 0-123456-78-9\n"
     ]
    }
   ],
   "source": [
    "#Por suerte podemos hacer una comprobación con la función isinstance() \n",
    "#para determinar si una instancia es de una determinado clase y así mostrar unos atributos u otros:\n",
    "for producto in productos:\n",
    "    #Aqui comparamos de que clase pertenece cada objeto de mi lista productos\n",
    "    if( isinstance(producto, Adorno) ):  \n",
    "        #aqui mostramos los valores del objeto Adorno\n",
    "        print(producto.referencia, producto.nombre)\n",
    "    \n",
    "    elif( isinstance(producto, Alimento) ):\n",
    "        #aqui mostramos los valores del objeto Libro\n",
    "        print(producto.referencia, producto.nombre, producto.productor)\n",
    "    \n",
    "    elif( isinstance(producto, Libro) ):\n",
    "        #aqui mostramos los valores del objeto libro\n",
    "        print(producto.referencia, producto.nombre, producto.isbn)   \n"
   ]
  },
  {
   "cell_type": "code",
   "execution_count": 21,
   "id": "67a16544",
   "metadata": {},
   "outputs": [
    {
     "name": "stdout",
     "output_type": "stream",
     "text": [
      "REFERENCIA\t 2035\n",
      "NOMBRE\t\t Botella de Aceite de Oliva\n",
      "PVP\t\t 5\n",
      "DESCRIPCIÓN\t 250 ML\n",
      "PRODUCTOR\t\t La Aceitera\n",
      "DISTRIBUIDOR\t\t Distribuciones SA\n",
      " \n",
      "\n",
      "REFERENCIA\t 2035\n",
      "NOMBRE\t\t Botella de Aceite de Oliva\n",
      "PVP\t\t 4.5\n",
      "DESCRIPCIÓN\t 250 ML\n",
      "PRODUCTOR\t\t La Aceitera\n",
      "DISTRIBUIDOR\t\t Distribuciones SA\n",
      "\n"
     ]
    }
   ],
   "source": [
    "print(alimento, \"\\n\")\n",
    "rebajar_producto(alimento, 10)\n",
    "print(alimento)"
   ]
  }
 ],
 "metadata": {
  "kernelspec": {
   "display_name": "Python 3 (ipykernel)",
   "language": "python",
   "name": "python3"
  },
  "language_info": {
   "codemirror_mode": {
    "name": "ipython",
    "version": 3
   },
   "file_extension": ".py",
   "mimetype": "text/x-python",
   "name": "python",
   "nbconvert_exporter": "python",
   "pygments_lexer": "ipython3",
   "version": "3.10.8"
  }
 },
 "nbformat": 4,
 "nbformat_minor": 5
}
