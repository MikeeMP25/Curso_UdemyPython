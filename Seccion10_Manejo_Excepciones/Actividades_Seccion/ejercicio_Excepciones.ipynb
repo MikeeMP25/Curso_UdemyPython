{
 "cells": [
  {
   "cell_type": "code",
   "execution_count": 1,
   "id": "f650d44b",
   "metadata": {},
   "outputs": [
    {
     "name": "stdout",
     "output_type": "stream",
     "text": [
      "No se puede dividir entre cero\n"
     ]
    }
   ],
   "source": [
    "#Excepciones\n",
    "#Completa el ejercicio\n",
    "def dividir(a,b):\n",
    "    try:#captura el error\n",
    "        #if b == 0:\n",
    "            #mensaje=\"No se puede dividir entre cero\"\n",
    "            return a/b\n",
    "    except:#define el error ocurrido \n",
    "        print(\"No se puede dividir entre cero\") #print(mensaje)\n",
    "    #else:\n",
    "        #return a/b\n",
    "        \n",
    "dividir(7,0)\n"
   ]
  }
 ],
 "metadata": {
  "kernelspec": {
   "display_name": "Python 3 (ipykernel)",
   "language": "python",
   "name": "python3"
  },
  "language_info": {
   "codemirror_mode": {
    "name": "ipython",
    "version": 3
   },
   "file_extension": ".py",
   "mimetype": "text/x-python",
   "name": "python",
   "nbconvert_exporter": "python",
   "pygments_lexer": "ipython3",
   "version": "3.10.8"
  }
 },
 "nbformat": 4,
 "nbformat_minor": 5
}
