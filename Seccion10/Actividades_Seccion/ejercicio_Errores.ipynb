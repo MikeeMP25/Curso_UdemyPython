{
 "cells": [
  {
   "cell_type": "code",
   "execution_count": 9,
   "id": "f9576dd6",
   "metadata": {},
   "outputs": [
    {
     "ename": "TypeError",
     "evalue": "dividir() got an unexpected keyword argument 'x'",
     "output_type": "error",
     "traceback": [
      "\u001b[0;31m---------------------------------------------------------------------------\u001b[0m",
      "\u001b[0;31mTypeError\u001b[0m                                 Traceback (most recent call last)",
      "Cell \u001b[0;32mIn [9], line 12\u001b[0m\n\u001b[1;32m      8\u001b[0m     \u001b[38;5;28;01mreturn\u001b[39;00m a\u001b[38;5;241m/\u001b[39mb\n\u001b[1;32m     10\u001b[0m \u001b[38;5;66;03m#a=input(\"ingresa un valor\")\u001b[39;00m\n\u001b[1;32m     11\u001b[0m \u001b[38;5;66;03m#b=input(\"ingresa otro numero\")\u001b[39;00m\n\u001b[0;32m---> 12\u001b[0m \u001b[38;5;28mprint\u001b[39m(\u001b[43mdividir\u001b[49m\u001b[43m(\u001b[49m\u001b[43mx\u001b[49m\u001b[38;5;241;43m=\u001b[39;49m\u001b[38;5;241;43m0\u001b[39;49m\u001b[43m,\u001b[49m\u001b[43mb\u001b[49m\u001b[38;5;241;43m=\u001b[39;49m\u001b[38;5;241;43m10\u001b[39;49m\u001b[43m)\u001b[49m)\n",
      "\u001b[0;31mTypeError\u001b[0m: dividir() got an unexpected keyword argument 'x'"
     ]
    }
   ],
   "source": [
    "#Ejercicio de codificacion 21: Errores\n",
    "#completa el ejercicio \n",
    "\n",
    "\n",
    "def dividir(a,b):\n",
    "    if b == 0 :\n",
    "        return None\n",
    "    return a/b\n",
    "\n",
    "#a=input(\"ingresa un valor\")\n",
    "#b=input(\"ingresa otro numero\")\n",
    "\n",
    "print(dividir(x=0,b=10))\n",
    "#para pasar argumentos directos debe llamarse igual a la variable que \n",
    "#recibe en los parametros  "
   ]
  },
  {
   "cell_type": "code",
   "execution_count": 10,
   "id": "1ebb2493",
   "metadata": {},
   "outputs": [
    {
     "name": "stdout",
     "output_type": "stream",
     "text": [
      "None\n"
     ]
    }
   ],
   "source": [
    "#Ejercicio Completado\n",
    "#valor indeterminado se refiere a que no puede aceptar el denominador en 0\n",
    "def dividir(a,b):\n",
    "    if b == 0 :\n",
    "        return None\n",
    "    return a/b\n",
    "\n",
    "print(dividir(b=0,a=100))"
   ]
  },
  {
   "cell_type": "code",
   "execution_count": null,
   "id": "c3a322f3",
   "metadata": {},
   "outputs": [],
   "source": []
  }
 ],
 "metadata": {
  "kernelspec": {
   "display_name": "Python 3 (ipykernel)",
   "language": "python",
   "name": "python3"
  },
  "language_info": {
   "codemirror_mode": {
    "name": "ipython",
    "version": 3
   },
   "file_extension": ".py",
   "mimetype": "text/x-python",
   "name": "python",
   "nbconvert_exporter": "python",
   "pygments_lexer": "ipython3",
   "version": "3.10.8"
  }
 },
 "nbformat": 4,
 "nbformat_minor": 5
}
