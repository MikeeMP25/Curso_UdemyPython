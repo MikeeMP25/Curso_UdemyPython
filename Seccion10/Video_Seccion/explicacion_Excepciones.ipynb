{
 "cells": [
  {
   "cell_type": "code",
   "execution_count": 1,
   "id": "fc24cd00",
   "metadata": {},
   "outputs": [
    {
     "name": "stdout",
     "output_type": "stream",
     "text": [
      "introduce un número: aaa\n"
     ]
    },
    {
     "ename": "ValueError",
     "evalue": "could not convert string to float: 'aaa'",
     "output_type": "error",
     "traceback": [
      "\u001b[0;31m---------------------------------------------------------------------------\u001b[0m",
      "\u001b[0;31mValueError\u001b[0m                                Traceback (most recent call last)",
      "Cell \u001b[0;32mIn [1], line 2\u001b[0m\n\u001b[1;32m      1\u001b[0m \u001b[38;5;66;03m#Errores\u001b[39;00m\n\u001b[0;32m----> 2\u001b[0m n\u001b[38;5;241m=\u001b[39m\u001b[38;5;28;43mfloat\u001b[39;49m\u001b[43m(\u001b[49m\u001b[38;5;28;43minput\u001b[39;49m\u001b[43m(\u001b[49m\u001b[38;5;124;43m\"\u001b[39;49m\u001b[38;5;124;43mintroduce un número: \u001b[39;49m\u001b[38;5;124;43m\"\u001b[39;49m\u001b[43m \u001b[49m\u001b[43m)\u001b[49m\u001b[43m)\u001b[49m\n\u001b[1;32m      3\u001b[0m m\u001b[38;5;241m=\u001b[39m\u001b[38;5;241m4\u001b[39m\n\u001b[1;32m      4\u001b[0m \u001b[38;5;66;03m#Realizamos una operacion con el metodo de .format()\u001b[39;00m\n",
      "\u001b[0;31mValueError\u001b[0m: could not convert string to float: 'aaa'"
     ]
    }
   ],
   "source": [
    "#Errores\n",
    "n=float(input(\"introduce un número: \" ))\n",
    "m=4\n",
    "#Realizamos una operacion con el metodo de .format()\n",
    "print(\"{}/{}={}\".format(n,m,n/m))"
   ]
  },
  {
   "cell_type": "code",
   "execution_count": 2,
   "id": "684e8d53",
   "metadata": {},
   "outputs": [
    {
     "name": "stdout",
     "output_type": "stream",
     "text": [
      "Introduce un número entero: a\n",
      "Ha ocurrido un error, introduce bien el número entero\n",
      "Introduce un número entero: jesus \n",
      "Ha ocurrido un error, introduce bien el número entero\n",
      "Introduce un número entero: 20.1\n",
      "Ha ocurrido un error, introduce bien el número entero\n",
      "Introduce un número entero: 20\n",
      "20 4\n",
      "20/4=5.0\n"
     ]
    }
   ],
   "source": [
    "#Utilizamos un while para repetir la sentencia hasta que se cumpla la sentencia \n",
    "#break= para tronar el bucle salida\n",
    "\n",
    "\n",
    "while(True):\n",
    "    #Controlador de excepciones con try y except\n",
    "    try:\n",
    "        n=int(input(\"Introduce un número entero: \"))\n",
    "        m=4\n",
    "        print(n,m)\n",
    "        #print(f\"{a}/{b}={c}\".format(a=n,b=m,c=n/m))\n",
    "        #No puedes  ser 0 en el determinado en una division 0/4 genera error \n",
    "        print(\"{}/{}={}\".format(n,m,n/m))\n",
    "        break\n",
    "    except:\n",
    "        print(\"Ha ocurrido un error, introduce bien el número entero\")\n",
    "    "
   ]
  },
  {
   "cell_type": "code",
   "execution_count": null,
   "id": "e7a47aa9",
   "metadata": {},
   "outputs": [
    {
     "name": "stdout",
     "output_type": "stream",
     "text": [
      "Introduce un número entero: ñ\n",
      "Ha ocurrido un error, introduce bien el número entero\n",
      "Fin de la iteración\n"
     ]
    }
   ],
   "source": [
    "#Controlador de excepciones con try y except\n",
    "\n",
    "while(True): # bucle \n",
    "    #Cuatro bloques de excepcion\n",
    "    #El try atrapacualquier error \n",
    "    try:\n",
    "        n=int(input(\"Introduce un número entero: \"))\n",
    "        m=4\n",
    "        print(n,m)\n",
    "        #print(f\"{a}/{b}={c}\".format(a=n,b=m,c=n/m))\n",
    "        print(\"{}/{}={}\".format(n,m,n/m))\n",
    "        \n",
    "    except: #definicion el codigo expecional \n",
    "        print(\"Ha ocurrido un error, introduce bien el número entero\")\n",
    "    else: #Si todo esta bien en el try se ejecutara esto  \n",
    "        print(\"Todo ha funcionado correctamente\")\n",
    "        break #Importante romper la iteracion si todo ha salido bien\n",
    "    finally: #Se ejecutara al final haya o no un error de la iteracion \n",
    "        print(\"Fin de la iteración\")\n",
    "    "
   ]
  }
 ],
 "metadata": {
  "kernelspec": {
   "display_name": "Python 3 (ipykernel)",
   "language": "python",
   "name": "python3"
  },
  "language_info": {
   "codemirror_mode": {
    "name": "ipython",
    "version": 3
   },
   "file_extension": ".py",
   "mimetype": "text/x-python",
   "name": "python",
   "nbconvert_exporter": "python",
   "pygments_lexer": "ipython3",
   "version": "3.10.8"
  }
 },
 "nbformat": 4,
 "nbformat_minor": 5
}
