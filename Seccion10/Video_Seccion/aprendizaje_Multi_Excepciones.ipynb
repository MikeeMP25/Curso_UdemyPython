{
 "cells": [
  {
   "cell_type": "code",
   "execution_count": 1,
   "id": "8a08f241",
   "metadata": {},
   "outputs": [
    {
     "name": "stdout",
     "output_type": "stream",
     "text": [
      "Introduce un numero: a\n",
      "TypeError\n"
     ]
    }
   ],
   "source": [
    "#Aqui podemos mostrar el identificador del error \n",
    "try:\n",
    "    n=input(\"Introduce un numero: \")\n",
    "    5/n\n",
    "except Exception as e:\n",
    "    #imprime el tipo de error (identificador) \n",
    "    print(type(e).__name__)"
   ]
  },
  {
   "cell_type": "code",
   "execution_count": 5,
   "id": "213e2ec6",
   "metadata": {},
   "outputs": [
    {
     "name": "stdout",
     "output_type": "stream",
     "text": [
      "Introduce un numero: 0\n",
      "No se puede dividir por  0 , prueba otro numero entero...\n"
     ]
    }
   ],
   "source": [
    "try:\n",
    "    n=int(input(\"Introduce un numero: \"))\n",
    "    print(5/n)\n",
    "except TypeError:#tipo de error \n",
    "    print(\"No se puede dividir el numero por una cadena: \",n)\n",
    "except ValueError:#tipo de error \n",
    "    print(\"Debes introducir una cadena que sea un número entero No: \",n)\n",
    "except ZeroDivisionError:\n",
    "    print(\"No se puede dividir por \",n,\", prueba otro numero entero...\")\n",
    "except Exception as e:# Excepciones genericas es lo ultimo que puedes hacer \n",
    "    #imprime el tipo de error (identificador) \n",
    "    print(type(e).__name__)\n",
    "    "
   ]
  },
  {
   "cell_type": "code",
   "execution_count": null,
   "id": "b0e13e1c",
   "metadata": {},
   "outputs": [],
   "source": [
    "#Se puede definir multiples expciones con un identificador\n",
    "\n",
    "#Excepciones múltiples"
   ]
  }
 ],
 "metadata": {
  "kernelspec": {
   "display_name": "Python 3 (ipykernel)",
   "language": "python",
   "name": "python3"
  },
  "language_info": {
   "codemirror_mode": {
    "name": "ipython",
    "version": 3
   },
   "file_extension": ".py",
   "mimetype": "text/x-python",
   "name": "python",
   "nbconvert_exporter": "python",
   "pygments_lexer": "ipython3",
   "version": "3.10.8"
  }
 },
 "nbformat": 4,
 "nbformat_minor": 5
}
