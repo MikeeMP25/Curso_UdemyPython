{
 "cells": [
  {
   "cell_type": "code",
   "execution_count": 1,
   "id": "5ee59cdc",
   "metadata": {},
   "outputs": [],
   "source": [
    "#importamos la libreria o el modulo de pickle para empezar a trabajar con ficheros.pickle\n",
    "import pickle"
   ]
  },
  {
   "cell_type": "markdown",
   "id": "5ef98bf1",
   "metadata": {},
   "source": [
    "**Nota: cambia la estructura de un fichero.txt a un fichero.pckl**\n",
    "\n",
    "fichero.txt: Solo podemos guardar cadenas de texto\n",
    "\n",
    "fichero.pckl: Podemos guardar listas, numeros, float, bool, diccionarios, clases y objetos   "
   ]
  },
  {
   "cell_type": "code",
   "execution_count": 2,
   "id": "5176a5cc",
   "metadata": {},
   "outputs": [],
   "source": [
    "fichero=open(\"lista.pckl\",\"wb\")#aqui ponemos el nombre del archivo mas su extenccion y la escritura es binaria wb"
   ]
  },
  {
   "cell_type": "code",
   "execution_count": 4,
   "id": "f4bd1f30",
   "metadata": {},
   "outputs": [],
   "source": [
    "lista=[1,2,3,4,5,6,7,8,9]\n",
    "#usamos la funcion dump para remotar la escritura en el fichero.pckl pasando la lista y el fiecho\n",
    "pickle.dump(lista,fichero) \n",
    "fichero.close()\n",
    "del(fichero)"
   ]
  },
  {
   "cell_type": "code",
   "execution_count": 6,
   "id": "5d041f07",
   "metadata": {},
   "outputs": [
    {
     "data": {
      "text/plain": [
       "[1, 2, 3, 4, 5, 6, 7, 8, 9]"
      ]
     },
     "execution_count": 6,
     "metadata": {},
     "output_type": "execute_result"
    }
   ],
   "source": [
    "fichero=open(\"lista.pckl\",\"rb\")#abrimos el fichero lista.pckl y le ponemos que sera de lectura de bits\n",
    "lista2=pickle.load(fichero)#obtenermos los datos que contiene mi fichero lista.pckl\n",
    "lista2"
   ]
  },
  {
   "cell_type": "code",
   "execution_count": 9,
   "id": "871efb69",
   "metadata": {},
   "outputs": [],
   "source": [
    "del(lista2)"
   ]
  },
  {
   "cell_type": "code",
   "execution_count": 11,
   "id": "fae56886",
   "metadata": {},
   "outputs": [],
   "source": [
    "fichero.seek(0)#recuerda posicionar el puntero al inicio  \n",
    "lista2=pickle.load(fichero)"
   ]
  },
  {
   "cell_type": "code",
   "execution_count": 12,
   "id": "c821b6d2",
   "metadata": {},
   "outputs": [
    {
     "name": "stdout",
     "output_type": "stream",
     "text": [
      "[1, 2, 3, 4, 5, 6, 7, 8, 9]\n"
     ]
    }
   ],
   "source": [
    "#en efecto trae la lista desde lista.pckl \n",
    "print(lista2)"
   ]
  },
  {
   "cell_type": "code",
   "execution_count": 13,
   "id": "82b430ed",
   "metadata": {},
   "outputs": [],
   "source": [
    "fichero.close()\n",
    "del(fichero)#aplicamos lo mismo que en el fichero.txt tenemos que abrir y cerrar el fichero para notarlos cambios \n",
    "#y no marque error  "
   ]
  },
  {
   "cell_type": "code",
   "execution_count": 17,
   "id": "b931539c",
   "metadata": {},
   "outputs": [],
   "source": [
    "#ahora creamos una clase con funciones y todo eso lo guardamos en fichero.pckl\n",
    "class Pokemon:\n",
    "    def __init__(self,nombre):\n",
    "        self.p_nombre=nombre\n",
    "    \n",
    "    def __str__(self):\n",
    "        return self.p_nombre\n",
    "\n"
   ]
  },
  {
   "cell_type": "code",
   "execution_count": 18,
   "id": "8887690e",
   "metadata": {},
   "outputs": [
    {
     "data": {
      "text/plain": [
       "[<__main__.Pokemon at 0x10cd04880>,\n",
       " <__main__.Pokemon at 0x10d2d2aa0>,\n",
       " <__main__.Pokemon at 0x10d2d2110>,\n",
       " <__main__.Pokemon at 0x10d2d2320>]"
      ]
     },
     "execution_count": 18,
     "metadata": {},
     "output_type": "execute_result"
    }
   ],
   "source": [
    "nombres=[\"lugia\",\"pikachu\",\"Snorlas\",\"Totoday\"]\n",
    "pokedex=[]\n",
    "\n",
    "for p in nombres:\n",
    "    pokebola=Pokemon(p)\n",
    "    pokedex.append(pokebola)\n",
    "pokedex#una lista de objetos \n"
   ]
  },
  {
   "cell_type": "code",
   "execution_count": 20,
   "id": "b9064aef",
   "metadata": {},
   "outputs": [],
   "source": [
    "fichero=open(\"pokemon.pckl\",\"wb\")#abrimos el fichero"
   ]
  },
  {
   "cell_type": "code",
   "execution_count": 21,
   "id": "36c70d06",
   "metadata": {},
   "outputs": [],
   "source": [
    "pickle.dump(pokedex,fichero)#esto es para guardar en el fichero"
   ]
  },
  {
   "cell_type": "code",
   "execution_count": 22,
   "id": "38c67322",
   "metadata": {},
   "outputs": [],
   "source": [
    "fichero.close()\n",
    "del(fichero)"
   ]
  },
  {
   "cell_type": "code",
   "execution_count": 23,
   "id": "91ea9254",
   "metadata": {},
   "outputs": [
    {
     "name": "stdout",
     "output_type": "stream",
     "text": [
      "lugia\n",
      "pikachu\n",
      "Snorlas\n",
      "Totoday\n"
     ]
    }
   ],
   "source": [
    "fichero=open(\"pokemon.pckl\",\"rb\")#esto es para leer los datos de un fichero.pckl \n",
    "nombres_pokemon=pickle.load(fichero)#para cargar los datos en una lista\n",
    "fichero.close()\n",
    "for name in nombres_pokemon:\n",
    "    print(name)"
   ]
  }
 ],
 "metadata": {
  "kernelspec": {
   "display_name": "Python 3 (ipykernel)",
   "language": "python",
   "name": "python3"
  },
  "language_info": {
   "codemirror_mode": {
    "name": "ipython",
    "version": 3
   },
   "file_extension": ".py",
   "mimetype": "text/x-python",
   "name": "python",
   "nbconvert_exporter": "python",
   "pygments_lexer": "ipython3",
   "version": "3.10.8"
  }
 },
 "nbformat": 4,
 "nbformat_minor": 5
}
