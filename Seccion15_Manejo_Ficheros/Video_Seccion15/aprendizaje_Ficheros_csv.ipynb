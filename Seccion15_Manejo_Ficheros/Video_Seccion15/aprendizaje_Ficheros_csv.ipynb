{
 "cells": [
  {
   "cell_type": "markdown",
   "id": "1c817231",
   "metadata": {},
   "source": [
    "## Ficheros CSV\n",
    "<p>Valores separados por comas(comma-separated values) </p><br>\n",
    "Es muy parecido a las tablas de excel "
   ]
  },
  {
   "cell_type": "code",
   "execution_count": 1,
   "id": "91d25c88",
   "metadata": {},
   "outputs": [],
   "source": [
    "#Para usr las funciones de ficheros CSV debemos importar\n",
    "import csv"
   ]
  },
  {
   "cell_type": "code",
   "execution_count": 15,
   "id": "6f42f928",
   "metadata": {},
   "outputs": [],
   "source": [
    "#creamos una estrutura de datos en forma de listas y tuplas separados por coma ,\n",
    "contactos=[\n",
    "    (\"Manuel\",\"Desarrollador Web\",\"manuel@ejemplo.com\"),\n",
    "    (\"Lorena\",\"Gestora de proyectos\",\"lorena@ejemplo.com\"),\n",
    "    (\"Javier\",\"Analista de datos\",\"javier@ejemplo.com\"),\n",
    "    (\"Maria\",\"Empresa en Python\",\"maria@ejemplo.com\")\n",
    "]"
   ]
  },
  {
   "cell_type": "code",
   "execution_count": 16,
   "id": "dfd4f18e",
   "metadata": {},
   "outputs": [
    {
     "data": {
      "text/plain": [
       "[('Manuel', 'Desarrollador Web', 'manuel@ejemplo.com'),\n",
       " ('Lorena', 'Gestora de proyectos', 'lorena@ejemplo.com'),\n",
       " ('Javier', 'Analista de datos', 'javier@ejemplo.com'),\n",
       " ('Maria', 'Empresa en Python', 'maria@ejemplo.com')]"
      ]
     },
     "execution_count": 16,
     "metadata": {},
     "output_type": "execute_result"
    }
   ],
   "source": [
    "contactos"
   ]
  },
  {
   "cell_type": "code",
   "execution_count": 5,
   "id": "2af95333",
   "metadata": {},
   "outputs": [],
   "source": [
    "#Esto es para escribir en el fichero.csv\n",
    "#perimite abrir un fichero pero dentro de un bloque de codigo\n",
    "#aqui abrimos el fichero contactos.csv,\"w\" en modo escribir, newline= que linea va tomar \n",
    "with open(\"contactos.csv\",\"w\",newline=\"\\n\") as cavfile:\n",
    "    write=csv.writer(cavfile,delimiter=\",\")#como va a colocar los valores de la lista mediante la separacion por ,\n",
    "    for contacto in contactos:#recorremos la lista de contactos\n",
    "        write.writerow(contacto)#guardamos una por una la linea de contacto."
   ]
  },
  {
   "cell_type": "code",
   "execution_count": 6,
   "id": "9937faae",
   "metadata": {},
   "outputs": [
    {
     "name": "stdout",
     "output_type": "stream",
     "text": [
      "Manuel Desarrollador Web manuel@ejemplo.com\n",
      "Lorena Gestora de proyectos lorena@ejemplo.com\n",
      "Javier Analista de datos javier@ejemplo.com\n",
      "Maria Empresa en Python maria@ejemplo.com\n"
     ]
    }
   ],
   "source": [
    "#Para leer un fichero.csv\n",
    "#abrimos el fichero dentro de un bloque with\n",
    "with open(\"contactos.csv\",newline=\"\\n\") as cavfile:#nota para lectura no es necesario poner el \"r\"\n",
    "    lectura=csv.reader(cavfile,delimiter=\",\")#cargamos el objeto lectura co los datos del fichero.csv\n",
    "    for nombre,empleo,email in lectura:#recorremos los datos \n",
    "        print(nombre,empleo,email)#como se puede observa ya lo tiene el forma de tabla seccionada "
   ]
  },
  {
   "cell_type": "code",
   "execution_count": 18,
   "id": "44659f97",
   "metadata": {},
   "outputs": [],
   "source": [
    "#AQUI USAMOS DICCINARIOS PARA CARGAR EL FICHERO.CSV\n",
    "#aqui podemos crear nuestro formato en fichero.csv en forma de tabla\n",
    "with open(\"contactos.csv\",\"w\",newline=\"\\n\") as csvfile:\n",
    "    campos=(\"nombre\",\"empleo\",\"email\")#son las cabeceras de las tablas\n",
    "    escribir=csv.DictWriter(csvfile, fieldnames=campos)#cargamos al objeto con los siguientes datos en forma de diccionario\n",
    "    escribir.writeheader()#le dicimos que escriba las cadeceras en el fichero.csv\n",
    "    for nombre,empleo,email in contactos:\n",
    "        escribir.writerow({\n",
    "            \"nombre\" : nombre,\"empleo\": empleo,\"email\": email\n",
    "        })\n",
    "    "
   ]
  },
  {
   "cell_type": "code",
   "execution_count": 19,
   "id": "9146fe66",
   "metadata": {},
   "outputs": [
    {
     "name": "stdout",
     "output_type": "stream",
     "text": [
      "Manuel Desarrollador Web manuel@ejemplo.com\n",
      "Lorena Gestora de proyectos lorena@ejemplo.com\n",
      "Javier Analista de datos javier@ejemplo.com\n",
      "Maria Empresa en Python maria@ejemplo.com\n"
     ]
    }
   ],
   "source": [
    "#PARA LEER UN FICHERO EN FORMA DE DICCIONARIO \n",
    "\n",
    "with open(\"contactos.csv\",newline=\"\\n\") as csvfile:\n",
    "    leer=csv.DictReader(csvfile)#aqui no necesitas especificar la lectura en automatico lo hace\n",
    "    for contacto in leer:\n",
    "        print(contacto[\"nombre\"],contacto[\"empleo\"],contacto[\"email\"])\n",
    "        #recuerda para acceder a los valores del diccionario es con el nombre el elemento(clave) \n",
    "        "
   ]
  },
  {
   "cell_type": "code",
   "execution_count": null,
   "id": "ed60bb81",
   "metadata": {},
   "outputs": [],
   "source": [
    "#nota por la extension .csv nos permite visualizarlos en excel\n"
   ]
  }
 ],
 "metadata": {
  "kernelspec": {
   "display_name": "Python 3 (ipykernel)",
   "language": "python",
   "name": "python3"
  },
  "language_info": {
   "codemirror_mode": {
    "name": "ipython",
    "version": 3
   },
   "file_extension": ".py",
   "mimetype": "text/x-python",
   "name": "python",
   "nbconvert_exporter": "python",
   "pygments_lexer": "ipython3",
   "version": "3.10.8"
  }
 },
 "nbformat": 4,
 "nbformat_minor": 5
}
