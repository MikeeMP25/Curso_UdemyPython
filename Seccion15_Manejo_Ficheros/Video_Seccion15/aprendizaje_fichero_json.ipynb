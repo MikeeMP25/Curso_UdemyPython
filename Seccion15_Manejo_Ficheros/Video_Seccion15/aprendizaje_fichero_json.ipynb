{
 "cells": [
  {
   "cell_type": "markdown",
   "id": "edef7eef",
   "metadata": {},
   "source": [
    "<h1>Ficheros en JSON </h1> \n",
    "\n",
    "<p>Notacion de objeto de javaScript(javascript object notation)</p><br>\n"
   ]
  },
  {
   "cell_type": "code",
   "execution_count": 12,
   "id": "0319b2a0",
   "metadata": {},
   "outputs": [],
   "source": [
    "import json\n",
    "\n",
    "contactos=[\n",
    "    (\"Manuel\",\"Desarrollador web\",\"manuel@ejemplo.com\"),\n",
    "    (\"Lorena\",\"Gestora de proyectos\",\"lorena@ejemplo.com\"),\n",
    "    (\"Javier\",\"Analista de datos\",\"javier@ejemplo.com\"),\n",
    "    (\"Maria\",\"Experta en python\",\"marta@ejemplo.com\")\n",
    "]\n",
    "\n",
    "datos=[]\n",
    "datos_2={ \"contacto\":[]}\n",
    "\n",
    "for nombre,empleo, email in contactos:\n",
    "    #datos.append({\"nombre\":nombre,\"empleo\":empleo,\"email\":email})\n",
    "    #Es como guardar un objeto con varias listas\n",
    "    datos_2[\"contacto\"].append({\"nombre\":nombre,\"empleo\":empleo,\"email\":email})\n",
    "    #nota {} es para diccionario"
   ]
  },
  {
   "cell_type": "code",
   "execution_count": 13,
   "id": "65548dc1",
   "metadata": {},
   "outputs": [
    {
     "data": {
      "text/plain": [
       "{'contacto': [{'nombre': 'Manuel',\n",
       "   'empleo': 'Desarrollador web',\n",
       "   'email': 'manuel@ejemplo.com'},\n",
       "  {'nombre': 'Lorena',\n",
       "   'empleo': 'Gestora de proyectos',\n",
       "   'email': 'lorena@ejemplo.com'},\n",
       "  {'nombre': 'Javier',\n",
       "   'empleo': 'Analista de datos',\n",
       "   'email': 'javier@ejemplo.com'},\n",
       "  {'nombre': 'Maria',\n",
       "   'empleo': 'Experta en python',\n",
       "   'email': 'marta@ejemplo.com'}]}"
      ]
     },
     "execution_count": 13,
     "metadata": {},
     "output_type": "execute_result"
    }
   ],
   "source": [
    "datos_2"
   ]
  },
  {
   "cell_type": "code",
   "execution_count": 4,
   "id": "63468db3",
   "metadata": {},
   "outputs": [
    {
     "data": {
      "text/plain": [
       "[{'nombre': 'Manuel',\n",
       "  'empleo': 'Desarrollador web',\n",
       "  'email': 'manuel@ejemplo.com'},\n",
       " {'nombre': 'Lorena',\n",
       "  'empleo': 'Gestora de proyectos',\n",
       "  'email': 'lorena@ejemplo.com'},\n",
       " {'nombre': 'Javier',\n",
       "  'empleo': 'Analista de datos',\n",
       "  'email': 'javier@ejemplo.com'},\n",
       " {'nombre': 'Maria',\n",
       "  'empleo': 'Experta en python',\n",
       "  'email': 'marta@ejemplo.com'}]"
      ]
     },
     "execution_count": 4,
     "metadata": {},
     "output_type": "execute_result"
    }
   ],
   "source": [
    "datos"
   ]
  },
  {
   "cell_type": "code",
   "execution_count": 5,
   "id": "bc2b0a45",
   "metadata": {},
   "outputs": [],
   "source": [
    "#para escribir en un fichero.json\n",
    "with open(\"contacto.json\",\"w\") as jsonfile:\n",
    "    json.dump(datos,jsonfile)#Guardamos todo los datos en el fichero.json y jsonfile"
   ]
  },
  {
   "cell_type": "code",
   "execution_count": 14,
   "id": "9abd78af",
   "metadata": {},
   "outputs": [],
   "source": [
    "\n",
    "with open(\"contacto.json\",\"w\") as jsonfile:\n",
    "    json.dump(datos_2,jsonfile)#Guardamos todo los datos en el fichero.json y jsonfile"
   ]
  },
  {
   "cell_type": "code",
   "execution_count": 15,
   "id": "30e2ac80",
   "metadata": {},
   "outputs": [],
   "source": [
    "datos_2=None"
   ]
  },
  {
   "cell_type": "code",
   "execution_count": 10,
   "id": "369adb1d",
   "metadata": {},
   "outputs": [
    {
     "name": "stdout",
     "output_type": "stream",
     "text": [
      "Manuel Desarrollador web manuel@ejemplo.com\n",
      "Lorena Gestora de proyectos lorena@ejemplo.com\n",
      "Javier Analista de datos javier@ejemplo.com\n",
      "Maria Experta en python marta@ejemplo.com\n",
      "El numero de listas en mi diccionario son: 4\n"
     ]
    }
   ],
   "source": [
    "#para leer un fichero.json\n",
    "with open(\"contacto.json\")as jsonfile:#nota no necesitas \"r\" para leer el fichero lo hace en automatico\n",
    "    datos=json.load(jsonfile)\n",
    "    for contacto  in datos:\n",
    "        print(contacto[\"nombre\"],contacto[\"empleo\"],contacto[\"email\"])\n",
    "    print(\"El numero de listas en mi diccionario son: {}\".format(len(datos)))"
   ]
  },
  {
   "cell_type": "code",
   "execution_count": 17,
   "id": "85ae288b",
   "metadata": {},
   "outputs": [
    {
     "name": "stdout",
     "output_type": "stream",
     "text": [
      "Manuel Desarrollador web manuel@ejemplo.com\n",
      "Lorena Gestora de proyectos lorena@ejemplo.com\n",
      "Javier Analista de datos javier@ejemplo.com\n",
      "Maria Experta en python marta@ejemplo.com\n",
      "El numero de objetos en mi json son: 1\n",
      "El numero de listas que tiene mi objeto: 4\n"
     ]
    }
   ],
   "source": [
    "#para leer un fichero.json\n",
    "with open(\"contacto.json\")as jsonfile:#nota no necesitas \"r\" para leer el fichero lo hace en automatico\n",
    "    datos=json.load(jsonfile)\n",
    "    for contacto  in datos[\"contacto\"]:\n",
    "        print(contacto[\"nombre\"],contacto[\"empleo\"],contacto[\"email\"])\n",
    "    print(\"El numero de objetos en mi json son: {}\".format(len(datos)))\n",
    "    print(\"El numero de listas que tiene mi objeto: {}\".format(len(datos[\"contacto\"])))"
   ]
  }
 ],
 "metadata": {
  "kernelspec": {
   "display_name": "Python 3 (ipykernel)",
   "language": "python",
   "name": "python3"
  },
  "language_info": {
   "codemirror_mode": {
    "name": "ipython",
    "version": 3
   },
   "file_extension": ".py",
   "mimetype": "text/x-python",
   "name": "python",
   "nbconvert_exporter": "python",
   "pygments_lexer": "ipython3",
   "version": "3.10.8"
  }
 },
 "nbformat": 4,
 "nbformat_minor": 5
}
