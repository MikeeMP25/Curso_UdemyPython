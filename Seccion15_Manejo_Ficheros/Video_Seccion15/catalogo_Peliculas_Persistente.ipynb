{
 "cells": [
  {
   "cell_type": "code",
   "execution_count": 1,
   "id": "3aa843d3",
   "metadata": {},
   "outputs": [],
   "source": [
    "from io import open \n",
    "\n",
    "import pickle\n",
    "\n",
    "#creamos la clase\n",
    "class Pelicula:\n",
    "    #Constructor de clase\n",
    "    def __init__(self,titulo,duracion,lanzamiento):\n",
    "        self.titulo=titulo\n",
    "        self.duracion=duracion\n",
    "        self.lanzamiento=lanzamiento\n",
    "        print('Se ha creado la pelicula: ',self.titulo)\n",
    "    \n",
    "    def __str__(self):#es un metodo especial\n",
    "        return '{}({})'.format(self.titulo,self.lanzamiento)\n",
    "\n",
    "\n",
    "#La clase catalogo se encargara de utilizar el fichero.pckl donde estaremos guardando la informacion\n",
    "#sobre peliculas \n",
    "class Catalogo:\n",
    "    #variable\n",
    "    peliculas=[]\n",
    "    \n",
    "    #constructor de clase\n",
    "    def __init__(self):\n",
    "        #self.peliculas=peliculas\n",
    "        self.cargar()\n",
    "    \n",
    "    def agregar(self,peli):\n",
    "        self.peliculas.append(peli)\n",
    "        self.cargar()\n",
    "    \n",
    "    def mostrar(self):\n",
    "        if len(self.peliculas)==0:\n",
    "            print(\"El catalogo esta vacio\")\n",
    "            return\n",
    "        for pelicula in self.peliculas:#self hace referencia ala variable de la clase catalogo\n",
    "            print(pelicula)\n",
    "    \n",
    "    def cargar(self):#Es un identificador de la clase\n",
    "        fichero=open(\"catalogo.pckl\",\"ab+\") #Sirve para cargar el fichero de modo escritura y lectura de bits \n",
    "        fichero.seek(0)\n",
    "        \n",
    "        try:\n",
    "            self.peliculas=pickle.load(fichero)\n",
    "            print(self.peliculas)\n",
    "        except:\n",
    "            print(\"El fichero esta vacio\")\n",
    "        finally:\n",
    "            fichero.close()\n",
    "            del(fichero)\n",
    "            print(\"Se cargaron un total de peliculas {} \".format(len(self.peliculas)))\n",
    "        \n",
    "    def guardar(self):\n",
    "        fichero=open('catalogo.pckl','wb')\n",
    "        #fichero.seek(-1)\n",
    "        pickle.dump(self.peliculas,fichero)\n",
    "        fichero.close()\n",
    "        del(fichero)\n",
    "        \n",
    "        \n",
    " #Este es el destructor de la class\n",
    "    def __del__(self):\n",
    "        self.guardar()#un guardado en automatico\n",
    "        print(\"se ha guardado el fichero\") "
   ]
  },
  {
   "cell_type": "code",
   "execution_count": 2,
   "id": "d2e12908",
   "metadata": {},
   "outputs": [
    {
     "name": "stdout",
     "output_type": "stream",
     "text": [
      "Se cargaron un total de peliculas 0 \n"
     ]
    }
   ],
   "source": [
    "c=Catalogo()"
   ]
  },
  {
   "cell_type": "code",
   "execution_count": 3,
   "id": "378bf56f",
   "metadata": {},
   "outputs": [
    {
     "name": "stdout",
     "output_type": "stream",
     "text": [
      "El catalogo esta vacio\n"
     ]
    }
   ],
   "source": [
    "c.mostrar()"
   ]
  },
  {
   "cell_type": "code",
   "execution_count": 4,
   "id": "e9764649",
   "metadata": {},
   "outputs": [
    {
     "name": "stdout",
     "output_type": "stream",
     "text": [
      "Se ha creado la pelicula:  El padrino\n",
      "Se cargaron un total de peliculas 0 \n"
     ]
    }
   ],
   "source": [
    "c.agregar(Pelicula(\"El padrino\",175,1972))"
   ]
  },
  {
   "cell_type": "code",
   "execution_count": 5,
   "id": "b6d57312",
   "metadata": {},
   "outputs": [
    {
     "name": "stdout",
     "output_type": "stream",
     "text": [
      "Se ha creado la pelicula:  El padrino 2\n",
      "Se cargaron un total de peliculas 0 \n"
     ]
    }
   ],
   "source": [
    "c.agregar(Pelicula(\"El padrino 2\",205,1974))"
   ]
  },
  {
   "cell_type": "code",
   "execution_count": 6,
   "id": "e6b7c052",
   "metadata": {},
   "outputs": [
    {
     "name": "stdout",
     "output_type": "stream",
     "text": [
      "El catalogo esta vacio\n"
     ]
    }
   ],
   "source": [
    "c.mostrar()"
   ]
  },
  {
   "cell_type": "code",
   "execution_count": 7,
   "id": "75332842",
   "metadata": {},
   "outputs": [
    {
     "name": "stdout",
     "output_type": "stream",
     "text": [
      "se ha guardado el fichero\n"
     ]
    }
   ],
   "source": [
    "del(c)"
   ]
  },
  {
   "cell_type": "code",
   "execution_count": 8,
   "id": "cb755bd6",
   "metadata": {},
   "outputs": [
    {
     "name": "stdout",
     "output_type": "stream",
     "text": [
      "Se cargaron un total de peliculas 0 \n"
     ]
    }
   ],
   "source": [
    "c=Catalogo()"
   ]
  },
  {
   "cell_type": "code",
   "execution_count": null,
   "id": "2f890d32",
   "metadata": {},
   "outputs": [],
   "source": []
  }
 ],
 "metadata": {
  "kernelspec": {
   "display_name": "Python 3 (ipykernel)",
   "language": "python",
   "name": "python3"
  },
  "language_info": {
   "codemirror_mode": {
    "name": "ipython",
    "version": 3
   },
   "file_extension": ".py",
   "mimetype": "text/x-python",
   "name": "python",
   "nbconvert_exporter": "python",
   "pygments_lexer": "ipython3",
   "version": "3.10.8"
  }
 },
 "nbformat": 4,
 "nbformat_minor": 5
}
