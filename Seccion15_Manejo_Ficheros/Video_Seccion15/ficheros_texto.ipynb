{
 "cells": [
  {
   "cell_type": "code",
   "execution_count": 8,
   "id": "6580544a",
   "metadata": {},
   "outputs": [],
   "source": [
    "#Una seccion ficheros en python \n",
    "texto=\"Una linea con texto\\nOtra linea con texto\""
   ]
  },
  {
   "cell_type": "code",
   "execution_count": 13,
   "id": "0e1ecde5",
   "metadata": {},
   "outputs": [],
   "source": [
    "#Para crear una fichero debemos crear un objeto y mandar a llamar la definicion open()\n",
    "#indicamod el nombre del fichero con su extension \"nombre\".txt y le indicamos de que tipo va ser 'w','r','u'\n",
    "fichero=open(\"fichero.txt\",'w')#abre el fichero y borra todo lo que ahi y escribe de nuevo"
   ]
  },
  {
   "cell_type": "code",
   "execution_count": 14,
   "id": "1bd58962",
   "metadata": {},
   "outputs": [
    {
     "data": {
      "text/plain": [
       "40"
      ]
     },
     "execution_count": 14,
     "metadata": {},
     "output_type": "execute_result"
    }
   ],
   "source": [
    "fichero.write(texto)#podemos escribir en un fichero mediante la funcion write()\n",
    "#Nota: al terminar de escribir en el fichero lo crreramos para cargar el texto en el fichero.txt"
   ]
  },
  {
   "cell_type": "code",
   "execution_count": 15,
   "id": "cccd07a9",
   "metadata": {},
   "outputs": [],
   "source": [
    "fichero.close()#se cierra el fichero"
   ]
  },
  {
   "cell_type": "code",
   "execution_count": 16,
   "id": "8b4150a6",
   "metadata": {},
   "outputs": [],
   "source": [
    "del(fichero)#Eliminamos el fichero de la memoria"
   ]
  },
  {
   "cell_type": "code",
   "execution_count": 28,
   "id": "8cc2b978",
   "metadata": {},
   "outputs": [],
   "source": [
    "fichero=open(\"fichero.txt\",'r')#abrimos el fichero en modo lectura"
   ]
  },
  {
   "cell_type": "code",
   "execution_count": 29,
   "id": "5253145c",
   "metadata": {},
   "outputs": [],
   "source": [
    "#guardamos todo el fichero en una variable \n",
    "texto=fichero.read()"
   ]
  },
  {
   "cell_type": "code",
   "execution_count": 30,
   "id": "023ef763",
   "metadata": {},
   "outputs": [],
   "source": [
    "fichero.close()#siempre se cierrar el fichero "
   ]
  },
  {
   "cell_type": "code",
   "execution_count": 31,
   "id": "bd428df7",
   "metadata": {},
   "outputs": [
    {
     "name": "stdout",
     "output_type": "stream",
     "text": [
      "<_io.TextIOWrapper name='fichero.txt' mode='r' encoding='UTF-8'>\n",
      "Una linea con texto\n",
      "Otra linea con texto\n",
      "Otra linea mas de texto\n"
     ]
    }
   ],
   "source": [
    "#aqui mostramos todo lo que contiene nuestro objeto fichero\n",
    "print(fichero)\n",
    "\n",
    "#aqui mostramos lo que ahi en mi variable texto como recordaras contiene muestro fichero\n",
    "print(texto)"
   ]
  },
  {
   "cell_type": "code",
   "execution_count": 32,
   "id": "13e80b6f",
   "metadata": {},
   "outputs": [],
   "source": [
    "del(fichero)#siempre se elimina el fichero de la memoria(esto es por que estamos en jupyter notebook \n",
    "#desde VSC no es necesario este comando ya que al momento de cerrar el fichero.close() se borrar de la memoria )"
   ]
  },
  {
   "cell_type": "code",
   "execution_count": 26,
   "id": "4fd64871",
   "metadata": {},
   "outputs": [
    {
     "data": {
      "text/plain": [
       "'Una linea con texto\\nOtra linea con texto\\nOtra linea mas de texto'"
      ]
     },
     "execution_count": 26,
     "metadata": {},
     "output_type": "execute_result"
    }
   ],
   "source": [
    "#esto es lenguaje de python o \n",
    "texto"
   ]
  },
  {
   "cell_type": "code",
   "execution_count": 33,
   "id": "de85bdf1",
   "metadata": {},
   "outputs": [],
   "source": [
    "fichero=open('fichero.txt','r')"
   ]
  },
  {
   "cell_type": "code",
   "execution_count": 34,
   "id": "7f76169c",
   "metadata": {},
   "outputs": [],
   "source": [
    "lineas=fichero.readlines()#obtener todas las lineas del fichero (leer) y guardalas en una variable "
   ]
  },
  {
   "cell_type": "code",
   "execution_count": 35,
   "id": "4ff75414",
   "metadata": {},
   "outputs": [],
   "source": [
    "fichero.close()"
   ]
  },
  {
   "cell_type": "code",
   "execution_count": 36,
   "id": "fed9f03d",
   "metadata": {},
   "outputs": [],
   "source": [
    "del(fichero)"
   ]
  },
  {
   "cell_type": "code",
   "execution_count": 37,
   "id": "3550558a",
   "metadata": {},
   "outputs": [
    {
     "name": "stdout",
     "output_type": "stream",
     "text": [
      "['Una linea con texto\\n', 'Otra linea con texto\\n', 'Otra linea mas de texto']\n"
     ]
    }
   ],
   "source": [
    "print(lineas)#aqui observamos que lineas es una lista con las lineas de texto del fichero"
   ]
  },
  {
   "cell_type": "code",
   "execution_count": 38,
   "id": "7a79ae42",
   "metadata": {},
   "outputs": [
    {
     "name": "stdout",
     "output_type": "stream",
     "text": [
      "Una linea con texto\n",
      "\n"
     ]
    }
   ],
   "source": [
    "print(lineas[0])#aqui mostramos la primera de texto []mediamte sincling"
   ]
  },
  {
   "cell_type": "code",
   "execution_count": 39,
   "id": "2456eae4",
   "metadata": {},
   "outputs": [
    {
     "name": "stdout",
     "output_type": "stream",
     "text": [
      "Otra linea mas de texto\n"
     ]
    }
   ],
   "source": [
    "print(lineas[-1])#aqui mostramos la ultima linea de texto"
   ]
  },
  {
   "cell_type": "code",
   "execution_count": 45,
   "id": "a704bfa8",
   "metadata": {},
   "outputs": [],
   "source": [
    "#para actualizar una fichero usamos el metodo append\n",
    "fichero=open(\"fichero.txt\",'a')"
   ]
  },
  {
   "cell_type": "code",
   "execution_count": 46,
   "id": "ffae630e",
   "metadata": {},
   "outputs": [
    {
     "data": {
      "text/plain": [
       "25"
      ]
     },
     "execution_count": 46,
     "metadata": {},
     "output_type": "execute_result"
    }
   ],
   "source": [
    "#aqui no borra lo que ahi en el fichero sino que lo carga\n",
    "fichero.write('\\nCuarta linea del fichero')\n",
    "#nos permite escribir en el fichero desde el final del texto ya escrito en el   "
   ]
  },
  {
   "cell_type": "code",
   "execution_count": 47,
   "id": "3c3d4428",
   "metadata": {},
   "outputs": [],
   "source": [
    "fichero.close()\n",
    "del(fichero) #siempre se ejecuanta estos puntos para visualizar los cambios en el fichero"
   ]
  },
  {
   "cell_type": "code",
   "execution_count": 48,
   "id": "27ac1e89",
   "metadata": {},
   "outputs": [],
   "source": [
    "#para leer solo la priemra linea del fichero podemos hacer lo siguiente\n",
    "fichero=open(\"fichero.txt\",\"r\")"
   ]
  },
  {
   "cell_type": "code",
   "execution_count": 49,
   "id": "cf44b7e0",
   "metadata": {},
   "outputs": [
    {
     "data": {
      "text/plain": [
       "'Una linea con texto\\n'"
      ]
     },
     "execution_count": 49,
     "metadata": {},
     "output_type": "execute_result"
    }
   ],
   "source": [
    "fichero.readline()#nos arroga la primera linea "
   ]
  },
  {
   "cell_type": "code",
   "execution_count": 50,
   "id": "86c51133",
   "metadata": {},
   "outputs": [
    {
     "data": {
      "text/plain": [
       "'Otra linea con texto\\n'"
      ]
     },
     "execution_count": 50,
     "metadata": {},
     "output_type": "execute_result"
    }
   ],
   "source": [
    "fichero.readline()#nos arroga la segunda linea...."
   ]
  },
  {
   "cell_type": "code",
   "execution_count": 51,
   "id": "f1f209f1",
   "metadata": {},
   "outputs": [
    {
     "data": {
      "text/plain": [
       "'Otra linea mas de texto\\n'"
      ]
     },
     "execution_count": 51,
     "metadata": {},
     "output_type": "execute_result"
    }
   ],
   "source": [
    "fichero.readline()#nos aarroga la tercer linea de texto"
   ]
  },
  {
   "cell_type": "code",
   "execution_count": 52,
   "id": "9bf17feb",
   "metadata": {},
   "outputs": [
    {
     "data": {
      "text/plain": [
       "'Cuarta linea del fichero\\n'"
      ]
     },
     "execution_count": 52,
     "metadata": {},
     "output_type": "execute_result"
    }
   ],
   "source": [
    "fichero.readline()#nos arroga la cuarta linea de texto"
   ]
  },
  {
   "cell_type": "code",
   "execution_count": 53,
   "id": "e7f90bab",
   "metadata": {},
   "outputs": [
    {
     "data": {
      "text/plain": [
       "'Cuarta linea del fichero'"
      ]
     },
     "execution_count": 53,
     "metadata": {},
     "output_type": "execute_result"
    }
   ],
   "source": [
    "fichero.readline()"
   ]
  },
  {
   "cell_type": "code",
   "execution_count": 54,
   "id": "5f9f1a20",
   "metadata": {},
   "outputs": [
    {
     "data": {
      "text/plain": [
       "''"
      ]
     },
     "execution_count": 54,
     "metadata": {},
     "output_type": "execute_result"
    }
   ],
   "source": [
    "fichero.readline()#nos devuelve la ultima linea aqui nos dice que el la linea sexta linea ya no ahi nada "
   ]
  },
  {
   "cell_type": "markdown",
   "id": "b0b46cf1",
   "metadata": {},
   "source": [
    "Nota: Como referencia el puntero siempre se esta moviendo dentro nuestro fichero inicio a fin de la linea de texto\n",
    "y inicio y fin de nuestro fichero.txt de arriba para bajo "
   ]
  },
  {
   "cell_type": "code",
   "execution_count": 56,
   "id": "a2cfef10",
   "metadata": {},
   "outputs": [
    {
     "name": "stdout",
     "output_type": "stream",
     "text": [
      "Una linea con texto\n",
      "\n",
      "Otra linea con texto\n",
      "\n",
      "Otra linea mas de texto\n",
      "\n",
      "Cuarta linea del fichero\n",
      "\n",
      "Cuarta linea del fichero\n"
     ]
    }
   ],
   "source": [
    "#podemos leer de una forma mas dinamica las lineas de texto de nuestro fichero\n",
    "#sin necesidad de poner una por una fichero.readline()\n",
    "with open(\"fichero.txt\",'r') as fichero:\n",
    "    for lineas in fichero:\n",
    "        print(lineas)"
   ]
  },
  {
   "cell_type": "code",
   "execution_count": 57,
   "id": "aacd1d39",
   "metadata": {},
   "outputs": [],
   "source": [
    "fichero.close()\n",
    "del(fichero)#final del fichero ........!"
   ]
  },
  {
   "cell_type": "code",
   "execution_count": null,
   "id": "42278092",
   "metadata": {},
   "outputs": [],
   "source": []
  }
 ],
 "metadata": {
  "kernelspec": {
   "display_name": "Python 3 (ipykernel)",
   "language": "python",
   "name": "python3"
  },
  "language_info": {
   "codemirror_mode": {
    "name": "ipython",
    "version": 3
   },
   "file_extension": ".py",
   "mimetype": "text/x-python",
   "name": "python",
   "nbconvert_exporter": "python",
   "pygments_lexer": "ipython3",
   "version": "3.10.8"
  }
 },
 "nbformat": 4,
 "nbformat_minor": 5
}
