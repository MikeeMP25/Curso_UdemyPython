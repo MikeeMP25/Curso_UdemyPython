{
 "cells": [
  {
   "cell_type": "markdown",
   "id": "ca3632aa",
   "metadata": {},
   "source": [
    "AQUI VEREMOS COMO MANEJAR EL PUNTERO DEL FICHERO"
   ]
  },
  {
   "cell_type": "code",
   "execution_count": 18,
   "id": "61923cec",
   "metadata": {},
   "outputs": [],
   "source": [
    "#abrimos el fichero en modo lectura\n",
    "fichero=open('fichero.txt','r')"
   ]
  },
  {
   "cell_type": "code",
   "execution_count": 2,
   "id": "6910c8eb",
   "metadata": {},
   "outputs": [
    {
     "data": {
      "text/plain": [
       "20"
      ]
     },
     "execution_count": 2,
     "metadata": {},
     "output_type": "execute_result"
    }
   ],
   "source": [
    "fichero.seek(20)#aqui manejamos el fichero en que caracter queremos que se posicione el puntero\n",
    "#___$nombre "
   ]
  },
  {
   "cell_type": "code",
   "execution_count": 3,
   "id": "0edc5957",
   "metadata": {},
   "outputs": [
    {
     "data": {
      "text/plain": [
       "'Otra linea con texto\\nOtra linea mas de texto\\nCuarta linea del fichero\\nCuarta linea del fichero'"
      ]
     },
     "execution_count": 3,
     "metadata": {},
     "output_type": "execute_result"
    }
   ],
   "source": [
    "fichero.read()#toma todo el contenido del fichero desde el caracter numero 20 del fichero"
   ]
  },
  {
   "cell_type": "code",
   "execution_count": 4,
   "id": "b783348a",
   "metadata": {},
   "outputs": [
    {
     "data": {
      "text/plain": [
       "''"
      ]
     },
     "execution_count": 4,
     "metadata": {},
     "output_type": "execute_result"
    }
   ],
   "source": [
    "fichero.read()#como puedes observar el fichero cambio de lugar ahora esta hasta el final del contenido "
   ]
  },
  {
   "cell_type": "code",
   "execution_count": 5,
   "id": "b6becb17",
   "metadata": {},
   "outputs": [
    {
     "data": {
      "text/plain": [
       "0"
      ]
     },
     "execution_count": 5,
     "metadata": {},
     "output_type": "execute_result"
    }
   ],
   "source": [
    "#pero podemos manipular el fichero ha nuestro antojo ahorita esta hasta el final pero lo quiero al principio\n",
    "fichero.seek(0)#nota el cero es la primera posicion en cadena y en listas va"
   ]
  },
  {
   "cell_type": "code",
   "execution_count": 6,
   "id": "884b4c06",
   "metadata": {},
   "outputs": [
    {
     "data": {
      "text/plain": [
       "'Una linea con texto\\nOtra linea con texto\\nOtra linea mas de texto\\nCuarta linea del fichero\\nCuarta linea del fichero'"
      ]
     },
     "execution_count": 6,
     "metadata": {},
     "output_type": "execute_result"
    }
   ],
   "source": [
    "fichero.read()\n",
    "#COMO PUEDES OBSERVAR NUESTRO FICHERO ESTA EL LA POSICION INICIAL Y RECORRER TODAS LAS LINEAS DE TEXTO DEL FICHERO"
   ]
  },
  {
   "cell_type": "code",
   "execution_count": 7,
   "id": "fe8dd35f",
   "metadata": {},
   "outputs": [
    {
     "data": {
      "text/plain": [
       "''"
      ]
     },
     "execution_count": 7,
     "metadata": {},
     "output_type": "execute_result"
    }
   ],
   "source": [
    "fichero.read()#Y EN EFECTO EL PUNTERO VOLVIO A CAMBIAR SU POSICION HASTA EL FINAL "
   ]
  },
  {
   "cell_type": "code",
   "execution_count": 9,
   "id": "f84f0507",
   "metadata": {},
   "outputs": [
    {
     "data": {
      "text/plain": [
       "0"
      ]
     },
     "execution_count": 9,
     "metadata": {},
     "output_type": "execute_result"
    }
   ],
   "source": [
    "#VAMOS A CAMBIAR LA POSICION DEL PUNTERO DE NUEVO\n",
    "fichero.seek(0)"
   ]
  },
  {
   "cell_type": "code",
   "execution_count": 10,
   "id": "3ad2d667",
   "metadata": {},
   "outputs": [
    {
     "data": {
      "text/plain": [
       "'Una li'"
      ]
     },
     "execution_count": 10,
     "metadata": {},
     "output_type": "execute_result"
    }
   ],
   "source": [
    "fichero.read(6)#aqui indicamos hasta donde va recorrer nuestro puntero desde el 0 hasta 6 (0123456) \n",
    "#y mostrara lo obtuvo"
   ]
  },
  {
   "cell_type": "code",
   "execution_count": 11,
   "id": "3f023640",
   "metadata": {},
   "outputs": [
    {
     "data": {
      "text/plain": [
       "'nea co'"
      ]
     },
     "execution_count": 11,
     "metadata": {},
     "output_type": "execute_result"
    }
   ],
   "source": [
    "fichero.read(6)"
   ]
  },
  {
   "cell_type": "code",
   "execution_count": 12,
   "id": "42a8bd6d",
   "metadata": {},
   "outputs": [
    {
     "data": {
      "text/plain": [
       "'n texto\\nOtra linea con texto\\nOtra linea mas de texto\\nCuarta linea del fichero\\nCuarta linea del fichero'"
      ]
     },
     "execution_count": 12,
     "metadata": {},
     "output_type": "execute_result"
    }
   ],
   "source": [
    "fichero.read()#aqui podemos observa con en efecto nuestro puntero se esta moviendo"
   ]
  },
  {
   "cell_type": "code",
   "execution_count": 24,
   "id": "ef1ba2aa",
   "metadata": {},
   "outputs": [
    {
     "name": "stdout",
     "output_type": "stream",
     "text": [
      "Una linea con texto\n",
      "Otra linea con texto\n",
      "Otra linea mas de texto\n",
      "Cuarta linea del fichero\n",
      "Cuarta linea del fichero \n",
      "\n",
      "e texto\n",
      "Cuarta linea del fichero\n",
      "Cuarta linea del fichero\n"
     ]
    }
   ],
   "source": [
    "#vamos hacer un pequeño ejercicio \n",
    "#podemos obtener la longitud de nuestras lineas de texto del fichero \n",
    "#y solo tomar la mitad de texto escrito en nuestro fichero vamos ha ver\n",
    "\n",
    "fichero.seek(0)\n",
    "texto=fichero.read()\n",
    "print(texto,\"\\n\")\n",
    "fichero.seek(len(texto)/2)#movimos nuestro puntero al medio del texto\n",
    "\n",
    "print(fichero.read())\n"
   ]
  },
  {
   "cell_type": "code",
   "execution_count": 33,
   "id": "c084255c",
   "metadata": {},
   "outputs": [
    {
     "data": {
      "text/plain": [
       "0"
      ]
     },
     "execution_count": 33,
     "metadata": {},
     "output_type": "execute_result"
    }
   ],
   "source": [
    "#ahora si queremos solo obtener una linea de texto\n",
    "fichero.seek(0)"
   ]
  },
  {
   "cell_type": "code",
   "execution_count": 34,
   "id": "4dff6f94",
   "metadata": {},
   "outputs": [
    {
     "data": {
      "text/plain": [
       "20"
      ]
     },
     "execution_count": 34,
     "metadata": {},
     "output_type": "execute_result"
    }
   ],
   "source": [
    "fichero.seek(len(fichero.readline()))"
   ]
  },
  {
   "cell_type": "code",
   "execution_count": 35,
   "id": "ecf8d3c4",
   "metadata": {},
   "outputs": [
    {
     "name": "stdout",
     "output_type": "stream",
     "text": [
      "Otra linea con texto\n",
      "Otra linea mas de texto\n",
      "Cuarta linea del fichero\n",
      "Cuarta linea del fichero\n"
     ]
    }
   ],
   "source": [
    "print(fichero.read())#Se observa que homitio la primetra linea de texto por que movimos el puntero"
   ]
  },
  {
   "cell_type": "code",
   "execution_count": 36,
   "id": "c5514c50",
   "metadata": {},
   "outputs": [],
   "source": [
    "#ahora queremos escribir delante del texto desde el inicio podemos hacer lo siguiente:\n",
    "fichero.close() \n",
    "del(fichero)#recuerda siempre se hace esto despues de ocupar cualquier fichero"
   ]
  },
  {
   "cell_type": "code",
   "execution_count": 37,
   "id": "a069dba5",
   "metadata": {},
   "outputs": [
    {
     "data": {
      "text/plain": [
       "24"
      ]
     },
     "execution_count": 37,
     "metadata": {},
     "output_type": "execute_result"
    }
   ],
   "source": [
    "fichero=open(\"fichero.txt\",\"r+\")#nota el \"r+\"=esto quiere decir lectura y escritura \n",
    "#en el fichero posicionamos el puntero al principio del texto \n",
    "fichero.write(\"mslcnañdslkvnasñldjgoñbd\")"
   ]
  },
  {
   "cell_type": "code",
   "execution_count": 38,
   "id": "d0e10d43",
   "metadata": {},
   "outputs": [],
   "source": [
    "fichero.close()#cerramos para ver que se hizo en fichero.txt\n",
    "del(fichero)"
   ]
  },
  {
   "cell_type": "code",
   "execution_count": 39,
   "id": "a64ad2fa",
   "metadata": {},
   "outputs": [
    {
     "data": {
      "text/plain": [
       "['mslcnañdslkvnasñldjgoñbdnea con texto\\n',\n",
       " 'Otra linea mas de texto\\n',\n",
       " 'Cuarta linea del fichero\\n',\n",
       " 'Cuarta linea del fichero']"
      ]
     },
     "execution_count": 39,
     "metadata": {},
     "output_type": "execute_result"
    }
   ],
   "source": [
    "fichero=open(\"fichero.txt\",\"r+\")\n",
    "lineas=fichero.readlines()\n",
    "lineas"
   ]
  },
  {
   "cell_type": "code",
   "execution_count": 40,
   "id": "16f76314",
   "metadata": {},
   "outputs": [],
   "source": [
    "#queremos modificar la linea uno y linea 4 con una nueva cadena de texto\n",
    "\n",
    "lineas[0]=\"Hola soy Jesus Miranda \\n\"\n",
    "lineas[3]=\"Bievenidos a dasarrollo MADD SYSTEM's \""
   ]
  },
  {
   "cell_type": "code",
   "execution_count": 41,
   "id": "9080f5bd",
   "metadata": {},
   "outputs": [
    {
     "data": {
      "text/plain": [
       "['Hola soy Jesus Miranda \\n',\n",
       " 'Otra linea mas de texto\\n',\n",
       " 'Cuarta linea del fichero\\n',\n",
       " \"Bievenidos a dasarrollo MADD SYSTEM's \"]"
      ]
     },
     "execution_count": 41,
     "metadata": {},
     "output_type": "execute_result"
    }
   ],
   "source": [
    "lineas#como puedes observar hemos cambiado sola lista de lineas "
   ]
  },
  {
   "cell_type": "code",
   "execution_count": 42,
   "id": "28a1e876",
   "metadata": {},
   "outputs": [
    {
     "name": "stdout",
     "output_type": "stream",
     "text": [
      "['mslcnañdslkvnasñldjgoñbdnea con texto\\n', 'Otra linea mas de texto\\n', 'Cuarta linea del fichero\\n', 'Cuarta linea del fichero']\n"
     ]
    }
   ],
   "source": [
    "#ahora cambiaremos el texto actual del fichero.txt\n",
    "fichero.seek(0)\n",
    "texto=fichero.readlines()\n",
    "print(texto)"
   ]
  },
  {
   "cell_type": "code",
   "execution_count": 43,
   "id": "8c8b90cc",
   "metadata": {},
   "outputs": [],
   "source": [
    "fichero.seek(0)\n",
    "fichero.writelines(lineas)"
   ]
  },
  {
   "cell_type": "code",
   "execution_count": 44,
   "id": "889cf074",
   "metadata": {},
   "outputs": [],
   "source": [
    "fichero.close()"
   ]
  },
  {
   "cell_type": "markdown",
   "id": "08456489",
   "metadata": {},
   "source": [
    "Nota: Para los ficheros solo podemos guardar cadenas de texto. No podemos guadar cualquier tipo datos.  \n",
    "\"Sirve para guardar textos planos\"\n",
    "\n",
    "Si queremos guardar otro tipo de datos debemos implementar otro tipo de fichero que nos permita convertir eso ficheros de texto a list,dir,tupla,int,float,booleand o object. \n"
   ]
  }
 ],
 "metadata": {
  "kernelspec": {
   "display_name": "Python 3 (ipykernel)",
   "language": "python",
   "name": "python3"
  },
  "language_info": {
   "codemirror_mode": {
    "name": "ipython",
    "version": 3
   },
   "file_extension": ".py",
   "mimetype": "text/x-python",
   "name": "python",
   "nbconvert_exporter": "python",
   "pygments_lexer": "ipython3",
   "version": "3.10.8"
  }
 },
 "nbformat": 4,
 "nbformat_minor": 5
}
