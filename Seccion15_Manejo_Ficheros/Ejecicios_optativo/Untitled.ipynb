{
 "cells": [
  {
   "cell_type": "code",
   "execution_count": 7,
   "id": "212d1363",
   "metadata": {},
   "outputs": [
    {
     "name": "stdout",
     "output_type": "stream",
     "text": [
      "1;Carlos;Perez;05/01/1989\n",
      "2;Manuel;Heredia;26/12/1973\n",
      "3;Rosa;Campos;12/06/1961\n",
      "4;David;Garcia;25/07/2006\n",
      "\n"
     ]
    }
   ],
   "source": [
    "#En este ejercicio deberas crear un script llamado personas.txt que lea los datos de un fichero\n",
    "# de texto, que transforme cada fila en un diccionario y lo añada a una lista llamada personas.\n",
    "#luego rocorre las personas de la lista y para cada una muestra de forma amigable todos sus campos.\n",
    "\n",
    "contenido=\"1;Carlos;Perez;05/01/1989\\n2;Manuel;Heredia;26/12/1973\\n3;Rosa;Campos;12/06/1961\\n4;David;Garcia;25/07/2006\\n\"\n",
    "          \n",
    "print(contenido)#cadena de texto"
   ]
  },
  {
   "cell_type": "code",
   "execution_count": 2,
   "id": "ceedd845",
   "metadata": {},
   "outputs": [
    {
     "data": {
      "text/plain": [
       "105"
      ]
     },
     "execution_count": 2,
     "metadata": {},
     "output_type": "execute_result"
    }
   ],
   "source": [
    "fichero=open(\"personas.txt\",\"w\")\n",
    "\n",
    "fichero.write(contenido)"
   ]
  },
  {
   "cell_type": "code",
   "execution_count": 3,
   "id": "0ebb901c",
   "metadata": {},
   "outputs": [],
   "source": [
    "fichero.close()"
   ]
  },
  {
   "cell_type": "code",
   "execution_count": 4,
   "id": "af50ea48",
   "metadata": {},
   "outputs": [],
   "source": [
    "del(fichero)"
   ]
  },
  {
   "cell_type": "code",
   "execution_count": 5,
   "id": "7617cedd",
   "metadata": {},
   "outputs": [],
   "source": [
    "diccionario=[]\n",
    "\n",
    "fichero=open(\"personas.txt\",\"r\")\n",
    "lineas=fichero.readlines()\n",
    "fichero.close()\n",
    "#print(lineas)\n",
    "\n",
    "for obtener in lineas:\n",
    "    cambiando=obtener.replace(\";\",\",\")#replazar texto \n",
    "    valor=cambiando.split(\",\")#es para reparar el texto en 1,nombre etc.\n",
    "\n",
    "    estructura = { \"id\":valor[0],\"nombre\":valor[1],\"apellido\":valor[2],\"nacimiento\":valor[3][:10]}\n",
    "    diccionario.append(estructura)\n",
    "\n",
    "#for lineas in fichero:\n",
    "   #     print(lineas)"
   ]
  },
  {
   "cell_type": "code",
   "execution_count": 6,
   "id": "afa8fdfc",
   "metadata": {},
   "outputs": [
    {
     "data": {
      "text/plain": [
       "[{'id': '1',\n",
       "  'nombre': 'Carlos',\n",
       "  'apellido': 'Perez',\n",
       "  'nacimiento': '05/01/1989'},\n",
       " {'id': '2',\n",
       "  'nombre': 'Manuel',\n",
       "  'apellido': 'Heredia',\n",
       "  'nacimiento': '26/12/1973'},\n",
       " {'id': '3',\n",
       "  'nombre': 'Rosa',\n",
       "  'apellido': 'Campos',\n",
       "  'nacimiento': '12/06/1961'},\n",
       " {'id': '4',\n",
       "  'nombre': 'David',\n",
       "  'apellido': 'Garcia',\n",
       "  'nacimiento': '25/07/2006'}]"
      ]
     },
     "execution_count": 6,
     "metadata": {},
     "output_type": "execute_result"
    }
   ],
   "source": [
    "diccionario"
   ]
  }
 ],
 "metadata": {
  "kernelspec": {
   "display_name": "Python 3 (ipykernel)",
   "language": "python",
   "name": "python3"
  },
  "language_info": {
   "codemirror_mode": {
    "name": "ipython",
    "version": 3
   },
   "file_extension": ".py",
   "mimetype": "text/x-python",
   "name": "python",
   "nbconvert_exporter": "python",
   "pygments_lexer": "ipython3",
   "version": "3.10.8"
  }
 },
 "nbformat": 4,
 "nbformat_minor": 5
}
