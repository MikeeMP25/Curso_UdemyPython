{
 "cells": [
  {
   "cell_type": "code",
   "execution_count": 1,
   "id": "20d27229",
   "metadata": {},
   "outputs": [
    {
     "name": "stdout",
     "output_type": "stream",
     "text": [
      "Ingresa tu primer cadena de texto: Hola mundo\n",
      "Ingresa tu segundo cadena de texto: Tengo hambre\n",
      "El resultado es: 2\n"
     ]
    }
   ],
   "source": [
    "#condiciones con if en python\n",
    "\n",
    "cadena_1=input(\"Ingresa tu primer cadena de texto: \")\n",
    "cadena_2=input(\"Ingresa tu segundo cadena de texto: \") \n",
    "  \n",
    "\n",
    "if len(cadena_1) > len(cadena_2):\n",
    "    resultado=1\n",
    "elif len(cadena_1) < len(cadena_2):\n",
    "        resultado=2\n",
    "elif len(cadena_1) == len(cadena_2):\n",
    "            resultado=0\n",
    "else:\n",
    "    print(\"No cumple ninguna condicion\")\n",
    "\n",
    "print(\"El resultado es:\",resultado)\n"
   ]
  },
  {
   "cell_type": "code",
   "execution_count": 2,
   "id": "b6770fcc",
   "metadata": {},
   "outputs": [
    {
     "name": "stdout",
     "output_type": "stream",
     "text": [
      "Bienvenido al menu de opciones\n",
      "¿Que quieres hacer? Escribe una opción\n",
      "    1.- Saludar\n",
      "    2.- Sumar dos números\n",
      "    3.- Salir\n",
      "1\n",
      "hola, espero que te lo estes pasando bien\n",
      "¿Que quieres hacer? Escribe una opción\n",
      "    1.- Saludar\n",
      "    2.- Sumar dos números\n",
      "    3.- Salir\n",
      "2\n",
      "introduce el primer numero: 25\n",
      "introduce el segundo numero: 18\n",
      "la suma es:  43.0\n",
      "¿Que quieres hacer? Escribe una opción\n",
      "    1.- Saludar\n",
      "    2.- Sumar dos números\n",
      "    3.- Salir\n",
      "4\n",
      "Comando desconocido, vuelve a intentarlo\n",
      "¿Que quieres hacer? Escribe una opción\n",
      "    1.- Saludar\n",
      "    2.- Sumar dos números\n",
      "    3.- Salir\n",
      "3\n",
      "¡Hasta luego! Ha sido un placer ayudarte\n"
     ]
    }
   ],
   "source": [
    "#condicion de bucle con While\n",
    "print(\"Bienvenido al menu de opciones\")\n",
    "\n",
    "while True:\n",
    "    print(\"\"\"¿Que quieres hacer? Escribe una opción\n",
    "    1.- Saludar\n",
    "    2.- Sumar dos números\n",
    "    3.- Salir\"\"\")\n",
    "    opcion=int(input())\n",
    "    if opcion==1:\n",
    "        print(\"hola, espero que te lo estes pasando bien\")\n",
    "    elif opcion==2:\n",
    "        num1=float(input(\"introduce el primer numero: \"))\n",
    "        num2=float(input(\"introduce el segundo numero: \"))\n",
    "        print(\"la suma es: \",num1+num2)\n",
    "    elif opcion==3:\n",
    "        print(\"¡Hasta luego! Ha sido un placer ayudarte\")\n",
    "        break #para romper el buble de while\n",
    "    else: \n",
    "        print(\"Comando desconocido, vuelve a intentarlo\")"
   ]
  },
  {
   "cell_type": "code",
   "execution_count": 3,
   "id": "b1ab53c5",
   "metadata": {},
   "outputs": [
    {
     "name": "stdout",
     "output_type": "stream",
     "text": [
      "Ingresa un numero entero: 250\n",
      "Es un multiple de 5\n"
     ]
    }
   ],
   "source": [
    "#Ejercicio Bucle While\n",
    "while True:\n",
    "    numero=int(input(\"Ingresa un numero entero: \"))\n",
    "    if numero%5==0:\n",
    "        print(\"Es un multiple de 5\")\n",
    "        break\n",
    "    else:\n",
    "        print(\"No es multiple de 5\")\n",
    "\n",
    "\n",
    "        "
   ]
  },
  {
   "cell_type": "code",
   "execution_count": 4,
   "id": "a00fbab7",
   "metadata": {},
   "outputs": [
    {
     "name": "stdout",
     "output_type": "stream",
     "text": [
      "1\n",
      "2\n",
      "3\n",
      "4\n",
      "5\n",
      "6\n",
      "7\n",
      "8\n",
      "9\n",
      "10\n"
     ]
    }
   ],
   "source": [
    "#diferencia entre un while y un for\n",
    "numeros=[1,2,3,4,5,6,7,8,9,10]\n",
    "indice=0\n",
    "while(indice<len(numeros)):\n",
    "    print(numeros[indice])\n",
    "    indice=indice+1"
   ]
  },
  {
   "cell_type": "code",
   "execution_count": 5,
   "id": "05d87963",
   "metadata": {},
   "outputs": [
    {
     "name": "stdout",
     "output_type": "stream",
     "text": [
      "1\n",
      "2\n",
      "3\n",
      "4\n",
      "5\n",
      "6\n",
      "7\n",
      "8\n",
      "9\n",
      "10\n"
     ]
    }
   ],
   "source": [
    "#diferencia entre un while y un for\n",
    "#numero = es una copia local de la interracion y no forma parte de la lista \n",
    "for numero in numeros:\n",
    "    print(numero)\n",
    "    "
   ]
  },
  {
   "cell_type": "code",
   "execution_count": 6,
   "id": "4e05f678",
   "metadata": {},
   "outputs": [
    {
     "name": "stdout",
     "output_type": "stream",
     "text": [
      "10\n",
      "20\n",
      "30\n",
      "40\n",
      "50\n",
      "60\n",
      "70\n",
      "80\n",
      "90\n",
      "100\n"
     ]
    }
   ],
   "source": [
    "indice=0\n",
    "#utilizo la variable indice para poder obtener los valores de la lista numeros\n",
    "for numero in numeros:\n",
    "    numeros[indice]*=10\n",
    "    print(numeros[indice])\n",
    "    indice+=1"
   ]
  },
  {
   "cell_type": "code",
   "execution_count": 7,
   "id": "f613d946",
   "metadata": {},
   "outputs": [
    {
     "name": "stdout",
     "output_type": "stream",
     "text": [
      "H\n",
      "o\n",
      "l\n",
      "a\n",
      " \n",
      "a\n",
      "m\n",
      "i\n",
      "g\n",
      "o\n",
      "s\n"
     ]
    }
   ],
   "source": [
    "#Recorrer una cadena y mostrar uno a uno un caracter\n",
    "cadena= \"Hola amigos\"\n",
    "for caracter in cadena:\n",
    "    print(caracter)"
   ]
  },
  {
   "cell_type": "code",
   "execution_count": 8,
   "id": "d4a0d4d3",
   "metadata": {},
   "outputs": [
    {
     "name": "stdout",
     "output_type": "stream",
     "text": [
      "0\n",
      "1\n",
      "2\n",
      "3\n",
      "4\n",
      "5\n",
      "6\n",
      "7\n",
      "8\n"
     ]
    }
   ],
   "source": [
    "#la funcion range dentro for \n",
    "#es un interprete al momento de ejecutar el codigo no se almacena en la memoria\n",
    "for i in range(9):\n",
    "    print(i)"
   ]
  },
  {
   "cell_type": "code",
   "execution_count": 9,
   "id": "5fb5df2e",
   "metadata": {},
   "outputs": [
    {
     "name": "stdout",
     "output_type": "stream",
     "text": [
      "Numeros que cumplen la condicion  1\n",
      "Numeros que cumplen la condicion  2\n",
      "Numeros que cumplen la condicion  3\n",
      "Numeros que cumplen la condicion  4\n",
      "Numeros que cumplen la condicion  6\n",
      "Numeros que cumplen la condicion  8\n",
      "Numeros que cumplen la condicion  9\n",
      "La suma de los numero es:  33\n"
     ]
    }
   ],
   "source": [
    "#Ejercicio de Blucle for\n",
    "numero=0,1,2,3,4,5,6,7,8,9,10\n",
    "indice=0\n",
    "sumatorio=0\n",
    "\n",
    "for digito in numero:\n",
    "    if numero[indice]%5!=0 and numero[indice]%7!=0:\n",
    "        print(\"Numeros que cumplen la condicion \",digito)\n",
    "        sumatorio+= digito\n",
    "    indice+=1\n",
    "print(\"La suma de los numero es: \",sumatorio)    "
   ]
  },
  {
   "cell_type": "code",
   "execution_count": 12,
   "id": "d9fadead",
   "metadata": {},
   "outputs": [
    {
     "name": "stdout",
     "output_type": "stream",
     "text": [
      "0 Hola\n",
      "1 4\n",
      "2 Adios\n",
      "3 [1, 2, 3]\n",
      "\n",
      " 10 20 30\n"
     ]
    }
   ],
   "source": [
    "#elementos\n",
    "elementos=[\"Hola\",4,\"Adios\",[1,2,3]]\n",
    "for indice,element in enumerate(elementos):\n",
    "    print(indice,element)\n",
    "\n",
    "\n",
    "#asignacion multiple a variebles(es un truco en python)\n",
    "#Nota: Te permite asignar multiples valores a multiples variables \n",
    "#en una sola linea\n",
    "a,b,c=10,20,30\n",
    "print(\"\\n\",a,b,c)"
   ]
  },
  {
   "cell_type": "code",
   "execution_count": null,
   "id": "46af7f2a",
   "metadata": {},
   "outputs": [],
   "source": []
  }
 ],
 "metadata": {
  "kernelspec": {
   "display_name": "Python 3 (ipykernel)",
   "language": "python",
   "name": "python3"
  },
  "language_info": {
   "codemirror_mode": {
    "name": "ipython",
    "version": 3
   },
   "file_extension": ".py",
   "mimetype": "text/x-python",
   "name": "python",
   "nbconvert_exporter": "python",
   "pygments_lexer": "ipython3",
   "version": "3.10.8"
  }
 },
 "nbformat": 4,
 "nbformat_minor": 5
}
