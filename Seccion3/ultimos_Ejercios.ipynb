{
 "cells": [
  {
   "cell_type": "code",
   "execution_count": 5,
   "id": "40fd9afe",
   "metadata": {},
   "outputs": [
    {
     "name": "stdout",
     "output_type": "stream",
     "text": [
      "['Hola', 'Mundo']\n",
      "['H', 'M']\n"
     ]
    }
   ],
   "source": [
    "#Ejercicio tal\n",
    "#Función enumerate\n",
    "#En iniciales tienes el siguiente valor [\"Hola\",\"Mundo\"], tu objetivo seria\n",
    "#transformar esos valores a [\"H\",\"M\"]\n",
    "iniciales=[\"Hola\",\"Mundo\"]\n",
    "print(iniciales)\n",
    "for indice,valor in enumerate(iniciales):\n",
    "    iniciales[indice]=iniciales[indice][0]\n",
    "    indice+=1\n",
    "    \n",
    "print(iniciales)"
   ]
  },
  {
   "cell_type": "code",
   "execution_count": 6,
   "id": "979c2dad",
   "metadata": {},
   "outputs": [
    {
     "name": "stdout",
     "output_type": "stream",
     "text": [
      "Ingresa un numero entero que este entre 1 y 9: Jesus Miguel\n",
      "Debe ingresar un valor entero\n",
      "Ingresa un numero entero que este entre 1 y 9: 15\n",
      "Esta fuera del rango\n",
      "Ingresa un numero entero que este entre 1 y 9: 5\n",
      "Esta dentro del rango\n",
      "[5, 10, 15, 20, 25, 30, 35, 40, 45, 50, 55, 60, 65, 70, 75, 80, 85, 90, 95, 100]\n"
     ]
    }
   ],
   "source": [
    "#Iteraciones y conversiones\n",
    "multiplos=[]\n",
    "def numero():\n",
    "    while True:\n",
    "        try:\n",
    "            usuario=int(input(\"Ingresa un numero entero que este entre 1 y 9: \"))\n",
    "            if usuario > 1 and usuario < 9:\n",
    "                print(\"Esta dentro del rango\")\n",
    "                dato_usuario=usuario\n",
    "                break\n",
    "            else:\n",
    "                print(\"Esta fuera del rango\")\n",
    "         \n",
    "        except ValueError:\n",
    "            print(\"Debe ingresar un valor entero\")\n",
    "    return dato_usuario\n",
    "\n",
    "valor=numero()\n",
    "\n",
    "for n in range(1,101):\n",
    "    #print(n)\n",
    "    if n % valor == 0:\n",
    "        #print(n)\n",
    "        multiplos.append(n)        \n",
    "print(multiplos)\n",
    "\n",
    "##Codigo echo por el profe\n",
    "\n",
    "#multiplos = []\n",
    " \n",
    "# Empezamos leyendo un número entero por teclado\n",
    "#numero = int(input())\n",
    " \n",
    "# Volveremos a leerlo mientras el número no se encuentre entre 1 y 9 (ambos incluidos)\n",
    "#while numero < 1 or numero > 9:\n",
    "    #numero = int(input())\n",
    "# Generamos con range toda la lista de múltiplos entre el numero y 100\n",
    "#multiplos = list(range(numero, 101, numero))\n",
    "#print(multiplos)\n"
   ]
  },
  {
   "cell_type": "code",
   "execution_count": 8,
   "id": "064d9a9d",
   "metadata": {},
   "outputs": [
    {
     "name": "stdout",
     "output_type": "stream",
     "text": [
      "[8, 7, 0]\n",
      "[34, 2, -1]\n",
      "[5, -5, 12]\n",
      "[0, 1, 0]\n",
      "[0, 0, 1]\n",
      "[1, 1, 0]\n"
     ]
    }
   ],
   "source": [
    "#Bucles anidados\n",
    "matriz=[\n",
    "    [8,7,0],\n",
    "    [34,2,-1],\n",
    "    [5,-5,12]\n",
    "]\n",
    "for i,fila in enumerate(matriz):\n",
    "    print(matriz[i])\n",
    "    for j,columna in enumerate(fila):\n",
    "        #print(valor)\n",
    "        digito=matriz[i][j]\n",
    "        if digito%2==0:\n",
    "            #print(matriz[i][j])\n",
    "            matriz[i][j]=0\n",
    "        else:\n",
    "            #print(matriz[i][j])\n",
    "            matriz[i][j]=1\n",
    "\n",
    "for lista in matriz:\n",
    "    print(lista)            "
   ]
  }
 ],
 "metadata": {
  "kernelspec": {
   "display_name": "Python 3 (ipykernel)",
   "language": "python",
   "name": "python3"
  },
  "language_info": {
   "codemirror_mode": {
    "name": "ipython",
    "version": 3
   },
   "file_extension": ".py",
   "mimetype": "text/x-python",
   "name": "python",
   "nbconvert_exporter": "python",
   "pygments_lexer": "ipython3",
   "version": "3.10.8"
  }
 },
 "nbformat": 4,
 "nbformat_minor": 5
}
