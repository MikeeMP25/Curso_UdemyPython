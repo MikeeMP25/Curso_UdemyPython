{
 "cells": [
  {
   "cell_type": "code",
   "execution_count": 1,
   "id": "13824fa1",
   "metadata": {},
   "outputs": [
    {
     "data": {
      "text/plain": [
       "<re.Match object; span=(40, 46), match='magica'>"
      ]
     },
     "execution_count": 1,
     "metadata": {},
     "output_type": "execute_result"
    }
   ],
   "source": [
    "#Expresiones regulares I\n",
    "\n",
    "#importamos\n",
    "import re\n",
    "texto=\"En esta cadena se encuentra una palabra magica\"\n",
    "re.search('magica',texto)"
   ]
  },
  {
   "cell_type": "code",
   "execution_count": 2,
   "id": "8c50d236",
   "metadata": {},
   "outputs": [],
   "source": [
    "re.search(\"hola\",texto)"
   ]
  },
  {
   "cell_type": "code",
   "execution_count": 3,
   "id": "fa71f166",
   "metadata": {},
   "outputs": [],
   "source": [
    "palabra=\"magica\"\n",
    "encontrado=re.search(palabra,texto)"
   ]
  },
  {
   "cell_type": "code",
   "execution_count": 4,
   "id": "43eca820",
   "metadata": {},
   "outputs": [
    {
     "name": "stdout",
     "output_type": "stream",
     "text": [
      "Se ha encontrado la palabra\n"
     ]
    }
   ],
   "source": [
    "if encontrado is not None:\n",
    "    print(\"Se ha encontrado la palabra\")\n",
    "else:\n",
    "    print(\"No se ha encontrado la palabra\")"
   ]
  },
  {
   "cell_type": "code",
   "execution_count": 5,
   "id": "33649d2a",
   "metadata": {},
   "outputs": [
    {
     "data": {
      "text/plain": [
       "40"
      ]
     },
     "execution_count": 5,
     "metadata": {},
     "output_type": "execute_result"
    }
   ],
   "source": [
    "encontrado.start()"
   ]
  },
  {
   "cell_type": "code",
   "execution_count": 6,
   "id": "5f4850f2",
   "metadata": {},
   "outputs": [
    {
     "data": {
      "text/plain": [
       "46"
      ]
     },
     "execution_count": 6,
     "metadata": {},
     "output_type": "execute_result"
    }
   ],
   "source": [
    "encontrado.end()"
   ]
  },
  {
   "cell_type": "code",
   "execution_count": 7,
   "id": "a83eea58",
   "metadata": {},
   "outputs": [
    {
     "data": {
      "text/plain": [
       "(40, 46)"
      ]
     },
     "execution_count": 7,
     "metadata": {},
     "output_type": "execute_result"
    }
   ],
   "source": [
    "encontrado.span()"
   ]
  },
  {
   "cell_type": "code",
   "execution_count": 8,
   "id": "981a3fc6",
   "metadata": {},
   "outputs": [
    {
     "data": {
      "text/plain": [
       "'En esta cadena se encuentra una palabra magica'"
      ]
     },
     "execution_count": 8,
     "metadata": {},
     "output_type": "execute_result"
    }
   ],
   "source": [
    "encontrado.string"
   ]
  },
  {
   "cell_type": "code",
   "execution_count": 9,
   "id": "92cdc789",
   "metadata": {},
   "outputs": [
    {
     "data": {
      "text/plain": [
       "<re.Match object; span=(0, 4), match='hola'>"
      ]
     },
     "execution_count": 9,
     "metadata": {},
     "output_type": "execute_result"
    }
   ],
   "source": [
    "texto =\"hola mundo\"\n",
    "re.match(\"hola\",texto)"
   ]
  },
  {
   "cell_type": "code",
   "execution_count": 11,
   "id": "14f24e9e",
   "metadata": {},
   "outputs": [
    {
     "data": {
      "text/plain": [
       "['vamos', 'a', 'dividir', 'esta', 'cadena']"
      ]
     },
     "execution_count": 11,
     "metadata": {},
     "output_type": "execute_result"
    }
   ],
   "source": [
    "cadena=\"vamos a dividir esta cadena\"\n",
    "re.split(' ',cadena)"
   ]
  },
  {
   "cell_type": "code",
   "execution_count": 13,
   "id": "4d1fef9c",
   "metadata": {},
   "outputs": [
    {
     "data": {
      "text/plain": [
       "'hola amiga'"
      ]
     },
     "execution_count": 13,
     "metadata": {},
     "output_type": "execute_result"
    }
   ],
   "source": [
    "texto=\"hola amigo\"\n",
    "re.sub(\"amigo\",\"amiga\",texto)"
   ]
  },
  {
   "cell_type": "code",
   "execution_count": 14,
   "id": "13cf960a",
   "metadata": {},
   "outputs": [
    {
     "data": {
      "text/plain": [
       "['hola', 'hola', 'hola']"
      ]
     },
     "execution_count": 14,
     "metadata": {},
     "output_type": "execute_result"
    }
   ],
   "source": [
    "texto=\"hola adios hola hola\"\n",
    "re.findall(\"hola\",texto)"
   ]
  },
  {
   "cell_type": "code",
   "execution_count": 15,
   "id": "100e8094",
   "metadata": {},
   "outputs": [
    {
     "data": {
      "text/plain": [
       "3"
      ]
     },
     "execution_count": 15,
     "metadata": {},
     "output_type": "execute_result"
    }
   ],
   "source": [
    "len(re.findall(\"hola\",texto))"
   ]
  },
  {
   "cell_type": "code",
   "execution_count": 16,
   "id": "b73add1a",
   "metadata": {},
   "outputs": [
    {
     "data": {
      "text/plain": [
       "['hola', 'hello']"
      ]
     },
     "execution_count": 16,
     "metadata": {},
     "output_type": "execute_result"
    }
   ],
   "source": [
    "texto=\"hola adios hello bye\"\n",
    "\n",
    "re.findall(\"(hola|hello)\",texto)"
   ]
  },
  {
   "cell_type": "code",
   "execution_count": null,
   "id": "c4f64454",
   "metadata": {},
   "outputs": [],
   "source": []
  }
 ],
 "metadata": {
  "kernelspec": {
   "display_name": "Python 3 (ipykernel)",
   "language": "python",
   "name": "python3"
  },
  "language_info": {
   "codemirror_mode": {
    "name": "ipython",
    "version": 3
   },
   "file_extension": ".py",
   "mimetype": "text/x-python",
   "name": "python",
   "nbconvert_exporter": "python",
   "pygments_lexer": "ipython3",
   "version": "3.10.8"
  }
 },
 "nbformat": 4,
 "nbformat_minor": 5
}
