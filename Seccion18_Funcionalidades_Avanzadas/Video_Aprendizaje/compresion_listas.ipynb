{
 "cells": [
  {
   "cell_type": "markdown",
   "id": "2433116c",
   "metadata": {},
   "source": [
    "# Compresion de listas"
   ]
  },
  {
   "cell_type": "code",
   "execution_count": 1,
   "id": "63af96d0",
   "metadata": {},
   "outputs": [
    {
     "name": "stdout",
     "output_type": "stream",
     "text": [
      "['c', 'a', 's', 'a']\n"
     ]
    }
   ],
   "source": [
    "#Metodo tradiccional\n",
    "lista=[]\n",
    "for letra in \"casa\":\n",
    "    lista.append(letra)\n",
    "    \n",
    "print(lista)    "
   ]
  },
  {
   "cell_type": "code",
   "execution_count": 2,
   "id": "5afac2d9",
   "metadata": {},
   "outputs": [
    {
     "name": "stdout",
     "output_type": "stream",
     "text": [
      "['c', 'a', 's', 'a']\n"
     ]
    }
   ],
   "source": [
    "# Metodo con compresion de listas\n",
    "lista=[letra for letra in 'casa']\n",
    "#letra es la que se va estar recorriendo toda la interacion y guardando cada posicion \"c a s a\"\n",
    "print(lista)"
   ]
  },
  {
   "cell_type": "code",
   "execution_count": 3,
   "id": "491cfee9",
   "metadata": {},
   "outputs": [
    {
     "name": "stdout",
     "output_type": "stream",
     "text": [
      "[0, 1, 4, 9, 16, 25, 36, 49, 64, 81, 100]\n"
     ]
    }
   ],
   "source": [
    "#CREAMOS UNA LISTA CON 0 A 10 PERO MULTIPLICADO POR SI MISMO 0*0=0 , 2*2=0 ETC. \n",
    "#Metodo tradicional\n",
    "lista=[]\n",
    "for numero in range(0,11):\n",
    "    lista.append(numero**2)\n",
    "print(lista)    "
   ]
  },
  {
   "cell_type": "code",
   "execution_count": 4,
   "id": "b4ea5563",
   "metadata": {},
   "outputs": [
    {
     "name": "stdout",
     "output_type": "stream",
     "text": [
      "[0, 1, 4, 9, 16, 25, 36, 49, 64, 81, 100]\n"
     ]
    }
   ],
   "source": [
    "#Metodo con compresion de listas\n",
    "lista=[numero**2 for numero in range(0,11)]\n",
    "print(lista)"
   ]
  },
  {
   "cell_type": "code",
   "execution_count": 7,
   "id": "a3f6a295",
   "metadata": {},
   "outputs": [
    {
     "name": "stdout",
     "output_type": "stream",
     "text": [
      "[0, 2, 4, 6, 8, 10]\n"
     ]
    }
   ],
   "source": [
    "#CREAMOS UNA LISTA CON LOS MULTIPLOS DE DOS DE 0 AL 10\n",
    "#metodo tradicional\n",
    "lista=[]\n",
    "for numero in range(0,11):\n",
    "    if numero %2 ==0:\n",
    "        lista.append(numero)\n",
    "print(lista)"
   ]
  },
  {
   "cell_type": "code",
   "execution_count": 8,
   "id": "9b261a09",
   "metadata": {},
   "outputs": [
    {
     "name": "stdout",
     "output_type": "stream",
     "text": [
      "[0, 2, 4, 6, 8, 10]\n"
     ]
    }
   ],
   "source": [
    "#Metodo de compresion de lista\n",
    "lista=[numero for numero in range(0,11) if numero %2==0]\n",
    "print(lista)"
   ]
  },
  {
   "cell_type": "code",
   "execution_count": 12,
   "id": "e8c88b3c",
   "metadata": {},
   "outputs": [
    {
     "name": "stdout",
     "output_type": "stream",
     "text": [
      "[0, 1, 4, 9, 16, 25, 36, 49, 64, 81, 100]\n",
      "[0, 4, 16, 36, 64, 100]\n"
     ]
    }
   ],
   "source": [
    "#EJEMPLO MÁS COMPLEGO\n",
    "#Metodo tradicional \n",
    "lista=[]\n",
    "pares=[]\n",
    "for numero in range(0,11):\n",
    "    lista.append(numero**2)\n",
    "print(lista)\n",
    "for numero in lista:\n",
    "    if numero %2 ==0:\n",
    "        pares.append(numero)\n",
    "print(pares)        "
   ]
  },
  {
   "cell_type": "code",
   "execution_count": 11,
   "id": "dae968b5",
   "metadata": {},
   "outputs": [
    {
     "name": "stdout",
     "output_type": "stream",
     "text": [
      "[0, 4, 16, 36, 64, 100]\n"
     ]
    }
   ],
   "source": [
    "#Metodo con compresion de listas\n",
    "pares=[numero for numero in[numero**2 for numero in range(0,11)]if numero%2==0]\n",
    "print(pares)"
   ]
  }
 ],
 "metadata": {
  "kernelspec": {
   "display_name": "Python 3 (ipykernel)",
   "language": "python",
   "name": "python3"
  },
  "language_info": {
   "codemirror_mode": {
    "name": "ipython",
    "version": 3
   },
   "file_extension": ".py",
   "mimetype": "text/x-python",
   "name": "python",
   "nbconvert_exporter": "python",
   "pygments_lexer": "ipython3",
   "version": "3.10.8"
  }
 },
 "nbformat": 4,
 "nbformat_minor": 5
}
