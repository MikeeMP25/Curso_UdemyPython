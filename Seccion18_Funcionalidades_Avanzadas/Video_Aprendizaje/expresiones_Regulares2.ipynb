{
 "cells": [
  {
   "cell_type": "code",
   "execution_count": 3,
   "id": "8ffb7345",
   "metadata": {},
   "outputs": [
    {
     "data": {
      "text/plain": [
       "['hola']"
      ]
     },
     "execution_count": 3,
     "metadata": {},
     "output_type": "execute_result"
    }
   ],
   "source": [
    "import re\n",
    "texto=\"hla hola hoola hoooola\"\n",
    "re.findall(\"(hola|hello)\",texto)"
   ]
  },
  {
   "cell_type": "code",
   "execution_count": 4,
   "id": "40f726e7",
   "metadata": {},
   "outputs": [
    {
     "data": {
      "text/plain": [
       "['hola']"
      ]
     },
     "execution_count": 4,
     "metadata": {},
     "output_type": "execute_result"
    }
   ],
   "source": [
    "re.findall('hola',texto)"
   ]
  },
  {
   "cell_type": "code",
   "execution_count": 5,
   "id": "3f74c637",
   "metadata": {},
   "outputs": [
    {
     "name": "stdout",
     "output_type": "stream",
     "text": [
      "['hla']\n",
      "['hola']\n",
      "['hoola']\n"
     ]
    }
   ],
   "source": [
    "\n",
    "#Patrones con sintaxis repetida\n",
    "def buscar(patrones,texto):\n",
    "    for patron in patrones:\n",
    "        print(re.findall(patron,texto))\n",
    "\n",
    "patrones=['hla','hola','hoola']\n",
    "\n",
    "buscar(patrones,texto)"
   ]
  },
  {
   "cell_type": "code",
   "execution_count": 7,
   "id": "1a2c3248",
   "metadata": {},
   "outputs": [
    {
     "name": "stdout",
     "output_type": "stream",
     "text": [
      "['ho', 'ho', 'ho']\n",
      "['ho', 'hoo', 'hoo']\n",
      "['hola', 'hoola', 'hoola']\n"
     ]
    }
   ],
   "source": [
    "texto=\"hla hola hoola hoola\"\n",
    "patrones=['ho','ho+','ho+la']\n",
    "buscar(patrones,texto)"
   ]
  },
  {
   "cell_type": "code",
   "execution_count": 10,
   "id": "0ff8dee1",
   "metadata": {},
   "outputs": [
    {
     "name": "stdout",
     "output_type": "stream",
     "text": [
      "['ho', 'ho', 'ho']\n",
      "['h', 'ho', 'hoo', 'hoo']\n",
      "['hla', 'hola', 'hoola', 'hoola']\n",
      "['hla']\n"
     ]
    }
   ],
   "source": [
    "texto=\"hla hola hoola hoola\"\n",
    "patrones=['ho','ho*','ho*la','hu*la']\n",
    "buscar(patrones,texto)\n",
    "# * busca cero o mas repeticiones "
   ]
  },
  {
   "cell_type": "code",
   "execution_count": 13,
   "id": "b4a19dc8",
   "metadata": {},
   "outputs": [
    {
     "name": "stdout",
     "output_type": "stream",
     "text": [
      "['h', 'ho', 'hoo', 'hoo']\n",
      "['ho', 'hoo', 'hoo']\n",
      "['h', 'ho', 'ho', 'ho']\n",
      "['hla', 'hola']\n"
     ]
    }
   ],
   "source": [
    "texto=\"hla hola hoola hoola\"\n",
    "patrones=['ho*','ho+','ho?','ho?la']# * busca las que contenga ho al principio  \n",
    "buscar(patrones,texto)"
   ]
  },
  {
   "cell_type": "code",
   "execution_count": 14,
   "id": "8ce63c3d",
   "metadata": {},
   "outputs": [
    {
     "name": "stdout",
     "output_type": "stream",
     "text": [
      "['hla']\n"
     ]
    }
   ],
   "source": [
    "#Como ponemos el numero de repeticiones\n",
    "#Sintaxis con [n] Indica un numero de repeticiones explicito de la letra \n",
    "#a su izquierda\n",
    "texto=\"hla hola hoola hoola\"\n",
    "\n",
    "patrones=[\"ho{0}la\"]\n",
    "\n",
    "buscar(patrones,texto)"
   ]
  },
  {
   "cell_type": "code",
   "execution_count": 15,
   "id": "691a80c7",
   "metadata": {},
   "outputs": [
    {
     "name": "stdout",
     "output_type": "stream",
     "text": [
      "['hla', 'hola']\n",
      "['hola', 'hoola', 'hoola']\n",
      "['hoola', 'hoola']\n"
     ]
    }
   ],
   "source": [
    "texto=\"hla hola hoola hoola\"\n",
    "\n",
    "patrones=[\"ho{0,1}la\",'ho{1,2}la','ho{2,10}la']\n",
    "\n",
    "buscar(patrones,texto)"
   ]
  }
 ],
 "metadata": {
  "kernelspec": {
   "display_name": "Python 3 (ipykernel)",
   "language": "python",
   "name": "python3"
  },
  "language_info": {
   "codemirror_mode": {
    "name": "ipython",
    "version": 3
   },
   "file_extension": ".py",
   "mimetype": "text/x-python",
   "name": "python",
   "nbconvert_exporter": "python",
   "pygments_lexer": "ipython3",
   "version": "3.10.8"
  }
 },
 "nbformat": 4,
 "nbformat_minor": 5
}
