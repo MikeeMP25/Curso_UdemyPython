{
 "cells": [
  {
   "cell_type": "markdown",
   "id": "682d52b8",
   "metadata": {},
   "source": [
    "# Ambitos y funciones decoradoras"
   ]
  },
  {
   "cell_type": "markdown",
   "id": "ed7f2e25",
   "metadata": {},
   "source": [
    "Nota: Antes de realizar esta leccion debes reinicar jupyter Notebook para vaciar la memoria"
   ]
  },
  {
   "cell_type": "code",
   "execution_count": 1,
   "id": "c56c3014",
   "metadata": {},
   "outputs": [],
   "source": [
    "#python permite la flexibilidad en su funciones \n",
    "\n",
    "def hola():# El ambito global es el primer nivel del script python \n",
    "    \n",
    "    def bienvenido():\n",
    "        #Pero en cambio esta definicion solo existe dentro de nuestra funcion hola \n",
    "        #En el nivel secundiario\n",
    "        return \"Hola!\"\n",
    "    return bienvenido\n"
   ]
  },
  {
   "cell_type": "code",
   "execution_count": 2,
   "id": "1197e81c",
   "metadata": {},
   "outputs": [
    {
     "ename": "NameError",
     "evalue": "name 'binvenido' is not defined",
     "output_type": "error",
     "traceback": [
      "\u001b[0;31m---------------------------------------------------------------------------\u001b[0m",
      "\u001b[0;31mNameError\u001b[0m                                 Traceback (most recent call last)",
      "Cell \u001b[0;32mIn [2], line 1\u001b[0m\n\u001b[0;32m----> 1\u001b[0m \u001b[43mbinvenido\u001b[49m()\n",
      "\u001b[0;31mNameError\u001b[0m: name 'binvenido' is not defined"
     ]
    }
   ],
   "source": [
    "binvenido()\n",
    "#"
   ]
  },
  {
   "cell_type": "code",
   "execution_count": 3,
   "id": "e02458de",
   "metadata": {},
   "outputs": [
    {
     "data": {
      "text/plain": [
       "<function __main__.hola.<locals>.bienvenido()>"
      ]
     },
     "execution_count": 3,
     "metadata": {},
     "output_type": "execute_result"
    }
   ],
   "source": [
    "hola()\n",
    "#La funcion bienvenido es un funcion local de hola es global   "
   ]
  },
  {
   "cell_type": "code",
   "execution_count": 1,
   "id": "8cfb236b",
   "metadata": {},
   "outputs": [
    {
     "name": "stdout",
     "output_type": "stream",
     "text": [
      "{'__name__': '__main__', '__doc__': 'Automatically created module for IPython interactive environment', '__package__': None, '__loader__': None, '__spec__': None, '__builtin__': <module 'builtins' (built-in)>, '__builtins__': <module 'builtins' (built-in)>, '_ih': ['', 'lista=[1,2,3,4]\\ndef hola():# El ambito global es el primer nivel del script python \\n    numero=50\\n    def bienvenido():\\n        #Pero en cambio esta definicion solo existe dentro de nuestra funcion hola \\n        #En el nivel secundiario\\n        return \"Hola!\"\\n    #print(locals())\\n    print(globals())\\n    return bienvenido\\nhola()'], '_oh': {}, '_dh': [PosixPath('/Users/Desarrollo/Devolopment/python/pokemon/Curso_UdemyPython/Seccion18_Funcionalidades_Avanzadas/Video_Aprendizaje')], 'In': ['', 'lista=[1,2,3,4]\\ndef hola():# El ambito global es el primer nivel del script python \\n    numero=50\\n    def bienvenido():\\n        #Pero en cambio esta definicion solo existe dentro de nuestra funcion hola \\n        #En el nivel secundiario\\n        return \"Hola!\"\\n    #print(locals())\\n    print(globals())\\n    return bienvenido\\nhola()'], 'Out': {}, 'get_ipython': <bound method InteractiveShell.get_ipython of <ipykernel.zmqshell.ZMQInteractiveShell object at 0x107000af0>>, 'exit': <IPython.core.autocall.ZMQExitAutocall object at 0x107001270>, 'quit': <IPython.core.autocall.ZMQExitAutocall object at 0x107001270>, 'open': <function open at 0x105b45900>, '_': '', '__': '', '___': '', '_i': '', '_ii': '', '_iii': '', '_i1': 'lista=[1,2,3,4]\\ndef hola():# El ambito global es el primer nivel del script python \\n    numero=50\\n    def bienvenido():\\n        #Pero en cambio esta definicion solo existe dentro de nuestra funcion hola \\n        #En el nivel secundiario\\n        return \"Hola!\"\\n    #print(locals())\\n    print(globals())\\n    return bienvenido\\nhola()', 'lista': [1, 2, 3, 4], 'hola': <function hola at 0x107027130>}\n"
     ]
    },
    {
     "data": {
      "text/plain": [
       "<function __main__.hola.<locals>.bienvenido()>"
      ]
     },
     "execution_count": 1,
     "metadata": {},
     "output_type": "execute_result"
    }
   ],
   "source": [
    "lista=[1,2,3,4]\n",
    "def hola():# El ambito global es el primer nivel del script python \n",
    "    numero=50\n",
    "    def bienvenido():\n",
    "        #Pero en cambio esta definicion solo existe dentro de nuestra funcion hola \n",
    "        #En el nivel secundiario\n",
    "        return \"Hola!\"\n",
    "    #print(locals())\n",
    "    print(globals())\n",
    "    return bienvenido\n",
    "hola()"
   ]
  },
  {
   "cell_type": "code",
   "execution_count": 3,
   "id": "4411cd3a",
   "metadata": {},
   "outputs": [
    {
     "data": {
      "text/plain": [
       "dict_keys(['__name__', '__doc__', '__package__', '__loader__', '__spec__', '__builtin__', '__builtins__', '_ih', '_oh', '_dh', 'In', 'Out', 'get_ipython', 'exit', 'quit', 'open', '_', '__', '___', '_i', '_ii', '_iii', '_i1', 'lista', 'hola', '_1', '_i2', '_2', '_i3'])"
      ]
     },
     "execution_count": 3,
     "metadata": {},
     "output_type": "execute_result"
    }
   ],
   "source": [
    "globals().keys()"
   ]
  },
  {
   "cell_type": "code",
   "execution_count": 4,
   "id": "8e851cf4",
   "metadata": {},
   "outputs": [
    {
     "data": {
      "text/plain": [
       "[1, 2, 3, 4]"
      ]
     },
     "execution_count": 4,
     "metadata": {},
     "output_type": "execute_result"
    }
   ],
   "source": [
    "globals()[\"lista\"]#puedes mandar llamar desde variables globales "
   ]
  },
  {
   "cell_type": "code",
   "execution_count": 5,
   "id": "9f839d9d",
   "metadata": {},
   "outputs": [
    {
     "data": {
      "text/plain": [
       "[1, 2, 3, 4]"
      ]
     },
     "execution_count": 5,
     "metadata": {},
     "output_type": "execute_result"
    }
   ],
   "source": [
    "lista"
   ]
  },
  {
   "cell_type": "code",
   "execution_count": 6,
   "id": "53e17629",
   "metadata": {},
   "outputs": [
    {
     "data": {
      "text/plain": [
       "'Hola!'"
      ]
     },
     "execution_count": 6,
     "metadata": {},
     "output_type": "execute_result"
    }
   ],
   "source": [
    "def hola():\n",
    "    \n",
    "    def bienvenido():\n",
    "        return \"Hola!\"\n",
    "    return bienvenido\n",
    "hola()()#Ejecuto mi funcion hola y a su vez la funcion bienvenido hola() bienvenido()=hola()()"
   ]
  },
  {
   "cell_type": "code",
   "execution_count": 8,
   "id": "e154cf23",
   "metadata": {},
   "outputs": [
    {
     "data": {
      "text/plain": [
       "'Hola!'"
      ]
     },
     "execution_count": 8,
     "metadata": {},
     "output_type": "execute_result"
    }
   ],
   "source": [
    "bienvenido=hola()\n",
    "bienvenido()"
   ]
  },
  {
   "cell_type": "code",
   "execution_count": 9,
   "id": "00f71c0a",
   "metadata": {},
   "outputs": [],
   "source": [
    "del(hola)"
   ]
  },
  {
   "cell_type": "code",
   "execution_count": 10,
   "id": "bd2c5d75",
   "metadata": {},
   "outputs": [
    {
     "data": {
      "text/plain": [
       "'Hola!'"
      ]
     },
     "execution_count": 10,
     "metadata": {},
     "output_type": "execute_result"
    }
   ],
   "source": [
    "bienvenido()"
   ]
  },
  {
   "cell_type": "code",
   "execution_count": 11,
   "id": "dd5a7943",
   "metadata": {},
   "outputs": [
    {
     "name": "stdout",
     "output_type": "stream",
     "text": [
      "Hola!\n"
     ]
    }
   ],
   "source": [
    "def hola():\n",
    "    return \"Hola!\"\n",
    "def test(funcion):\n",
    "    print(funcion())\n",
    "    \n",
    "test(hola)    "
   ]
  },
  {
   "cell_type": "markdown",
   "id": "cde12630",
   "metadata": {},
   "source": [
    "# Las fucniones decoradoras   \n",
    "\n",
    "Nos permite extender el codigo ya creado y agregar nuevas funcionalidades \n"
   ]
  },
  {
   "cell_type": "code",
   "execution_count": 12,
   "id": "36aae165",
   "metadata": {},
   "outputs": [],
   "source": [
    "def hola():\n",
    "    print(\"Hola!\")\n",
    "def adios():\n",
    "    print(\"adios!\")"
   ]
  },
  {
   "cell_type": "code",
   "execution_count": 16,
   "id": "1bc0fe48",
   "metadata": {},
   "outputs": [],
   "source": [
    "def monitorizar(funcion):\n",
    "    def decorar():\n",
    "        print(\"\\t *Se esta apunto de ejecutar la funcion: \",funcion.__name__)\n",
    "        funcion()\n",
    "        print(\"\\t *Se ha finalizado la ejecucion de la funcion: \",funcion.__name__)\n",
    "        \n",
    "    return decorar"
   ]
  },
  {
   "cell_type": "code",
   "execution_count": 17,
   "id": "2b871197",
   "metadata": {},
   "outputs": [
    {
     "name": "stdout",
     "output_type": "stream",
     "text": [
      "\t *Se esta apunto de ejecutar la funcion:  hola\n",
      "Hola!\n",
      "\t *Se ha finalizado la ejecucion de la funcion:  hola\n"
     ]
    }
   ],
   "source": [
    "monitorizar(hola)()"
   ]
  },
  {
   "cell_type": "code",
   "execution_count": 18,
   "id": "cbdb44f4",
   "metadata": {},
   "outputs": [
    {
     "name": "stdout",
     "output_type": "stream",
     "text": [
      "\t *Se esta apunto de ejecutar la funcion:  adios\n",
      "adios!\n",
      "\t *Se ha finalizado la ejecucion de la funcion:  adios\n"
     ]
    }
   ],
   "source": [
    "monitorizar(adios)()"
   ]
  },
  {
   "cell_type": "code",
   "execution_count": 19,
   "id": "438bafa9",
   "metadata": {},
   "outputs": [],
   "source": [
    "#Nos permite hacer una funcion decoradora sobre un funcion normal \n",
    "@monitorizar\n",
    "def hola():\n",
    "    print(\"Hola!\")\n",
    "    \n",
    "@monitorizar    \n",
    "def adios():\n",
    "    print(\"adios!\")"
   ]
  },
  {
   "cell_type": "code",
   "execution_count": 20,
   "id": "17a8e4e0",
   "metadata": {},
   "outputs": [
    {
     "name": "stdout",
     "output_type": "stream",
     "text": [
      "\t *Se esta apunto de ejecutar la funcion:  hola\n",
      "Hola!\n",
      "\t *Se ha finalizado la ejecucion de la funcion:  hola\n"
     ]
    }
   ],
   "source": [
    "hola()"
   ]
  },
  {
   "cell_type": "code",
   "execution_count": 21,
   "id": "e279f977",
   "metadata": {},
   "outputs": [
    {
     "name": "stdout",
     "output_type": "stream",
     "text": [
      "\t *Se esta apunto de ejecutar la funcion:  saludar\n",
      "buenos dias!\n",
      "\t *Se ha finalizado la ejecucion de la funcion:  saludar\n"
     ]
    }
   ],
   "source": [
    "@monitorizar\n",
    "def saludar():\n",
    "    print(\"buenos dias!\")\n",
    "saludar()    "
   ]
  },
  {
   "cell_type": "code",
   "execution_count": 27,
   "id": "97e6b330",
   "metadata": {},
   "outputs": [],
   "source": [
    "#ARGS argumentos\n",
    "\n",
    "def monitorizar_args(funcion):\n",
    "    def decorar(*args,**kwargs):\n",
    "        print(\"\\t *Se esta apunto de ejecutar la funcion: \",funcion.__name__)\n",
    "        funcion(*args,**kwargs)\n",
    "        print(\"\\t *Se ha finalizado la ejecucion de la funcion: \",funcion.__name__)\n",
    "    return decorar\n"
   ]
  },
  {
   "cell_type": "code",
   "execution_count": 28,
   "id": "fe1496a0",
   "metadata": {},
   "outputs": [],
   "source": [
    "@monitorizar_args #para automatizar la funciones decorativas \n",
    "def hola(nombre):\n",
    "    print(\"hola{}!\".format(nombre))\n",
    "\n",
    "@monitorizar_args\n",
    "def adios(nombre):\n",
    "    print(\"Adios{}!\".format(nombre))"
   ]
  },
  {
   "cell_type": "code",
   "execution_count": 29,
   "id": "011289a2",
   "metadata": {},
   "outputs": [
    {
     "name": "stdout",
     "output_type": "stream",
     "text": [
      "\t *Se esta apunto de ejecutar la funcion:  hola\n",
      "holahector!\n",
      "\t *Se ha finalizado la ejecucion de la funcion:  hola\n"
     ]
    }
   ],
   "source": [
    "hola(\"hector\")"
   ]
  },
  {
   "cell_type": "code",
   "execution_count": null,
   "id": "71191a5f",
   "metadata": {},
   "outputs": [],
   "source": []
  }
 ],
 "metadata": {
  "kernelspec": {
   "display_name": "Python 3 (ipykernel)",
   "language": "python",
   "name": "python3"
  },
  "language_info": {
   "codemirror_mode": {
    "name": "ipython",
    "version": 3
   },
   "file_extension": ".py",
   "mimetype": "text/x-python",
   "name": "python",
   "nbconvert_exporter": "python",
   "pygments_lexer": "ipython3",
   "version": "3.10.8"
  }
 },
 "nbformat": 4,
 "nbformat_minor": 5
}
