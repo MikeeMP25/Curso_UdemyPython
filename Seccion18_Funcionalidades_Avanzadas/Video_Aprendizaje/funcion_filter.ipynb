{
 "cells": [
  {
   "cell_type": "code",
   "execution_count": 1,
   "id": "38902b19",
   "metadata": {},
   "outputs": [
    {
     "data": {
      "text/plain": [
       "<filter at 0x10c922500>"
      ]
     },
     "execution_count": 1,
     "metadata": {},
     "output_type": "execute_result"
    }
   ],
   "source": [
    "numeros=[2,5,10,23,50,33]\n",
    "\n",
    "def multiple(numero):\n",
    "    if numero %5==0:\n",
    "        return True\n",
    "filter(multiple,numeros)"
   ]
  },
  {
   "cell_type": "code",
   "execution_count": 3,
   "id": "8b084571",
   "metadata": {},
   "outputs": [
    {
     "data": {
      "text/plain": [
       "[5, 10, 50]"
      ]
     },
     "execution_count": 3,
     "metadata": {},
     "output_type": "execute_result"
    }
   ],
   "source": [
    "list(filter(multiple,numeros))\n",
    "#En el filtro le pasamos la funcion multiple y la lista de numeros"
   ]
  },
  {
   "cell_type": "code",
   "execution_count": 4,
   "id": "7156dad9",
   "metadata": {},
   "outputs": [
    {
     "data": {
      "text/plain": [
       "5"
      ]
     },
     "execution_count": 4,
     "metadata": {},
     "output_type": "execute_result"
    }
   ],
   "source": [
    "#guardamos la funcion filter en una variable f \n",
    "f=filter(multiple,numeros)#iterando este filtro\n",
    "next(f)"
   ]
  },
  {
   "cell_type": "code",
   "execution_count": 5,
   "id": "4bf4d239",
   "metadata": {},
   "outputs": [
    {
     "data": {
      "text/plain": [
       "10"
      ]
     },
     "execution_count": 5,
     "metadata": {},
     "output_type": "execute_result"
    }
   ],
   "source": [
    "next(f)#podemos obtener uno a uno todos los elementos iterando de este filtro "
   ]
  },
  {
   "cell_type": "code",
   "execution_count": 6,
   "id": "714bb5d8",
   "metadata": {},
   "outputs": [
    {
     "data": {
      "text/plain": [
       "50"
      ]
     },
     "execution_count": 6,
     "metadata": {},
     "output_type": "execute_result"
    }
   ],
   "source": [
    "next(f)"
   ]
  },
  {
   "cell_type": "code",
   "execution_count": 7,
   "id": "827c731a",
   "metadata": {},
   "outputs": [
    {
     "data": {
      "text/plain": [
       "[5, 10, 50]"
      ]
     },
     "execution_count": 7,
     "metadata": {},
     "output_type": "execute_result"
    }
   ],
   "source": [
    "#Nos podemos ahorrar codigo si hacemos lo siguiente\n",
    "#Utilizando expresiones lambda y funciones anominas para generarla\n",
    "\n",
    "list(filter(lambda numero:numero%5==0,numeros))\n",
    "#el filtro /usamos una funcion anonima lambda y una lista de numeros"
   ]
  },
  {
   "cell_type": "code",
   "execution_count": 14,
   "id": "1fdf5c71",
   "metadata": {},
   "outputs": [
    {
     "data": {
      "text/plain": [
       "[<__main__.Persona at 0x10d5c4550>,\n",
       " <__main__.Persona at 0x10d5d6200>,\n",
       " <__main__.Persona at 0x10d5d71f0>,\n",
       " <__main__.Persona at 0x10d5d4820>]"
      ]
     },
     "execution_count": 14,
     "metadata": {},
     "output_type": "execute_result"
    }
   ],
   "source": [
    "class Persona:\n",
    "    \n",
    "    def __init__(self,nombre,edad):\n",
    "        self.nombre=nombre\n",
    "        self.edad=edad\n",
    "        \n",
    "    def __str__(self):\n",
    "        return \"{} de {} años \".format(self.nombre,self.edad)\n",
    "\n",
    "personas=[\n",
    "    Persona(\"Juan\",35),\n",
    "    Persona(\"Jesus\",16),\n",
    "    Persona(\"Manuel\",61),\n",
    "    Persona(\"Eduardo\",17)\n",
    "]\n",
    "personas"
   ]
  },
  {
   "cell_type": "code",
   "execution_count": 15,
   "id": "0f6d5493",
   "metadata": {},
   "outputs": [],
   "source": [
    "#Utilizamos un filtro en personas para obtener una lista personal de menores de edad\n",
    "menores=filter(lambda persona:persona.edad < 18,personas)\n",
    "#es un objeto de filtro "
   ]
  },
  {
   "cell_type": "code",
   "execution_count": 16,
   "id": "f2fcf952",
   "metadata": {},
   "outputs": [
    {
     "name": "stdout",
     "output_type": "stream",
     "text": [
      "Jesus de 16 años \n",
      "Eduardo de 17 años \n"
     ]
    }
   ],
   "source": [
    "for menor in menores:\n",
    "    print(menor)"
   ]
  }
 ],
 "metadata": {
  "kernelspec": {
   "display_name": "Python 3 (ipykernel)",
   "language": "python",
   "name": "python3"
  },
  "language_info": {
   "codemirror_mode": {
    "name": "ipython",
    "version": 3
   },
   "file_extension": ".py",
   "mimetype": "text/x-python",
   "name": "python",
   "nbconvert_exporter": "python",
   "pygments_lexer": "ipython3",
   "version": "3.10.8"
  }
 },
 "nbformat": 4,
 "nbformat_minor": 5
}
