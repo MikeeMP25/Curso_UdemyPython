{
 "cells": [
  {
   "cell_type": "markdown",
   "id": "682d52b8",
   "metadata": {},
   "source": [
    "# Ambitos y funciones decoradoras"
   ]
  },
  {
   "cell_type": "markdown",
   "id": "ed7f2e25",
   "metadata": {},
   "source": [
    "Nota: Antes de realizar esta leccion debes reinicar jupyter Notebook para vaciar la memoria"
   ]
  },
  {
   "cell_type": "code",
   "execution_count": 1,
   "id": "c56c3014",
   "metadata": {},
   "outputs": [],
   "source": [
    "#python permite la flexibilidad en su funciones \n",
    "\n",
    "def hola():# El ambito global es el primer nivel del script python \n",
    "    \n",
    "    def bienvenido():\n",
    "        #Pero en cambio esta definicion solo existe dentro de nuestra funcion hola \n",
    "        #En el nivel secundiario\n",
    "        return \"Hola!\"\n",
    "    return bienvenido\n"
   ]
  },
  {
   "cell_type": "code",
   "execution_count": 2,
   "id": "1197e81c",
   "metadata": {},
   "outputs": [
    {
     "ename": "NameError",
     "evalue": "name 'binvenido' is not defined",
     "output_type": "error",
     "traceback": [
      "\u001b[0;31m---------------------------------------------------------------------------\u001b[0m",
      "\u001b[0;31mNameError\u001b[0m                                 Traceback (most recent call last)",
      "Cell \u001b[0;32mIn [2], line 1\u001b[0m\n\u001b[0;32m----> 1\u001b[0m \u001b[43mbinvenido\u001b[49m()\n",
      "\u001b[0;31mNameError\u001b[0m: name 'binvenido' is not defined"
     ]
    }
   ],
   "source": [
    "binvenido()\n",
    "#"
   ]
  },
  {
   "cell_type": "code",
   "execution_count": 3,
   "id": "e02458de",
   "metadata": {},
   "outputs": [
    {
     "data": {
      "text/plain": [
       "<function __main__.hola.<locals>.bienvenido()>"
      ]
     },
     "execution_count": 3,
     "metadata": {},
     "output_type": "execute_result"
    }
   ],
   "source": [
    "hola()\n",
    "#La funcion bienvenido es un funcion local de hola la global   "
   ]
  },
  {
   "cell_type": "code",
   "execution_count": 5,
   "id": "8cfb236b",
   "metadata": {},
   "outputs": [
    {
     "name": "stdout",
     "output_type": "stream",
     "text": [
      "{'numero': 50, 'bienvenido': <function hola.<locals>.bienvenido at 0x110ef2a70>}\n"
     ]
    },
    {
     "data": {
      "text/plain": [
       "<function __main__.hola.<locals>.bienvenido()>"
      ]
     },
     "execution_count": 5,
     "metadata": {},
     "output_type": "execute_result"
    }
   ],
   "source": [
    "def hola():# El ambito global es el primer nivel del script python \n",
    "    numero=50\n",
    "    def bienvenido():\n",
    "        #Pero en cambio esta definicion solo existe dentro de nuestra funcion hola \n",
    "        #En el nivel secundiario\n",
    "        return \"Hola!\"\n",
    "    print(locals())\n",
    "    return bienvenido\n",
    "hola()"
   ]
  },
  {
   "cell_type": "code",
   "execution_count": null,
   "id": "4411cd3a",
   "metadata": {},
   "outputs": [],
   "source": []
  }
 ],
 "metadata": {
  "kernelspec": {
   "display_name": "Python 3 (ipykernel)",
   "language": "python",
   "name": "python3"
  },
  "language_info": {
   "codemirror_mode": {
    "name": "ipython",
    "version": 3
   },
   "file_extension": ".py",
   "mimetype": "text/x-python",
   "name": "python",
   "nbconvert_exporter": "python",
   "pygments_lexer": "ipython3",
   "version": "3.10.8"
  }
 },
 "nbformat": 4,
 "nbformat_minor": 5
}
