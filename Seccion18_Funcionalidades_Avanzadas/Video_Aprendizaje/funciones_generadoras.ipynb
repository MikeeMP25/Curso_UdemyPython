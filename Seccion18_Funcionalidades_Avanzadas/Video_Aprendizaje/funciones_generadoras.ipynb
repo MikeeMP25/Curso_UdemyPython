{
 "cells": [
  {
   "cell_type": "code",
   "execution_count": 1,
   "id": "e808a21f",
   "metadata": {},
   "outputs": [
    {
     "data": {
      "text/plain": [
       "[0, 2, 4]"
      ]
     },
     "execution_count": 1,
     "metadata": {},
     "output_type": "execute_result"
    }
   ],
   "source": [
    "[numero for numero in[0,1,2,3,4,5]if numero%2==0]"
   ]
  },
  {
   "cell_type": "code",
   "execution_count": 2,
   "id": "f06e3247",
   "metadata": {},
   "outputs": [
    {
     "data": {
      "text/plain": [
       "[0, 2, 4]"
      ]
     },
     "execution_count": 2,
     "metadata": {},
     "output_type": "execute_result"
    }
   ],
   "source": [
    "#funciones generadoras\n",
    "[numero for numero in range(0,6)if numero%2==0]"
   ]
  },
  {
   "cell_type": "code",
   "execution_count": 3,
   "id": "e7197bbb",
   "metadata": {},
   "outputs": [
    {
     "data": {
      "text/plain": [
       "<generator object pares at 0x111357b50>"
      ]
     },
     "execution_count": 3,
     "metadata": {},
     "output_type": "execute_result"
    }
   ],
   "source": [
    "#crear nuestra propia funcion generadora pares\n",
    "#mostrar solo los numeros pares \n",
    "def pares(n):\n",
    "    for numero in range(n+1):\n",
    "        if numero %2 ==0:\n",
    "            yield numero#es seder el numero \n",
    "pares(10)#obtenemos un objeto de tipo generador esto se puede recorrer \n",
    "#ESTO SON ITERADORES NOS PERMITE CONTROLAR EL PROCESO DE GENERACION"
   ]
  },
  {
   "cell_type": "code",
   "execution_count": 4,
   "id": "0192bb58",
   "metadata": {},
   "outputs": [
    {
     "name": "stdout",
     "output_type": "stream",
     "text": [
      "0\n",
      "2\n",
      "4\n",
      "6\n",
      "8\n",
      "10\n"
     ]
    }
   ],
   "source": [
    "#Recorrido de con la funcion generadora\n",
    "for numero in pares(10):\n",
    "    print(numero)"
   ]
  },
  {
   "cell_type": "code",
   "execution_count": 5,
   "id": "2d364ccf",
   "metadata": {},
   "outputs": [
    {
     "data": {
      "text/plain": [
       "[0, 2, 4, 6, 8, 10]"
      ]
     },
     "execution_count": 5,
     "metadata": {},
     "output_type": "execute_result"
    }
   ],
   "source": [
    "[numero for numero in pares(10)]"
   ]
  },
  {
   "cell_type": "code",
   "execution_count": 6,
   "id": "1a5d0d5a",
   "metadata": {},
   "outputs": [
    {
     "data": {
      "text/plain": [
       "0"
      ]
     },
     "execution_count": 6,
     "metadata": {},
     "output_type": "execute_result"
    }
   ],
   "source": [
    "#INTERADOR MANUAL\n",
    "pares=pares(3)\n",
    "next(pares)"
   ]
  },
  {
   "cell_type": "code",
   "execution_count": 7,
   "id": "944ff77d",
   "metadata": {},
   "outputs": [
    {
     "data": {
      "text/plain": [
       "2"
      ]
     },
     "execution_count": 7,
     "metadata": {},
     "output_type": "execute_result"
    }
   ],
   "source": [
    "next(pares)"
   ]
  },
  {
   "cell_type": "code",
   "execution_count": 8,
   "id": "58186b72",
   "metadata": {},
   "outputs": [
    {
     "ename": "StopIteration",
     "evalue": "",
     "output_type": "error",
     "traceback": [
      "\u001b[0;31m---------------------------------------------------------------------------\u001b[0m",
      "\u001b[0;31mStopIteration\u001b[0m                             Traceback (most recent call last)",
      "Cell \u001b[0;32mIn [8], line 1\u001b[0m\n\u001b[0;32m----> 1\u001b[0m \u001b[38;5;28;43mnext\u001b[39;49m\u001b[43m(\u001b[49m\u001b[43mpares\u001b[49m\u001b[43m)\u001b[49m\n",
      "\u001b[0;31mStopIteration\u001b[0m: "
     ]
    }
   ],
   "source": [
    "next(pares)"
   ]
  },
  {
   "cell_type": "code",
   "execution_count": 9,
   "id": "4faad0fc",
   "metadata": {},
   "outputs": [
    {
     "ename": "TypeError",
     "evalue": "'list' object is not an iterator",
     "output_type": "error",
     "traceback": [
      "\u001b[0;31m---------------------------------------------------------------------------\u001b[0m",
      "\u001b[0;31mTypeError\u001b[0m                                 Traceback (most recent call last)",
      "Cell \u001b[0;32mIn [9], line 2\u001b[0m\n\u001b[1;32m      1\u001b[0m lista\u001b[38;5;241m=\u001b[39m[\u001b[38;5;241m1\u001b[39m,\u001b[38;5;241m2\u001b[39m,\u001b[38;5;241m3\u001b[39m,\u001b[38;5;241m4\u001b[39m,\u001b[38;5;241m5\u001b[39m]\n\u001b[0;32m----> 2\u001b[0m \u001b[38;5;28;43mnext\u001b[39;49m\u001b[43m(\u001b[49m\u001b[43mlista\u001b[49m\u001b[43m)\u001b[49m\n",
      "\u001b[0;31mTypeError\u001b[0m: 'list' object is not an iterator"
     ]
    }
   ],
   "source": [
    "#las lista no son iteradores\n",
    "lista=[1,2,3,4,5]\n",
    "next(lista)"
   ]
  },
  {
   "cell_type": "code",
   "execution_count": 10,
   "id": "cf915a17",
   "metadata": {},
   "outputs": [
    {
     "ename": "TypeError",
     "evalue": "next expected at least 1 argument, got 0",
     "output_type": "error",
     "traceback": [
      "\u001b[0;31m---------------------------------------------------------------------------\u001b[0m",
      "\u001b[0;31mTypeError\u001b[0m                                 Traceback (most recent call last)",
      "Cell \u001b[0;32mIn [10], line 3\u001b[0m\n\u001b[1;32m      1\u001b[0m \u001b[38;5;66;03m#las cadena no son iteradores\u001b[39;00m\n\u001b[1;32m      2\u001b[0m cadena\u001b[38;5;241m=\u001b[39m\u001b[38;5;124m\"\u001b[39m\u001b[38;5;124mHola mundo\u001b[39m\u001b[38;5;124m\"\u001b[39m\n\u001b[0;32m----> 3\u001b[0m \u001b[38;5;28;43mnext\u001b[39;49m\u001b[43m(\u001b[49m\u001b[43m)\u001b[49m\n",
      "\u001b[0;31mTypeError\u001b[0m: next expected at least 1 argument, got 0"
     ]
    }
   ],
   "source": [
    "#las cadena no son iteradores\n",
    "cadena=\"Hola mundo\"\n",
    "next()"
   ]
  },
  {
   "cell_type": "code",
   "execution_count": 11,
   "id": "b1de2df8",
   "metadata": {},
   "outputs": [
    {
     "data": {
      "text/plain": [
       "<list_iterator at 0x111ba46d0>"
      ]
     },
     "execution_count": 11,
     "metadata": {},
     "output_type": "execute_result"
    }
   ],
   "source": [
    "#podemos convertir la lista en un iterable\n",
    "lista=[1,2,3,4,5]\n",
    "lista_iterable=iter(lista)\n",
    "lista_iterable"
   ]
  },
  {
   "cell_type": "code",
   "execution_count": 12,
   "id": "e5dbfb41",
   "metadata": {},
   "outputs": [
    {
     "data": {
      "text/plain": [
       "1"
      ]
     },
     "execution_count": 12,
     "metadata": {},
     "output_type": "execute_result"
    }
   ],
   "source": [
    "#ahora si podemos ocupar la funcion next()\n",
    "next(lista_iterable)"
   ]
  },
  {
   "cell_type": "code",
   "execution_count": 13,
   "id": "79b36742",
   "metadata": {},
   "outputs": [
    {
     "data": {
      "text/plain": [
       "2"
      ]
     },
     "execution_count": 13,
     "metadata": {},
     "output_type": "execute_result"
    }
   ],
   "source": [
    "next(lista_iterable)"
   ]
  },
  {
   "cell_type": "code",
   "execution_count": 14,
   "id": "d06b48b3",
   "metadata": {},
   "outputs": [
    {
     "data": {
      "text/plain": [
       "3"
      ]
     },
     "execution_count": 14,
     "metadata": {},
     "output_type": "execute_result"
    }
   ],
   "source": [
    "next(lista_iterable)"
   ]
  },
  {
   "cell_type": "code",
   "execution_count": 15,
   "id": "abe65063",
   "metadata": {},
   "outputs": [
    {
     "data": {
      "text/plain": [
       "'H'"
      ]
     },
     "execution_count": 15,
     "metadata": {},
     "output_type": "execute_result"
    }
   ],
   "source": [
    "cadena=\"Hola\"\n",
    "cadena_iterable=iter(cadena)\n",
    "next(cadena_iterable)"
   ]
  },
  {
   "cell_type": "code",
   "execution_count": 20,
   "id": "a2efa5c1",
   "metadata": {},
   "outputs": [],
   "source": [
    "def cuadrados(numero):\n",
    "    for numeros in range(1,numero+1):\n",
    "        yield numeros,numeros**2\n",
    "        "
   ]
  },
  {
   "cell_type": "code",
   "execution_count": 19,
   "id": "560a879f",
   "metadata": {},
   "outputs": [
    {
     "name": "stdout",
     "output_type": "stream",
     "text": [
      "4\n"
     ]
    }
   ],
   "source": [
    "n=2\n",
    "r=n**2\n",
    "print(r)"
   ]
  },
  {
   "cell_type": "code",
   "execution_count": 17,
   "id": "ac50a69a",
   "metadata": {},
   "outputs": [
    {
     "data": {
      "text/plain": [
       "1"
      ]
     },
     "execution_count": 17,
     "metadata": {},
     "output_type": "execute_result"
    }
   ],
   "source": [
    "r"
   ]
  },
  {
   "cell_type": "code",
   "execution_count": 21,
   "id": "9d297196",
   "metadata": {},
   "outputs": [
    {
     "data": {
      "text/plain": [
       "<generator object cuadrados at 0x112036ea0>"
      ]
     },
     "execution_count": 21,
     "metadata": {},
     "output_type": "execute_result"
    }
   ],
   "source": [
    "cuadrados(10)"
   ]
  },
  {
   "cell_type": "code",
   "execution_count": 23,
   "id": "f35f0562",
   "metadata": {},
   "outputs": [
    {
     "data": {
      "text/plain": [
       "[(1, 1), (2, 4), (3, 9), (4, 16), (5, 25)]"
      ]
     },
     "execution_count": 23,
     "metadata": {},
     "output_type": "execute_result"
    }
   ],
   "source": [
    "[numero for numero in cuadrados(5)]"
   ]
  },
  {
   "cell_type": "code",
   "execution_count": null,
   "id": "5fb78d69",
   "metadata": {},
   "outputs": [],
   "source": []
  }
 ],
 "metadata": {
  "kernelspec": {
   "display_name": "Python 3 (ipykernel)",
   "language": "python",
   "name": "python3"
  },
  "language_info": {
   "codemirror_mode": {
    "name": "ipython",
    "version": 3
   },
   "file_extension": ".py",
   "mimetype": "text/x-python",
   "name": "python",
   "nbconvert_exporter": "python",
   "pygments_lexer": "ipython3",
   "version": "3.10.8"
  }
 },
 "nbformat": 4,
 "nbformat_minor": 5
}
