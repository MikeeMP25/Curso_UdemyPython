{
 "cells": [
  {
   "cell_type": "code",
   "execution_count": 1,
   "id": "99100cb1",
   "metadata": {},
   "outputs": [
    {
     "data": {
      "text/plain": [
       "10"
      ]
     },
     "execution_count": 1,
     "metadata": {},
     "output_type": "execute_result"
    }
   ],
   "source": [
    "#las funciones lambda permite hacer funciones anominas\n",
    "#Ejemplo\n",
    "def doblar(n):\n",
    "    result=n*2\n",
    "    return result\n",
    "doblar(5)"
   ]
  },
  {
   "cell_type": "code",
   "execution_count": 2,
   "id": "64032363",
   "metadata": {},
   "outputs": [
    {
     "data": {
      "text/plain": [
       "12"
      ]
     },
     "execution_count": 2,
     "metadata": {},
     "output_type": "execute_result"
    }
   ],
   "source": [
    "#ahi que simplificar la funcion \n",
    "def doblar(n):\n",
    "    return n*2\n",
    "doblar(6)"
   ]
  },
  {
   "cell_type": "code",
   "execution_count": 3,
   "id": "2df6f1b1",
   "metadata": {},
   "outputs": [
    {
     "data": {
      "text/plain": [
       "14"
      ]
     },
     "execution_count": 3,
     "metadata": {},
     "output_type": "execute_result"
    }
   ],
   "source": [
    "#simplificamos a una linea de codigo\n",
    "def doblar(n):return n*2\n",
    "\n",
    "doblar(7)"
   ]
  },
  {
   "cell_type": "code",
   "execution_count": 4,
   "id": "8551263a",
   "metadata": {},
   "outputs": [
    {
     "data": {
      "text/plain": [
       "<function __main__.<lambda>(num)>"
      ]
     },
     "execution_count": 4,
     "metadata": {},
     "output_type": "execute_result"
    }
   ],
   "source": [
    "#usamos funciones lambda es una funcion anonima pero las simplicado posible \n",
    "#la expresion codigo\n",
    "lambda num: num *2\n",
    "#para utilizar esta funcion necesitamos guardarlo en una variable"
   ]
  },
  {
   "cell_type": "code",
   "execution_count": 5,
   "id": "a56794f6",
   "metadata": {},
   "outputs": [],
   "source": [
    "doblar=lambda num: num *2"
   ]
  },
  {
   "cell_type": "code",
   "execution_count": 6,
   "id": "509be668",
   "metadata": {},
   "outputs": [
    {
     "data": {
      "text/plain": [
       "8"
      ]
     },
     "execution_count": 6,
     "metadata": {},
     "output_type": "execute_result"
    }
   ],
   "source": [
    "doblar(4)"
   ]
  },
  {
   "cell_type": "code",
   "execution_count": 7,
   "id": "17ef61a1",
   "metadata": {},
   "outputs": [],
   "source": [
    "impar=lambda n: n%2 != 0"
   ]
  },
  {
   "cell_type": "code",
   "execution_count": 8,
   "id": "1e5fdf34",
   "metadata": {},
   "outputs": [
    {
     "data": {
      "text/plain": [
       "True"
      ]
     },
     "execution_count": 8,
     "metadata": {},
     "output_type": "execute_result"
    }
   ],
   "source": [
    "impar(5)"
   ]
  },
  {
   "cell_type": "code",
   "execution_count": 9,
   "id": "1c41d205",
   "metadata": {},
   "outputs": [
    {
     "data": {
      "text/plain": [
       "'aloh'"
      ]
     },
     "execution_count": 9,
     "metadata": {},
     "output_type": "execute_result"
    }
   ],
   "source": [
    "revertir=lambda cadena: cadena[::-1]\n",
    "revertir(\"hola\")"
   ]
  },
  {
   "cell_type": "code",
   "execution_count": 10,
   "id": "9fb84e27",
   "metadata": {},
   "outputs": [
    {
     "data": {
      "text/plain": [
       "35"
      ]
     },
     "execution_count": 10,
     "metadata": {},
     "output_type": "execute_result"
    }
   ],
   "source": [
    "sumar = lambda x,y:x+y\n",
    "sumar(10,25)"
   ]
  }
 ],
 "metadata": {
  "kernelspec": {
   "display_name": "Python 3 (ipykernel)",
   "language": "python",
   "name": "python3"
  },
  "language_info": {
   "codemirror_mode": {
    "name": "ipython",
    "version": 3
   },
   "file_extension": ".py",
   "mimetype": "text/x-python",
   "name": "python",
   "nbconvert_exporter": "python",
   "pygments_lexer": "ipython3",
   "version": "3.10.8"
  }
 },
 "nbformat": 4,
 "nbformat_minor": 5
}
