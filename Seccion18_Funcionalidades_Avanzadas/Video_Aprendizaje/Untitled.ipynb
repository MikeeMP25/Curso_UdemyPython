{
 "cells": [
  {
   "cell_type": "markdown",
   "id": "85aee0ee",
   "metadata": {},
   "source": [
    "# Operadores encadenados\n"
   ]
  },
  {
   "cell_type": "code",
   "execution_count": 1,
   "id": "30555c67",
   "metadata": {},
   "outputs": [
    {
     "data": {
      "text/plain": [
       "True"
      ]
     },
     "execution_count": 1,
     "metadata": {},
     "output_type": "execute_result"
    }
   ],
   "source": [
    "#Podemos hacer validar de una forma mas simple y menos codigo\n",
    "#Aqu iestamos validando si 2 es mayor que 1 y 2 es menor que 3 =true\n",
    "1<2 and 2<3"
   ]
  },
  {
   "cell_type": "code",
   "execution_count": 2,
   "id": "d723855c",
   "metadata": {},
   "outputs": [
    {
     "data": {
      "text/plain": [
       "True"
      ]
     },
     "execution_count": 2,
     "metadata": {},
     "output_type": "execute_result"
    }
   ],
   "source": [
    "#aqui simplificamos lo anterio 1 es menor que 2 y 2 es menor que 3 =true\n",
    "1 < 2 < 3"
   ]
  },
  {
   "cell_type": "code",
   "execution_count": 3,
   "id": "702920e9",
   "metadata": {},
   "outputs": [
    {
     "data": {
      "text/plain": [
       "True"
      ]
     },
     "execution_count": 3,
     "metadata": {},
     "output_type": "execute_result"
    }
   ],
   "source": [
    "# o 3 es mayor 2 y 2 es mayor 1 \n",
    "3 > 2 >1"
   ]
  },
  {
   "cell_type": "code",
   "execution_count": 4,
   "id": "12a464c2",
   "metadata": {},
   "outputs": [
    {
     "data": {
      "text/plain": [
       "True"
      ]
     },
     "execution_count": 4,
     "metadata": {},
     "output_type": "execute_result"
    }
   ],
   "source": [
    "#otro ejemplo de sintaxis la logica \n",
    "(3 > 2) and (2 > 1)"
   ]
  },
  {
   "cell_type": "code",
   "execution_count": 5,
   "id": "b275424b",
   "metadata": {},
   "outputs": [
    {
     "data": {
      "text/plain": [
       "False"
      ]
     },
     "execution_count": 5,
     "metadata": {},
     "output_type": "execute_result"
    }
   ],
   "source": [
    "#Al mas simplificativo \n",
    "(3>2) > 1\n",
    "#NOTA: NO PUEDES HACER ESTE TIPO DE VALIDACIONES  "
   ]
  },
  {
   "cell_type": "code",
   "execution_count": 7,
   "id": "4b161c56",
   "metadata": {},
   "outputs": [
    {
     "name": "stdout",
     "output_type": "stream",
     "text": [
      "El numero 35 se encuentra entre 0 y 100. \n"
     ]
    }
   ],
   "source": [
    "#EJEMPLO: queremos validar un numero que sea mayor a 0 y menor que 100\n",
    "numero=35\n",
    "if numero >=0 and numero <=100:\n",
    "    print(\"El numero {} se encuentra entre 0 y 100. \".format(numero))\n",
    "else:\n",
    "    print(\"El numero {} no se encuentra entre 0 y 100. \".format(numero))"
   ]
  },
  {
   "cell_type": "code",
   "execution_count": 8,
   "id": "3304b5f0",
   "metadata": {},
   "outputs": [
    {
     "name": "stdout",
     "output_type": "stream",
     "text": [
      "El numero 101 no se encuentra entre 0 y 100. \n"
     ]
    }
   ],
   "source": [
    "#EJEMPLO DE OPERADORES ENCADENADOS \n",
    "numero=101\n",
    "if 0 <= numero <=100:\n",
    "    print(\"El numero {} se encuentra entre 0 y 100. \".format(numero))\n",
    "else:\n",
    "    print(\"El numero {} no se encuentra entre 0 y 100. \".format(numero))"
   ]
  },
  {
   "cell_type": "markdown",
   "id": "dea6f746",
   "metadata": {},
   "source": [
    "No tiene mucha ciencia..!! \n",
    "Lo que tienes que hacer es buscar un elemento en comun en la expresion e intentar readaptar la validacion para poder cumplir con la teoria y se va comprobar cada resultado de minima expresion y relacionarlas con una"
   ]
  }
 ],
 "metadata": {
  "kernelspec": {
   "display_name": "Python 3 (ipykernel)",
   "language": "python",
   "name": "python3"
  },
  "language_info": {
   "codemirror_mode": {
    "name": "ipython",
    "version": 3
   },
   "file_extension": ".py",
   "mimetype": "text/x-python",
   "name": "python",
   "nbconvert_exporter": "python",
   "pygments_lexer": "ipython3",
   "version": "3.10.8"
  }
 },
 "nbformat": 4,
 "nbformat_minor": 5
}
