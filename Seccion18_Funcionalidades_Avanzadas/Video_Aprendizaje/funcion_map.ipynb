{
 "cells": [
  {
   "cell_type": "code",
   "execution_count": 1,
   "id": "15076624",
   "metadata": {},
   "outputs": [
    {
     "data": {
      "text/plain": [
       "<map at 0x10bab9390>"
      ]
     },
     "execution_count": 1,
     "metadata": {},
     "output_type": "execute_result"
    }
   ],
   "source": [
    "#Funcion map()\n",
    "\n",
    "numeros=[2,5,10,23,50,33]\n",
    "def dolar(n):\n",
    "    return n*2\n",
    "map(dolar,numeros)"
   ]
  },
  {
   "cell_type": "code",
   "execution_count": 2,
   "id": "883befed",
   "metadata": {},
   "outputs": [
    {
     "data": {
      "text/plain": [
       "4"
      ]
     },
     "execution_count": 2,
     "metadata": {},
     "output_type": "execute_result"
    }
   ],
   "source": [
    "m=map(dolar,numeros)\n",
    "next(m)"
   ]
  },
  {
   "cell_type": "code",
   "execution_count": 3,
   "id": "4713b56c",
   "metadata": {},
   "outputs": [
    {
     "data": {
      "text/plain": [
       "10"
      ]
     },
     "execution_count": 3,
     "metadata": {},
     "output_type": "execute_result"
    }
   ],
   "source": [
    "next(m)"
   ]
  },
  {
   "cell_type": "code",
   "execution_count": 4,
   "id": "f1b8ad5b",
   "metadata": {},
   "outputs": [
    {
     "data": {
      "text/plain": [
       "20"
      ]
     },
     "execution_count": 4,
     "metadata": {},
     "output_type": "execute_result"
    }
   ],
   "source": [
    "next(m)"
   ]
  },
  {
   "cell_type": "code",
   "execution_count": 5,
   "id": "26f03de1",
   "metadata": {},
   "outputs": [
    {
     "data": {
      "text/plain": [
       "[4, 10, 20, 46, 100, 66]"
      ]
     },
     "execution_count": 5,
     "metadata": {},
     "output_type": "execute_result"
    }
   ],
   "source": [
    "m=map(dolar,numeros)\n",
    "list(m)"
   ]
  },
  {
   "cell_type": "code",
   "execution_count": 6,
   "id": "db539684",
   "metadata": {},
   "outputs": [
    {
     "data": {
      "text/plain": [
       "[4, 10, 20, 46, 100, 66]"
      ]
     },
     "execution_count": 6,
     "metadata": {},
     "output_type": "execute_result"
    }
   ],
   "source": [
    "#funciones anonimas \n",
    "list(map(lambda x: x*2,numeros))"
   ]
  },
  {
   "cell_type": "code",
   "execution_count": 7,
   "id": "299d4f95",
   "metadata": {},
   "outputs": [
    {
     "data": {
      "text/plain": [
       "[6, 14, 24, 36, 50]"
      ]
     },
     "execution_count": 7,
     "metadata": {},
     "output_type": "execute_result"
    }
   ],
   "source": [
    "#se utiliza mucho la funcion map con lambda para evitar escribir bucles for\n",
    "#ademas se puede usar en varios iterables \n",
    "\n",
    "a=[1,2,3,4,5]\n",
    "b=[6,7,8,9,10]\n",
    "\n",
    "#Estructura \n",
    "list(map(lambda x, y: x*y, a,b))"
   ]
  },
  {
   "cell_type": "code",
   "execution_count": 8,
   "id": "816d94fd",
   "metadata": {},
   "outputs": [
    {
     "data": {
      "text/plain": [
       "[66, 168, 312, 504, 750]"
      ]
     },
     "execution_count": 8,
     "metadata": {},
     "output_type": "execute_result"
    }
   ],
   "source": [
    "c=[11,12,13,14,15]\n",
    "list(map(lambda x,y,z: x*y*z ,a,b,c))"
   ]
  },
  {
   "cell_type": "code",
   "execution_count": 13,
   "id": "4f0088ab",
   "metadata": {},
   "outputs": [],
   "source": [
    "class Persona:\n",
    "    \n",
    "    def __init__(self,nombre,edad):\n",
    "        self.nombre=nombre\n",
    "        self.edad=edad\n",
    "        \n",
    "    def __str__(self):\n",
    "        return \"{} de {} años \".format(self.nombre,self.edad)\n",
    "\n",
    "personas=[\n",
    "    Persona(\"Juan\",35),\n",
    "    Persona(\"Jesus\",16),\n",
    "    Persona(\"Manuel\",61),\n",
    "    Persona(\"Eduardo\",17)\n",
    "]\n"
   ]
  },
  {
   "cell_type": "code",
   "execution_count": 14,
   "id": "4bb0a85a",
   "metadata": {},
   "outputs": [],
   "source": [
    "#Creamos esta funcion para incrementar la edad de las personas\n",
    "#y devolvemos un objeto de persona\n",
    "def incrementar(persona):\n",
    "    persona.edad+=1\n",
    "    return persona\n",
    "\n",
    "#usamos la funcion map(le pasamos la funcion incrementar,lista personas) \n",
    "personas=map(incrementar,personas)\n",
    "\n"
   ]
  },
  {
   "cell_type": "code",
   "execution_count": 15,
   "id": "d59bda80",
   "metadata": {},
   "outputs": [
    {
     "name": "stdout",
     "output_type": "stream",
     "text": [
      "Juan de 36 años \n",
      "Jesus de 17 años \n",
      "Manuel de 62 años \n",
      "Eduardo de 18 años \n"
     ]
    }
   ],
   "source": [
    "#recorremmos nuestra variable personas\n",
    "for persona in personas:\n",
    "    print(persona)#mostrarmos los datos de persona \n",
    "    #y incremento un año las edades  "
   ]
  }
 ],
 "metadata": {
  "kernelspec": {
   "display_name": "Python 3 (ipykernel)",
   "language": "python",
   "name": "python3"
  },
  "language_info": {
   "codemirror_mode": {
    "name": "ipython",
    "version": 3
   },
   "file_extension": ".py",
   "mimetype": "text/x-python",
   "name": "python",
   "nbconvert_exporter": "python",
   "pygments_lexer": "ipython3",
   "version": "3.10.8"
  }
 },
 "nbformat": 4,
 "nbformat_minor": 5
}
