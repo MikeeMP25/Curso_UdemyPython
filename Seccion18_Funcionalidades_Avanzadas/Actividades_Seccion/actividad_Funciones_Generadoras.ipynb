{
 "cells": [
  {
   "cell_type": "markdown",
   "id": "401fd212",
   "metadata": {},
   "source": [
    "# Funciones generadoras"
   ]
  },
  {
   "cell_type": "markdown",
   "id": "187f6b7a",
   "metadata": {},
   "source": [
    "Crea una funcion generadora llamada cuadrados(numero)que a partir de un numero genere todos los numeros de 1 a X (ambos incluidos)y sus potencias de dos.\n",
    "\n",
    "Ejemplo de la conversion del generador a lista:    \n",
    "list(cuadrados(5))  \n",
    "Devolvera:   \n",
    "[(1,1),(2,4),(3,9),(4,16),(5,25)]"
   ]
  },
  {
   "cell_type": "code",
   "execution_count": 3,
   "id": "4c515a76",
   "metadata": {},
   "outputs": [
    {
     "data": {
      "text/plain": [
       "<generator object cuadrados at 0x105ecb920>"
      ]
     },
     "execution_count": 3,
     "metadata": {},
     "output_type": "execute_result"
    }
   ],
   "source": [
    "#Esta es mi funcion generadora de numeros con sus potencias de dos  \n",
    "def cuadrados(numero):\n",
    "    for numeros in range(1,numero+1):\n",
    "        yield numeros,numeros**2\n",
    "cuadrados(5)        "
   ]
  },
  {
   "cell_type": "code",
   "execution_count": 2,
   "id": "748c24d3",
   "metadata": {},
   "outputs": [
    {
     "data": {
      "text/plain": [
       "[(1, 1), (2, 4), (3, 9), (4, 16), (5, 25)]"
      ]
     },
     "execution_count": 2,
     "metadata": {},
     "output_type": "execute_result"
    }
   ],
   "source": [
    "[numero for numero in cuadrados(5)]"
   ]
  }
 ],
 "metadata": {
  "kernelspec": {
   "display_name": "Python 3 (ipykernel)",
   "language": "python",
   "name": "python3"
  },
  "language_info": {
   "codemirror_mode": {
    "name": "ipython",
    "version": 3
   },
   "file_extension": ".py",
   "mimetype": "text/x-python",
   "name": "python",
   "nbconvert_exporter": "python",
   "pygments_lexer": "ipython3",
   "version": "3.10.8"
  }
 },
 "nbformat": 4,
 "nbformat_minor": 5
}
