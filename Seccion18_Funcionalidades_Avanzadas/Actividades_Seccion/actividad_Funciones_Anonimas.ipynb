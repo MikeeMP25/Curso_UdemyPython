{
 "cells": [
  {
   "cell_type": "markdown",
   "id": "5355d149",
   "metadata": {},
   "source": [
    "# Funciones anónimas  \n",
    "Utilizando dos funciones anonimas anidadas en una sola linea, debes:\n",
    "   1. Mapear una lista llamada numeros de la cual no concoes su contenido  y dividir sus valores entre 2.\n",
    "   2. A su vez debes filtrar el resultado de esa lista mapeada y eliminar los numeros que no sean multiples de 5.\n",
    "\n",
    "El resultado final sera una lista cuyos numeros son la mitad de los originales y solo quedaran los que sean multiples de 5."
   ]
  },
  {
   "cell_type": "code",
   "execution_count": 1,
   "id": "c2bf31d2",
   "metadata": {},
   "outputs": [
    {
     "name": "stdout",
     "output_type": "stream",
     "text": [
      "[0.0, 5.0, 10.0, 15.0, 20.0, 25.0]\n"
     ]
    }
   ],
   "source": [
    "#from evaluate import numeros\n",
    "\n",
    "numeros=[]\n",
    "for numero in range(0,51):\n",
    "    numeros.append(numero)\n",
    "\n",
    "def mapear(numero):\n",
    "    return numero/2\n",
    "\n",
    "def eliminar(numero):\n",
    "    if numero %5==0:\n",
    "        return True\n",
    "\n",
    "num=list(filter(lambda numero: numero % 5 == 0, map(lambda num: num/2,numeros)))\n",
    "\n",
    "print(num)"
   ]
  },
  {
   "cell_type": "code",
   "execution_count": null,
   "id": "8a6256ed",
   "metadata": {},
   "outputs": [],
   "source": []
  }
 ],
 "metadata": {
  "kernelspec": {
   "display_name": "Python 3 (ipykernel)",
   "language": "python",
   "name": "python3"
  },
  "language_info": {
   "codemirror_mode": {
    "name": "ipython",
    "version": 3
   },
   "file_extension": ".py",
   "mimetype": "text/x-python",
   "name": "python",
   "nbconvert_exporter": "python",
   "pygments_lexer": "ipython3",
   "version": "3.10.8"
  }
 },
 "nbformat": 4,
 "nbformat_minor": 5
}
